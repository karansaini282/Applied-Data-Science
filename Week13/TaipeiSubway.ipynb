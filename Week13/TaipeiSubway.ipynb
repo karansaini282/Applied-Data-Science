{
 "cells": [
  {
   "cell_type": "code",
   "execution_count": 36,
   "metadata": {},
   "outputs": [],
   "source": [
    "import matplotlib.pyplot as plt\n",
    "import seaborn as sbn\n",
    "%matplotlib inline\n",
    "import pandas as pd\n",
    "import numpy as np\n",
    "import pickle\n",
    "import datetime\n",
    "from sklearn.mixture import GaussianMixture "
   ]
  },
  {
   "cell_type": "markdown",
   "metadata": {},
   "source": [
    "****** PREPROCESSING NETWORK DATA ********"
   ]
  },
  {
   "cell_type": "code",
   "execution_count": 3,
   "metadata": {},
   "outputs": [],
   "source": [
    "#read the data\n",
    "workfolder='data/';\n",
    "TNet=pd.read_csv(workfolder+'taipeiD_TNet2.csv',header=-1);"
   ]
  },
  {
   "cell_type": "code",
   "execution_count": 4,
   "metadata": {},
   "outputs": [],
   "source": [
    "#split into train and test\n",
    "X=np.array(TNet);"
   ]
  },
  {
   "cell_type": "code",
   "execution_count": 5,
   "metadata": {},
   "outputs": [],
   "source": [
    "for i in range(X.shape[1]):\n",
    "    X[:,i]=(X[:,i]-X[:,i].min())/(X[:,i].max()-X[:,i].min())"
   ]
  },
  {
   "cell_type": "code",
   "execution_count": 6,
   "metadata": {},
   "outputs": [],
   "source": [
    "def save(filename,X):\n",
    "    outfile = open(filename,'wb')\n",
    "    pickle.dump(X,outfile)\n",
    "    outfile.close()"
   ]
  },
  {
   "cell_type": "code",
   "execution_count": 7,
   "metadata": {},
   "outputs": [],
   "source": [
    "def load(filename):\n",
    "    infile = open(filename,'rb')\n",
    "    X=pickle.load(infile)\n",
    "    infile.close()\n",
    "    return X"
   ]
  },
  {
   "cell_type": "code",
   "execution_count": 8,
   "metadata": {},
   "outputs": [],
   "source": [
    "save('TaipeiExchange1.pkl',X)"
   ]
  },
  {
   "cell_type": "code",
   "execution_count": 9,
   "metadata": {},
   "outputs": [],
   "source": [
    "#XS=np.argsort(X,axis=0)"
   ]
  },
  {
   "cell_type": "code",
   "execution_count": 10,
   "metadata": {},
   "outputs": [],
   "source": [
    "#from sklearn import preprocessing\n",
    "#scaler = preprocessing.StandardScaler().fit(x_train)\n",
    "#X=scaler.transform(X)"
   ]
  },
  {
   "cell_type": "markdown",
   "metadata": {},
   "source": [
    "***** EVENTS DATA *******"
   ]
  },
  {
   "cell_type": "code",
   "execution_count": 11,
   "metadata": {},
   "outputs": [],
   "source": [
    "events=pd.read_csv(workfolder+'holidays.csv');"
   ]
  },
  {
   "cell_type": "code",
   "execution_count": 12,
   "metadata": {},
   "outputs": [
    {
     "data": {
      "text/html": [
       "<div>\n",
       "<style scoped>\n",
       "    .dataframe tbody tr th:only-of-type {\n",
       "        vertical-align: middle;\n",
       "    }\n",
       "\n",
       "    .dataframe tbody tr th {\n",
       "        vertical-align: top;\n",
       "    }\n",
       "\n",
       "    .dataframe thead th {\n",
       "        text-align: right;\n",
       "    }\n",
       "</style>\n",
       "<table border=\"1\" class=\"dataframe\">\n",
       "  <thead>\n",
       "    <tr style=\"text-align: right;\">\n",
       "      <th></th>\n",
       "      <th>Date</th>\n",
       "      <th>Weekday</th>\n",
       "      <th>Holiday Name</th>\n",
       "      <th>Holiday Type</th>\n",
       "    </tr>\n",
       "  </thead>\n",
       "  <tbody>\n",
       "    <tr>\n",
       "      <th>0</th>\n",
       "      <td>1/1/2017</td>\n",
       "      <td>Sunday</td>\n",
       "      <td>Republic Day/New Year's Day</td>\n",
       "      <td>National holiday</td>\n",
       "    </tr>\n",
       "    <tr>\n",
       "      <th>1</th>\n",
       "      <td>1/2/2017</td>\n",
       "      <td>Monday</td>\n",
       "      <td>Republic Day/New Year's Day observed</td>\n",
       "      <td>National holiday</td>\n",
       "    </tr>\n",
       "    <tr>\n",
       "      <th>2</th>\n",
       "      <td>1/27/2017</td>\n",
       "      <td>Friday</td>\n",
       "      <td>Chinese New Year's Eve</td>\n",
       "      <td>National holiday</td>\n",
       "    </tr>\n",
       "    <tr>\n",
       "      <th>3</th>\n",
       "      <td>1/28/2017</td>\n",
       "      <td>Saturday</td>\n",
       "      <td>Chinese New Year's Day</td>\n",
       "      <td>National holiday</td>\n",
       "    </tr>\n",
       "    <tr>\n",
       "      <th>4</th>\n",
       "      <td>1/29/2017</td>\n",
       "      <td>Sunday</td>\n",
       "      <td>Chinese New Year Holiday 1</td>\n",
       "      <td>National holiday</td>\n",
       "    </tr>\n",
       "  </tbody>\n",
       "</table>\n",
       "</div>"
      ],
      "text/plain": [
       "        Date   Weekday                          Holiday Name      Holiday Type\n",
       "0   1/1/2017    Sunday           Republic Day/New Year's Day  National holiday\n",
       "1   1/2/2017    Monday  Republic Day/New Year's Day observed  National holiday\n",
       "2  1/27/2017    Friday                Chinese New Year's Eve  National holiday\n",
       "3  1/28/2017  Saturday                Chinese New Year's Day  National holiday\n",
       "4  1/29/2017    Sunday            Chinese New Year Holiday 1  National holiday"
      ]
     },
     "execution_count": 12,
     "metadata": {},
     "output_type": "execute_result"
    }
   ],
   "source": [
    "events.head()"
   ]
  },
  {
   "cell_type": "code",
   "execution_count": 13,
   "metadata": {},
   "outputs": [],
   "source": [
    "events.Date=pd.to_datetime(events.Date)"
   ]
  },
  {
   "cell_type": "code",
   "execution_count": 14,
   "metadata": {},
   "outputs": [],
   "source": [
    "events=events.loc[events.Date<datetime.datetime(2018,10,31)]"
   ]
  },
  {
   "cell_type": "code",
   "execution_count": 15,
   "metadata": {},
   "outputs": [],
   "source": [
    "events['Day']=(events.Date-datetime.datetime(2017,1,1)).dt.days"
   ]
  },
  {
   "cell_type": "code",
   "execution_count": 16,
   "metadata": {},
   "outputs": [
    {
     "data": {
      "text/html": [
       "<div>\n",
       "<style scoped>\n",
       "    .dataframe tbody tr th:only-of-type {\n",
       "        vertical-align: middle;\n",
       "    }\n",
       "\n",
       "    .dataframe tbody tr th {\n",
       "        vertical-align: top;\n",
       "    }\n",
       "\n",
       "    .dataframe thead th {\n",
       "        text-align: right;\n",
       "    }\n",
       "</style>\n",
       "<table border=\"1\" class=\"dataframe\">\n",
       "  <thead>\n",
       "    <tr style=\"text-align: right;\">\n",
       "      <th></th>\n",
       "      <th>Date</th>\n",
       "      <th>Weekday</th>\n",
       "      <th>Holiday Name</th>\n",
       "      <th>Holiday Type</th>\n",
       "      <th>Day</th>\n",
       "    </tr>\n",
       "  </thead>\n",
       "  <tbody>\n",
       "    <tr>\n",
       "      <th>0</th>\n",
       "      <td>2017-01-01</td>\n",
       "      <td>Sunday</td>\n",
       "      <td>Republic Day/New Year's Day</td>\n",
       "      <td>National holiday</td>\n",
       "      <td>0</td>\n",
       "    </tr>\n",
       "    <tr>\n",
       "      <th>1</th>\n",
       "      <td>2017-01-02</td>\n",
       "      <td>Monday</td>\n",
       "      <td>Republic Day/New Year's Day observed</td>\n",
       "      <td>National holiday</td>\n",
       "      <td>1</td>\n",
       "    </tr>\n",
       "    <tr>\n",
       "      <th>2</th>\n",
       "      <td>2017-01-27</td>\n",
       "      <td>Friday</td>\n",
       "      <td>Chinese New Year's Eve</td>\n",
       "      <td>National holiday</td>\n",
       "      <td>26</td>\n",
       "    </tr>\n",
       "    <tr>\n",
       "      <th>3</th>\n",
       "      <td>2017-01-28</td>\n",
       "      <td>Saturday</td>\n",
       "      <td>Chinese New Year's Day</td>\n",
       "      <td>National holiday</td>\n",
       "      <td>27</td>\n",
       "    </tr>\n",
       "    <tr>\n",
       "      <th>4</th>\n",
       "      <td>2017-01-29</td>\n",
       "      <td>Sunday</td>\n",
       "      <td>Chinese New Year Holiday 1</td>\n",
       "      <td>National holiday</td>\n",
       "      <td>28</td>\n",
       "    </tr>\n",
       "  </tbody>\n",
       "</table>\n",
       "</div>"
      ],
      "text/plain": [
       "        Date   Weekday                          Holiday Name  \\\n",
       "0 2017-01-01    Sunday           Republic Day/New Year's Day   \n",
       "1 2017-01-02    Monday  Republic Day/New Year's Day observed   \n",
       "2 2017-01-27    Friday                Chinese New Year's Eve   \n",
       "3 2017-01-28  Saturday                Chinese New Year's Day   \n",
       "4 2017-01-29    Sunday            Chinese New Year Holiday 1   \n",
       "\n",
       "       Holiday Type  Day  \n",
       "0  National holiday    0  \n",
       "1  National holiday    1  \n",
       "2  National holiday   26  \n",
       "3  National holiday   27  \n",
       "4  National holiday   28  "
      ]
     },
     "execution_count": 16,
     "metadata": {},
     "output_type": "execute_result"
    }
   ],
   "source": [
    "events.head()"
   ]
  },
  {
   "cell_type": "code",
   "execution_count": 17,
   "metadata": {},
   "outputs": [],
   "source": [
    "holidays=events.Day[events['Holiday Type']=='National holiday']"
   ]
  },
  {
   "cell_type": "code",
   "execution_count": 18,
   "metadata": {},
   "outputs": [
    {
     "data": {
      "text/plain": [
       "31"
      ]
     },
     "execution_count": 18,
     "metadata": {},
     "output_type": "execute_result"
    }
   ],
   "source": [
    "len(holidays)"
   ]
  },
  {
   "cell_type": "code",
   "execution_count": 19,
   "metadata": {},
   "outputs": [],
   "source": [
    "otherevents=events.Day[events['Holiday Type']!='National holiday']"
   ]
  },
  {
   "cell_type": "code",
   "execution_count": 20,
   "metadata": {},
   "outputs": [
    {
     "data": {
      "text/plain": [
       "63"
      ]
     },
     "execution_count": 20,
     "metadata": {},
     "output_type": "execute_result"
    }
   ],
   "source": [
    "len(otherevents)"
   ]
  },
  {
   "cell_type": "markdown",
   "metadata": {},
   "source": [
    "******* READ THE TRANSFORMED NETWORK DATA IN REPRESENTATION FEATURE SPACE ********"
   ]
  },
  {
   "cell_type": "code",
   "execution_count": 72,
   "metadata": {},
   "outputs": [],
   "source": [
    "#load the coded data\n",
    "y=load('Tapeiexchange2.pkl')"
   ]
  },
  {
   "cell_type": "code",
   "execution_count": 73,
   "metadata": {},
   "outputs": [],
   "source": [
    "y=y[:,abs(y).sum(axis=0)>0]"
   ]
  },
  {
   "cell_type": "code",
   "execution_count": 59,
   "metadata": {},
   "outputs": [],
   "source": [
    "#try PCA as an alternative\n",
    "from sklearn import preprocessing\n",
    "from sklearn.decomposition import PCA\n",
    "Xs=preprocessing.StandardScaler().fit_transform(X)\n",
    "pca = PCA(11) \n",
    "y = pca.fit_transform(Xs)\n",
    "#y=preprocessing.StandardScaler().fit_transform(y)"
   ]
  },
  {
   "cell_type": "code",
   "execution_count": 74,
   "metadata": {},
   "outputs": [
    {
     "data": {
      "text/plain": [
       "(669, 11)"
      ]
     },
     "execution_count": 74,
     "metadata": {},
     "output_type": "execute_result"
    }
   ],
   "source": [
    "y.shape"
   ]
  },
  {
   "cell_type": "code",
   "execution_count": 75,
   "metadata": {},
   "outputs": [
    {
     "data": {
      "text/plain": [
       "<matplotlib.collections.PathCollection at 0x1a26163f90>"
      ]
     },
     "execution_count": 75,
     "metadata": {},
     "output_type": "execute_result"
    },
    {
     "data": {
      "image/png": "[encoded data removed]",
      "text/plain": [
       "<Figure size 432x288 with 1 Axes>"
      ]
     },
     "metadata": {
      "needs_background": "light"
     },
     "output_type": "display_data"
    }
   ],
   "source": [
    "#the data appers to show some clustering. Why do you think is that?\n",
    "plt.scatter(y[:,3],y[:,4])"
   ]
  },
  {
   "cell_type": "code",
   "execution_count": 76,
   "metadata": {},
   "outputs": [
    {
     "data": {
      "text/plain": [
       "<matplotlib.collections.PathCollection at 0x1a266d1450>"
      ]
     },
     "execution_count": 76,
     "metadata": {},
     "output_type": "execute_result"
    },
    {
     "data": {
      "image/png": "[encoded data removed]",
      "text/plain": [
       "<Figure size 432x288 with 1 Axes>"
      ]
     },
     "metadata": {
      "needs_background": "light"
     },
     "output_type": "display_data"
    }
   ],
   "source": [
    "#see how holidays appear in this new feature space\n",
    "plt.figure()\n",
    "features=[3,4]\n",
    "plt.scatter(y[:,features[0]],y[:,features[1]])\n",
    "plt.scatter(y[holidays,features[0]],y[holidays,features[1]])"
   ]
  },
  {
   "cell_type": "markdown",
   "metadata": {},
   "source": [
    "Clearly holidays demonstrate some patter, but holiday recognition might need to be done in each cluster separately. So we'll cluster the data first"
   ]
  },
  {
   "cell_type": "code",
   "execution_count": 77,
   "metadata": {},
   "outputs": [],
   "source": [
    "pval=0.2 #sensitivity of anomaly detection; percentage of the most anomalous days to take"
   ]
  },
  {
   "cell_type": "code",
   "execution_count": 78,
   "metadata": {},
   "outputs": [
    {
     "name": "stdout",
     "output_type": "stream",
     "text": [
      "Iteration 1\n",
      "Iteration 2\n",
      "Iteration 3\n",
      "Iteration 4\n",
      "Iteration 5\n",
      "Convergence in 5 iterations\n"
     ]
    }
   ],
   "source": [
    "iterN=20\n",
    "rind=y[:,0]>-10 #index of regular (non-outlier points)\n",
    "gm=GaussianMixture(n_components=3,n_init=100,max_iter=1000,random_state=0) #clustering model\n",
    "for i in range(iterN): #iterate\n",
    "  print('Iteration {}'.format(i+1))  \n",
    "  clustering=gm.fit(y[rind,:]) #fit EM clustering model excluding outliers\n",
    "  l=clustering.score_samples(y) #estimate likelihood for each point\n",
    "  Lthres=sorted(l)[int(len(l)*pval)] #anomaly threshold\n",
    "  rind0=0+rind\n",
    "  rind=l>Lthres #non-anomalous points\n",
    "  if all(rind==rind0):\n",
    "        print('Convergence in {} iterations'.format(i+1))\n",
    "        break"
   ]
  },
  {
   "cell_type": "code",
   "execution_count": 79,
   "metadata": {},
   "outputs": [
    {
     "name": "stdout",
     "output_type": "stream",
     "text": [
      "Anomaly frequency among holidays=96.77%\n"
     ]
    }
   ],
   "source": [
    "print('Anomaly frequency among holidays={0:.2f}%'.format(100.0*sum(l[holidays]<=Lthres)/len(holidays)))"
   ]
  },
  {
   "cell_type": "code",
   "execution_count": 80,
   "metadata": {},
   "outputs": [
    {
     "name": "stdout",
     "output_type": "stream",
     "text": [
      "Anomaly frequency among observances=25.40%\n"
     ]
    }
   ],
   "source": [
    "print('Anomaly frequency among observances={0:.2f}%'.format(100.0*sum(l[otherevents]<=Lthres)/len(otherevents)))"
   ]
  },
  {
   "cell_type": "code",
   "execution_count": 81,
   "metadata": {},
   "outputs": [
    {
     "name": "stdout",
     "output_type": "stream",
     "text": [
      "Anomaly frequency among other days=16.14%\n"
     ]
    }
   ],
   "source": [
    "print('Anomaly frequency among other days={0:.2f}%'.format(100.0*(sum(l<Lthres)-sum(l[holidays]<=Lthres))/(len(l)-len(holidays))))"
   ]
  },
  {
   "cell_type": "code",
   "execution_count": null,
   "metadata": {},
   "outputs": [],
   "source": []
  }
 ],
 "metadata": {
  "kernelspec": {
   "display_name": "Python 3",
   "language": "python",
   "name": "python3"
  },
  "language_info": {
   "codemirror_mode": {
    "name": "ipython",
    "version": 2
   },
   "file_extension": ".py",
   "mimetype": "text/x-python",
   "name": "python",
   "nbconvert_exporter": "python",
   "pygments_lexer": "ipython2",
   "version": "2.7.15"
  }
 },
 "nbformat": 4,
 "nbformat_minor": 2
}
