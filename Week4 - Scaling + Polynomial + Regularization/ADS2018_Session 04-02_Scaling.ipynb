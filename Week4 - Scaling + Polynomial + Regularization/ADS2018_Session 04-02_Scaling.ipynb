{
 "cells": [
  {
   "cell_type": "markdown",
   "metadata": {},
   "source": [
    "# Hypothesis testing and urban scaling laws"
   ]
  },
  {
   "cell_type": "markdown",
   "metadata": {},
   "source": [
    "## Probabilistic approach to the linear regression\n",
    "\n",
    "When fitting a linear model one should admit that the model's accuracy is not absolute: \n",
    "$$\n",
    "y=w_1 x + w_0 +\\varepsilon,\\hspace{5ex} (1)\n",
    "$$\n",
    "where $\\varepsilon$ is the model's error (often called noise or residual) or \n",
    "$$\n",
    "y=w^T x +\\varepsilon,\\hspace{5ex} (2)\n",
    "$$\n",
    "for the multivariate case with $x$ being an $n$-dimentional vector.\n",
    "\n",
    "Uncertainty of the model (1) prediction can be expressed by considering $\\varepsilon$ as a random variable representing deviations of the actual values of $y$ from the estimates provided by the precise linear model. A basic assumption is to have $\\varepsilon\\sim{\\cal N}(0,\\sigma^2)$ (mean is zero as otherwise the intercept term $w_0$ could be corrected accordingly). \n",
    "\n",
    "Often observations $y_i,x_i$ are spread in time ($i$ - could be time of the observation). \n",
    "Classical regression assumptions (Gauss-Markov): $\\sigma$ is the same for all observations (does not depend on time) and errors $\\varepsilon_i$ following ${\\cal N}(0,\\sigma^2)$ are mutually uncorrelated, i.e. $cov(\\epsilon_i,\\epsilon_j)=0$ for $i\\neq j$. \n",
    "\n",
    "An alternative way of representing this linear model is by considering $y$ as a random variable and expressing it's conditional probability density function with respect to given $x$ and $w$ as\n",
    "$$\n",
    "p(y|x,w)={\\cal N}(y|w_1 x+w_0,\\sigma^2).\\hspace{5ex} (3)\n",
    "$$\n",
    "\n",
    "This way it is actually the mean of the distribution (3) which is predicted by a linear model.\n",
    "Now the problem is to fit unknown parameters of the model $w_1,w_0,\\sigma$ (the last one $\\sigma$ represents how usually close are the values of $y$ to the linear prediction), so that the model is the most consistent with the training data $\\{(x_j,y_j), j=1..N\\}$.\n",
    "\n",
    "Fitting could be done through maximizing the likelihood that the observed data $y_j$ actually follows the suggested distribution (3). Likelihood is defined as a product of probability density values $\\prod\\limits_j p(y_j|x_j)$. But it's actually more practical to maximize the log-likelihood (which is equivalent):\n",
    "$$\n",
    "\\log\\left(\\prod\\limits_j p(y_j|x_j)\\right)=\\sum\\limits_j \\log\\left({\\cal N}(y|w_1 x+w_0,\\sigma^2)\\right)=\n",
    "$$$$\n",
    "=-\\sum\\limits_j \\frac{(y_j-w_1 x_j+w_0)^2}{2\\sigma^2}- N \\log(\\sigma)-N \\log(\\sqrt{2\\pi})\\to\\max\n",
    "$$\n",
    "Optimization with respect to $w$ turns out to be equivalent to the above least-square minimization. Then for minimal $RSS(\\hat{w})$ acheived, $\\sigma$ could be found from\n",
    "$$\n",
    "\\frac{RSS(\\hat{w})}{2\\sigma^2}+N\\log(\\sigma)\\to\\min\n",
    "$$$$\n",
    "\\frac{\\partial\\frac{RSS(\\hat{w})}{2\\sigma^2}+N\\log(\\sigma)}{\\partial \\sigma}=0,\n",
    "$$$$\n",
    "-\\frac{RSS(\\hat{w})}{\\sigma^3}+\\frac{N}{\\sigma}=0,\n",
    "$$$$\n",
    "\\sigma^2=\\frac{RSS(\\hat{w})}{N}.\n",
    "$$\n",
    "However often in order to account for the actual number of degrees of freedom in the model which is $N-2$ rather than $N$, the adjusted version of the above estimate is being used:\n",
    "$$\n",
    "\\sigma^2=\\frac{RSS(\\hat{w})}{N-2}\n",
    "$$\n",
    "\n",
    "In case of the multi-variate regression the probabilistic view on the model in the assumption that $\\varepsilon\\sim {\\cal N}(0,\\sigma^2)$ is\n",
    "$$\n",
    "p(y|x,w,\\sigma)={\\cal N}(y|w^T x,\\sigma^2)\\hspace{5ex} (4).\n",
    "$$\n",
    "\n",
    "Given a training set $X=\\{(x_j^i), j=1...n, i=1...N\\}$, $Y=\\{(y^i), i=1...N\\}$ (further also denote columns of $X$ as $X_j=\\{(x_j^i), i=1...N\\}$), the max-likelihood criteria will take form:\n",
    "$$\n",
    "\\prod\\limits_i p(y^i|x^i,w,\\sigma)\\to \\max.\n",
    "$$\n",
    "or\n",
    "$$\n",
    "\\log\\left(\\prod\\limits_i p(y^i|x^i,w,\\sigma)\\right)=\\sum\\limits_i \\log\\left({\\cal N}(y^i|w^T x^i,\\sigma^2)\\right)=\n",
    "$$$$\n",
    "=-\\sum\\limits_i \\frac{(y^i-w^T x^i)^2}{2\\sigma^2}- N \\log(\\sigma)-N \\log(\\sqrt{2\\pi})=-\\frac{RSS(w)}{2\\sigma^2}-N \\log(\\sigma)-N \\to\\max\n",
    "$$\n",
    "Which is in turn equivalent to\n",
    "$$\n",
    "RSS(w)\\to \\min,\n",
    "$$\n",
    "i.e. least-square criteria plus (just like in case of the bi-variate regression)\n",
    "$$\n",
    "\\frac{RSS(\\hat{w})}{2\\sigma^2}+N\\log(\\sigma)\\to\\min,\n",
    "$$\n",
    "i.e. the estimate $\\hat{\\sigma}$ could be found as\n",
    "$$\n",
    "\\frac{\\partial\\left[\\frac{RSS(\\hat{w})}{2\\sigma^2}+N\\log(\\hat{\\sigma})\\right]}{\\partial \\hat{\\sigma}}=0,\n",
    "$$$$\n",
    "-\\frac{RSS(\\hat{w})}{\\hat{\\sigma}^3}+\\frac{N}{\\hat{\\sigma}}=0,\n",
    "$$$$\n",
    "\\hat{\\sigma}^2=\\frac{RSS(\\hat{w})}{N}. \\hspace{5ex} (5)\n",
    "$$\n",
    "\n",
    "Also an unbiased adjusted estimate is known to be\n",
    "$$\n",
    "\\hat{\\sigma}^2=\\frac{RSS(\\hat{w})}{N-n}. \\hspace{5ex} (5')\n",
    "$$\n",
    "\n",
    "\n",
    "### Confidence intervals\n",
    "Uncertainty of the model predictions comes together with the uncertainty of the estimate for the model's coefficients estimates $w$. If we start from uncertainty of $y$ taking the observations for the output variable as normally distributed random variables, this leads to a multinomial normal distribution\n",
    "$$\n",
    "w\\sim{\\cal N}(\\hat{w},\\sigma^2(X^T X)^{-1})\n",
    "$$\n",
    "with an average $E[w]=\\hat{w}$ and a variance-covariance matrix \n",
    "$$\n",
    "Var(w)=\\sigma^2(X^T X)^{-1}.\n",
    "$$\n",
    "However while using an estimate (5') for $\\sigma=\\hat{\\sigma}=\\sqrt{\\frac{RSS(\\hat{w})}{N-n}}$ we also have to admit its uncertainty rather than having $\\sigma$ fixed which does not allow to consider a normal distribution for $w$ anymore. Instead one can have a Student's $t$-distributions with $N-n$ degrees of freedom for the standardized quantities\n",
    "$$\n",
    "z_j=\\frac{w_j-\\hat{w_j}}{\\hat{\\sigma} \\sqrt{h_j}},\n",
    "$$\n",
    "where $h_j$ are the $j$-the diagonal elements of the matrix $(X^T X)^{-1}$.\n",
    "\n",
    "This way the confidence intervals for each $\\hat{w}_j$ given the confidence level $1-\\alpha$ are constructred as\n",
    "$$\n",
    "P\\left(w_j\\in[\\hat{w}_j-t_{\\alpha/2}\\sigma\\sqrt{h_j},\\hat{w}_j+t_{\\alpha/2}\\sigma\\sqrt{h_j}]\\right)=1-\\alpha\n",
    "$$\n",
    "where $t_{\\alpha/2}$ are quantiles of the $t$-distribution, i.e. such values that\n",
    "$$\n",
    "P(|z_j|\\leq t_{\\alpha/2})=1-\\alpha\n",
    "$$\n",
    "\n",
    "\n",
    "### Hypothesis testing: P-values, t-statistics\n",
    "\n",
    "Considering the statistical significance of each regressor $w_j$ we evaluate the hypothesis\n",
    "$$\n",
    "H_1:w_j\\neq w_j^0\n",
    "$$\n",
    "vs a null-hypothesis\n",
    "$$\n",
    "H_0:w_j=w_j^0.\n",
    "$$\n",
    "When $w_j^0=0$ this means that we are trying to validate the statistical significance of the non-zero impact of the considered regressor $w_j$. For that purpose we consider a $t$-statistics\n",
    "$$\n",
    "t=\\frac{w_j-w_j^0}{\\hat{\\sigma} \\sqrt{h_j}}.\n",
    "$$\n",
    "If $|t|>t_{\\alpha/2}$ this means that the hypothesis $H_0$ is too unlikely and should be rejected with the confidence level $1-\\alpha$.\n",
    "\n",
    "A $p$-value on the other hand is virtually speaking giving us such an $\\alpha$ based on the observed $t$, i.e. expressed the probability\n",
    "$$\n",
    "P(|z|>|t|)\n",
    "$$\n",
    "of having a $z$ randomly produced by the distribution corresponding to the null-hypothesis value $w_j=w_j^0$ with even higher $|z|$ compared to the observed $|t|$. This can be interpreted as a likelihood that the observed value of $t$ is got just by chance given $w_j=w_j^0$. If this likelihood is lower than a certain threshold value (usually $5\\%$) this is interpreted as having an equation $w_j=w_j^0$ too unlikely, i.e. having to reject the hypothesis $H_0$. Otherwise, if $p-value$ is higher than a threshold value ($>5\\%$) this means that the null-hypothesis can not be rejected with sufficient confidence (of at least $95\\%$) so this might be the case that the regressor does not have a significant impact. \n",
    "\n",
    "It is important to understand that $p$-value is not supposed to prove any specific estimate for the coefficient $w_j$ - it can only make us confident (or uncertain on the contrary) that $w_j\\neq 0$ (or different from another value of interest). Also having a low $p$-values do not prove that the impact of $x_i$ on $y$ is actually linear. In turn, having high $p$-value by itself does not prove that $y$ is independent on $x_i$ (first of all - a linear impact could still be there despite being seen as unlikely, just disguised by noise; second - the actual impact could be non-linear, i.e. not subject to being described by a linear model; third - an impact of the considered regressor might be affected by an overlap with the impact of the other regressors, so it might not be impactful after others are considered, but it might still be impactful by itself.\n",
    "\n",
    "Regressors having high $p$-values are usually not included into the final model in order to stay free from the random insignificnt effects, reducing the risk of overfitting. This is however not the only way of fighting it. Also sequentually excluding regressors based on their $p$-values is not necessarily the best way of the feature selection as high $p$-values might result from multicollinearity, i.e. from having an impact of the considered regressor overlap with the impact of others. And it might happen that excluding other regressors in the first place will better help with fighting the overfitting and also might lead to the decrease of the $p$-values of the remaining regressors as a result.\n",
    "\n",
    "### Hypothesis testing: F-statistics\n",
    "\n",
    "However often we need to test the significance of a subgroup of regressors together (or all of the regressors) testing the entire model against the null-hypothesis that a model based on a smaller subset of $m$ regressors (or just the intercept) of the regressors actually performs not worse than the original one.  The following $F$-statistics helps with that:\n",
    "$$\n",
    "F=\\frac{(RSS_0-RSS_1)(N-n)}{RSS_1\\cdot (n-m)},\n",
    "$$\n",
    "where $RSS_1$ is the optimal (least-square) $RSS$ value for the original regression and $RSS_0$ - is the optimal $RSS$ value of the regression based on the considered subset of $m$ regressors (testing the hypothesis that only those $m$ regressors are significant). If we only consider a cumulative impact of all the regressors vs a trivial regression having just the intercept, then $m-1$ and $F$-statitics could be expressed through $R^2$:\n",
    "$$\n",
    "F=\\frac{R^2 (N-n)}{(1-R^2)(n-1)}.\n",
    "$$\n",
    "R and python will report the value of $F$ for the null-hypothesis that only the intercept is significant, as well as the $p$-value characterizing this $F$-statistics.\n",
    "\n",
    "If $F$-statistics above is a critical value corresponding to a certain level of confidence $1-\\alpha$ (or if the corresponding $p$-value is below the threshold $\\alpha$ one rejects the null-hypothesis of having all the considered regressors together insignificant. Otherwise this hypothesis can not be rejected, so it might be the case that regressors do not really have an impact. But once again $F$-statistics can not prove any specific estimates for the coefficients, nor can it prove a linear impact of those regressors."
   ]
  },
  {
   "cell_type": "code",
   "execution_count": 1,
   "metadata": {},
   "outputs": [
    {
     "name": "stdout",
     "output_type": "stream",
     "text": [
      "Populating the interactive namespace from numpy and matplotlib\n"
     ]
    },
    {
     "name": "stderr",
     "output_type": "stream",
     "text": [
      "/Library/Frameworks/Python.framework/Versions/2.7/lib/python2.7/site-packages/matplotlib/__init__.py:878: UserWarning: axes.color_cycle is deprecated and replaced with axes.prop_cycle; please use the latter.\n",
      "  warnings.warn(self.msg_depr % (key, alt_key))\n",
      "WARNING: pylab import has clobbered these variables: ['plt']\n",
      "`%matplotlib` prevents importing * from pylab and numpy\n"
     ]
    }
   ],
   "source": [
    "#loading pandas package to load and clean the data\n",
    "import pandas as pd\n",
    "#importing libraries needed for regression and visualization\n",
    "import numpy as np\n",
    "import seaborn as sns\n",
    "import statsmodels.formula.api as smf\n",
    "import matplotlib.pylab as plt\n",
    "%pylab inline"
   ]
  },
  {
   "cell_type": "markdown",
   "metadata": {},
   "source": [
    "During this lab we will work with American community servey and crime data to establish and visualize relations between wealth, population and crime for US cities."
   ]
  },
  {
   "cell_type": "markdown",
   "metadata": {},
   "source": [
    "## Urban scaling laws\n",
    "\n",
    "According to G.West and colleagues [Bettencourt, L.M., Lobo, J., Helbing, D., Kühnert, C. and West, G.B., 2007. Growth, innovation, scaling, and the pace of life in cities. Proceedings of the national academy of sciences, 104(17), pp.7301-7306.] many urban quantities scale superlinearly or underlinearly with city size. This means they follow the law \n",
    "$$\n",
    "Y\\sim C *{\\rm Population}^q\n",
    "$$ \n",
    "with $q>1$ (for productivity metrics) or $q<1$ (for infrastructural metrics). \n",
    "\n",
    "Meaning that e.g. once the city becomes twice bigger it becomes more than twice wealthier, more innovative etc. And it takes less than twice the amount of infrastructure!\n",
    "\n",
    "Below we will establish a scaling relationship between total income/crime vs population for US cities. \n",
    "\n",
    "And although scaling relationship is non-linear, linear regression can perfectly help. Just take log-scale:\n",
    "$$\n",
    "log(Y)\\sim q log(Population)+log(C)\n",
    "$$\n",
    "and think of it as a bi-variate linear regression of $log(Y)$ vs $log(Population)$ with a slope coefficient $q$ and intercept $log(C)$.\n",
    "\n",
    "We will perform this regression asking a question if $q$ is substantially different from $1$ or if $q=1$ could be the right model? "
   ]
  },
  {
   "cell_type": "markdown",
   "metadata": {},
   "source": [
    "First read the data on MSA's as well as population, income (as per American Community Survey) and crime statistics and aggregate demographics and crime by MSA"
   ]
  },
  {
   "cell_type": "code",
   "execution_count": 2,
   "metadata": {
    "scrolled": true
   },
   "outputs": [
    {
     "data": {
      "text/html": [
       "<div>\n",
       "<table border=\"1\" class=\"dataframe\">\n",
       "  <thead>\n",
       "    <tr style=\"text-align: right;\">\n",
       "      <th></th>\n",
       "      <th>msa</th>\n",
       "      <th>msa_name</th>\n",
       "      <th>Geo_FIPS</th>\n",
       "      <th>county</th>\n",
       "    </tr>\n",
       "  </thead>\n",
       "  <tbody>\n",
       "    <tr>\n",
       "      <th>0</th>\n",
       "      <td>10180</td>\n",
       "      <td>Abilene, TX (Metropolitan Statistical Area)</td>\n",
       "      <td>48059</td>\n",
       "      <td>Callahan, TX</td>\n",
       "    </tr>\n",
       "    <tr>\n",
       "      <th>1</th>\n",
       "      <td>10180</td>\n",
       "      <td>Abilene, TX (Metropolitan Statistical Area)</td>\n",
       "      <td>48253</td>\n",
       "      <td>Jones, TX</td>\n",
       "    </tr>\n",
       "    <tr>\n",
       "      <th>2</th>\n",
       "      <td>10180</td>\n",
       "      <td>Abilene, TX (Metropolitan Statistical Area)</td>\n",
       "      <td>48441</td>\n",
       "      <td>Taylor, TX</td>\n",
       "    </tr>\n",
       "    <tr>\n",
       "      <th>3</th>\n",
       "      <td>10420</td>\n",
       "      <td>Akron, OH (Metropolitan Statistical Area)</td>\n",
       "      <td>39133</td>\n",
       "      <td>Portage, OH</td>\n",
       "    </tr>\n",
       "    <tr>\n",
       "      <th>4</th>\n",
       "      <td>10420</td>\n",
       "      <td>Akron, OH (Metropolitan Statistical Area)</td>\n",
       "      <td>39153</td>\n",
       "      <td>Summit, OH</td>\n",
       "    </tr>\n",
       "  </tbody>\n",
       "</table>\n",
       "</div>"
      ],
      "text/plain": [
       "     msa                                     msa_name  Geo_FIPS        county\n",
       "0  10180  Abilene, TX (Metropolitan Statistical Area)     48059  Callahan, TX\n",
       "1  10180  Abilene, TX (Metropolitan Statistical Area)     48253     Jones, TX\n",
       "2  10180  Abilene, TX (Metropolitan Statistical Area)     48441    Taylor, TX\n",
       "3  10420    Akron, OH (Metropolitan Statistical Area)     39133   Portage, OH\n",
       "4  10420    Akron, OH (Metropolitan Statistical Area)     39153    Summit, OH"
      ]
     },
     "execution_count": 2,
     "metadata": {},
     "output_type": "execute_result"
    }
   ],
   "source": [
    "#load data on US Metropolitan statistical areas (one of the definitions of a city)\n",
    "msa = pd.read_csv('data/msalist.csv')\n",
    "msa.head()"
   ]
  },
  {
   "cell_type": "code",
   "execution_count": 3,
   "metadata": {},
   "outputs": [],
   "source": [
    "#create dictionary of names\n",
    "msaNames={r['msa']:r['msa_name'] for i,r in msa.iterrows()}"
   ]
  },
  {
   "cell_type": "code",
   "execution_count": 4,
   "metadata": {},
   "outputs": [
    {
     "data": {
      "text/plain": [
       "382"
      ]
     },
     "execution_count": 4,
     "metadata": {},
     "output_type": "execute_result"
    }
   ],
   "source": [
    "#we have 382 MSA's\n",
    "len(msa.msa.unique())"
   ]
  },
  {
   "cell_type": "code",
   "execution_count": 5,
   "metadata": {},
   "outputs": [],
   "source": [
    "#load demographics by FIPS geographical subdivision\n",
    "demographics = pd.read_csv('data/acs2014/R11460953_SL050.csv')"
   ]
  },
  {
   "cell_type": "code",
   "execution_count": 6,
   "metadata": {
    "collapsed": true
   },
   "outputs": [],
   "source": [
    "demographics = demographics[[ u'Geo_GEOID', u'Geo_NAME', u'Geo_QName', u'Geo_COUNTY',\\\n",
    "                             u'SE_T001_001', u'SE_T002_002', u'SE_T002_003', u'SE_T057_001', u'SE_T083_001']]\n",
    "\n",
    "demographics.rename(columns={u'SE_T001_001' : 'Population',\\\n",
    "                             u'SE_T002_002' : 'Population Density', \\\n",
    "                             u'SE_T002_003' : 'Area',\\\n",
    "                             u'SE_T057_001' : 'Median household income',\\\n",
    "                             u'SE_T083_001' : 'Per capita income'}, inplace=True)"
   ]
  },
  {
   "cell_type": "code",
   "execution_count": 7,
   "metadata": {
    "collapsed": true
   },
   "outputs": [],
   "source": [
    "#add cumulative city income\n",
    "demographics['Income']=demographics.Population*demographics['Per capita income']"
   ]
  },
  {
   "cell_type": "code",
   "execution_count": 8,
   "metadata": {},
   "outputs": [
    {
     "data": {
      "text/html": [
       "<div>\n",
       "<table border=\"1\" class=\"dataframe\">\n",
       "  <thead>\n",
       "    <tr style=\"text-align: right;\">\n",
       "      <th></th>\n",
       "      <th>Geo_GEOID</th>\n",
       "      <th>Geo_NAME</th>\n",
       "      <th>Geo_QName</th>\n",
       "      <th>Geo_COUNTY</th>\n",
       "      <th>Population</th>\n",
       "      <th>Population Density</th>\n",
       "      <th>Area</th>\n",
       "      <th>Median household income</th>\n",
       "      <th>Per capita income</th>\n",
       "      <th>Income</th>\n",
       "    </tr>\n",
       "  </thead>\n",
       "  <tbody>\n",
       "    <tr>\n",
       "      <th>0</th>\n",
       "      <td>05000US01001</td>\n",
       "      <td>Autauga County, Alabama</td>\n",
       "      <td>Autauga County, Alabama</td>\n",
       "      <td>1</td>\n",
       "      <td>55136</td>\n",
       "      <td>92.75346</td>\n",
       "      <td>594.436089</td>\n",
       "      <td>52475</td>\n",
       "      <td>24644</td>\n",
       "      <td>1358771584</td>\n",
       "    </tr>\n",
       "    <tr>\n",
       "      <th>1</th>\n",
       "      <td>05000US01003</td>\n",
       "      <td>Baldwin County, Alabama</td>\n",
       "      <td>Baldwin County, Alabama</td>\n",
       "      <td>3</td>\n",
       "      <td>191205</td>\n",
       "      <td>120.27100</td>\n",
       "      <td>1589.784070</td>\n",
       "      <td>50183</td>\n",
       "      <td>26851</td>\n",
       "      <td>5134045455</td>\n",
       "    </tr>\n",
       "    <tr>\n",
       "      <th>2</th>\n",
       "      <td>05000US01005</td>\n",
       "      <td>Barbour County, Alabama</td>\n",
       "      <td>Barbour County, Alabama</td>\n",
       "      <td>5</td>\n",
       "      <td>27119</td>\n",
       "      <td>30.64722</td>\n",
       "      <td>884.876304</td>\n",
       "      <td>35634</td>\n",
       "      <td>17350</td>\n",
       "      <td>470514650</td>\n",
       "    </tr>\n",
       "    <tr>\n",
       "      <th>3</th>\n",
       "      <td>05000US01007</td>\n",
       "      <td>Bibb County, Alabama</td>\n",
       "      <td>Bibb County, Alabama</td>\n",
       "      <td>7</td>\n",
       "      <td>22653</td>\n",
       "      <td>36.38555</td>\n",
       "      <td>622.582332</td>\n",
       "      <td>37984</td>\n",
       "      <td>18110</td>\n",
       "      <td>410245830</td>\n",
       "    </tr>\n",
       "    <tr>\n",
       "      <th>4</th>\n",
       "      <td>05000US01009</td>\n",
       "      <td>Blount County, Alabama</td>\n",
       "      <td>Blount County, Alabama</td>\n",
       "      <td>9</td>\n",
       "      <td>57645</td>\n",
       "      <td>89.40315</td>\n",
       "      <td>644.775905</td>\n",
       "      <td>44409</td>\n",
       "      <td>20501</td>\n",
       "      <td>1181780145</td>\n",
       "    </tr>\n",
       "  </tbody>\n",
       "</table>\n",
       "</div>"
      ],
      "text/plain": [
       "      Geo_GEOID                 Geo_NAME                Geo_QName  Geo_COUNTY  \\\n",
       "0  05000US01001  Autauga County, Alabama  Autauga County, Alabama           1   \n",
       "1  05000US01003  Baldwin County, Alabama  Baldwin County, Alabama           3   \n",
       "2  05000US01005  Barbour County, Alabama  Barbour County, Alabama           5   \n",
       "3  05000US01007     Bibb County, Alabama     Bibb County, Alabama           7   \n",
       "4  05000US01009   Blount County, Alabama   Blount County, Alabama           9   \n",
       "\n",
       "   Population  Population Density         Area  Median household income  \\\n",
       "0       55136            92.75346   594.436089                    52475   \n",
       "1      191205           120.27100  1589.784070                    50183   \n",
       "2       27119            30.64722   884.876304                    35634   \n",
       "3       22653            36.38555   622.582332                    37984   \n",
       "4       57645            89.40315   644.775905                    44409   \n",
       "\n",
       "   Per capita income      Income  \n",
       "0              24644  1358771584  \n",
       "1              26851  5134045455  \n",
       "2              17350   470514650  \n",
       "3              18110   410245830  \n",
       "4              20501  1181780145  "
      ]
     },
     "execution_count": 8,
     "metadata": {},
     "output_type": "execute_result"
    }
   ],
   "source": [
    "demographics.head()"
   ]
  },
  {
   "cell_type": "code",
   "execution_count": 9,
   "metadata": {},
   "outputs": [
    {
     "data": {
      "text/plain": [
       "3220"
      ]
     },
     "execution_count": 9,
     "metadata": {},
     "output_type": "execute_result"
    }
   ],
   "source": [
    "len(demographics.Geo_GEOID.unique())"
   ]
  },
  {
   "cell_type": "code",
   "execution_count": 10,
   "metadata": {},
   "outputs": [
    {
     "data": {
      "text/plain": [
       "317746049"
      ]
     },
     "execution_count": 10,
     "metadata": {},
     "output_type": "execute_result"
    }
   ],
   "source": [
    "sum(demographics.Population) #cumulative population in demographics data"
   ]
  },
  {
   "cell_type": "code",
   "execution_count": 11,
   "metadata": {},
   "outputs": [
    {
     "data": {
      "text/html": [
       "<div>\n",
       "<table border=\"1\" class=\"dataframe\">\n",
       "  <thead>\n",
       "    <tr style=\"text-align: right;\">\n",
       "      <th></th>\n",
       "      <th>Geo_GEOID</th>\n",
       "      <th>Geo_NAME</th>\n",
       "      <th>Geo_QName</th>\n",
       "      <th>Geo_COUNTY</th>\n",
       "      <th>Population</th>\n",
       "      <th>Population Density</th>\n",
       "      <th>Area</th>\n",
       "      <th>Median household income</th>\n",
       "      <th>Per capita income</th>\n",
       "      <th>Income</th>\n",
       "      <th>ID</th>\n",
       "      <th>msa</th>\n",
       "      <th>msa_name</th>\n",
       "      <th>Geo_FIPS</th>\n",
       "      <th>county</th>\n",
       "    </tr>\n",
       "  </thead>\n",
       "  <tbody>\n",
       "    <tr>\n",
       "      <th>0</th>\n",
       "      <td>05000US01001</td>\n",
       "      <td>Autauga County, Alabama</td>\n",
       "      <td>Autauga County, Alabama</td>\n",
       "      <td>1</td>\n",
       "      <td>55136</td>\n",
       "      <td>92.75346</td>\n",
       "      <td>594.436089</td>\n",
       "      <td>52475</td>\n",
       "      <td>24644</td>\n",
       "      <td>1358771584</td>\n",
       "      <td>1001</td>\n",
       "      <td>33860</td>\n",
       "      <td>Montgomery, AL (Metropolitan Statistical Area)</td>\n",
       "      <td>1001</td>\n",
       "      <td>Autauga, AL</td>\n",
       "    </tr>\n",
       "    <tr>\n",
       "      <th>1</th>\n",
       "      <td>05000US01003</td>\n",
       "      <td>Baldwin County, Alabama</td>\n",
       "      <td>Baldwin County, Alabama</td>\n",
       "      <td>3</td>\n",
       "      <td>191205</td>\n",
       "      <td>120.27100</td>\n",
       "      <td>1589.784070</td>\n",
       "      <td>50183</td>\n",
       "      <td>26851</td>\n",
       "      <td>5134045455</td>\n",
       "      <td>1003</td>\n",
       "      <td>19300</td>\n",
       "      <td>Daphne-Fairhope-Foley, AL (Metropolitan Statis...</td>\n",
       "      <td>1003</td>\n",
       "      <td>Baldwin, AL</td>\n",
       "    </tr>\n",
       "    <tr>\n",
       "      <th>2</th>\n",
       "      <td>05000US01007</td>\n",
       "      <td>Bibb County, Alabama</td>\n",
       "      <td>Bibb County, Alabama</td>\n",
       "      <td>7</td>\n",
       "      <td>22653</td>\n",
       "      <td>36.38555</td>\n",
       "      <td>622.582332</td>\n",
       "      <td>37984</td>\n",
       "      <td>18110</td>\n",
       "      <td>410245830</td>\n",
       "      <td>1007</td>\n",
       "      <td>13820</td>\n",
       "      <td>Birmingham-Hoover, AL (Metropolitan Statistica...</td>\n",
       "      <td>1007</td>\n",
       "      <td>Bibb, AL</td>\n",
       "    </tr>\n",
       "    <tr>\n",
       "      <th>3</th>\n",
       "      <td>05000US01009</td>\n",
       "      <td>Blount County, Alabama</td>\n",
       "      <td>Blount County, Alabama</td>\n",
       "      <td>9</td>\n",
       "      <td>57645</td>\n",
       "      <td>89.40315</td>\n",
       "      <td>644.775905</td>\n",
       "      <td>44409</td>\n",
       "      <td>20501</td>\n",
       "      <td>1181780145</td>\n",
       "      <td>1009</td>\n",
       "      <td>13820</td>\n",
       "      <td>Birmingham-Hoover, AL (Metropolitan Statistica...</td>\n",
       "      <td>1009</td>\n",
       "      <td>Blount, AL</td>\n",
       "    </tr>\n",
       "    <tr>\n",
       "      <th>4</th>\n",
       "      <td>05000US01015</td>\n",
       "      <td>Calhoun County, Alabama</td>\n",
       "      <td>Calhoun County, Alabama</td>\n",
       "      <td>15</td>\n",
       "      <td>117186</td>\n",
       "      <td>193.41850</td>\n",
       "      <td>605.867678</td>\n",
       "      <td>40919</td>\n",
       "      <td>21306</td>\n",
       "      <td>2496764916</td>\n",
       "      <td>1015</td>\n",
       "      <td>11500</td>\n",
       "      <td>Anniston-Oxford-Jacksonville, AL (Metropolitan...</td>\n",
       "      <td>1015</td>\n",
       "      <td>Calhoun, AL</td>\n",
       "    </tr>\n",
       "  </tbody>\n",
       "</table>\n",
       "</div>"
      ],
      "text/plain": [
       "      Geo_GEOID                 Geo_NAME                Geo_QName  Geo_COUNTY  \\\n",
       "0  05000US01001  Autauga County, Alabama  Autauga County, Alabama           1   \n",
       "1  05000US01003  Baldwin County, Alabama  Baldwin County, Alabama           3   \n",
       "2  05000US01007     Bibb County, Alabama     Bibb County, Alabama           7   \n",
       "3  05000US01009   Blount County, Alabama   Blount County, Alabama           9   \n",
       "4  05000US01015  Calhoun County, Alabama  Calhoun County, Alabama          15   \n",
       "\n",
       "   Population  Population Density         Area  Median household income  \\\n",
       "0       55136            92.75346   594.436089                    52475   \n",
       "1      191205           120.27100  1589.784070                    50183   \n",
       "2       22653            36.38555   622.582332                    37984   \n",
       "3       57645            89.40315   644.775905                    44409   \n",
       "4      117186           193.41850   605.867678                    40919   \n",
       "\n",
       "   Per capita income      Income    ID    msa  \\\n",
       "0              24644  1358771584  1001  33860   \n",
       "1              26851  5134045455  1003  19300   \n",
       "2              18110   410245830  1007  13820   \n",
       "3              20501  1181780145  1009  13820   \n",
       "4              21306  2496764916  1015  11500   \n",
       "\n",
       "                                            msa_name  Geo_FIPS       county  \n",
       "0     Montgomery, AL (Metropolitan Statistical Area)      1001  Autauga, AL  \n",
       "1  Daphne-Fairhope-Foley, AL (Metropolitan Statis...      1003  Baldwin, AL  \n",
       "2  Birmingham-Hoover, AL (Metropolitan Statistica...      1007     Bibb, AL  \n",
       "3  Birmingham-Hoover, AL (Metropolitan Statistica...      1009   Blount, AL  \n",
       "4  Anniston-Oxford-Jacksonville, AL (Metropolitan...      1015  Calhoun, AL  "
      ]
     },
     "execution_count": 11,
     "metadata": {},
     "output_type": "execute_result"
    }
   ],
   "source": [
    "#convert some location identifiers from string to numeric\n",
    "def num(s):\n",
    "    try:\n",
    "        return int(s)\n",
    "    except ValueError:\n",
    "        0\n",
    "\n",
    "demographics['ID'] = demographics.Geo_GEOID.apply(lambda x: num(x[7:]))\n",
    "msa['ID'] = msa.Geo_FIPS.apply(num)\n",
    "\n",
    "demomsa = pd.merge(demographics, msa, on='ID', how='inner')\n",
    "demomsa.head()"
   ]
  },
  {
   "cell_type": "code",
   "execution_count": 12,
   "metadata": {},
   "outputs": [],
   "source": [
    "msaDemo = demomsa.groupby(by='msa').sum().loc[:,[u'Population', u'Area', u'Income']]"
   ]
  },
  {
   "cell_type": "markdown",
   "metadata": {},
   "source": [
    "Now look at the final data per MSA we have (we keep those separate as not all the msa's are covered equally in demographics and crime datasets"
   ]
  },
  {
   "cell_type": "code",
   "execution_count": 13,
   "metadata": {},
   "outputs": [
    {
     "data": {
      "text/html": [
       "<div>\n",
       "<table border=\"1\" class=\"dataframe\">\n",
       "  <thead>\n",
       "    <tr style=\"text-align: right;\">\n",
       "      <th></th>\n",
       "      <th>Population</th>\n",
       "      <th>Area</th>\n",
       "      <th>Income</th>\n",
       "    </tr>\n",
       "    <tr>\n",
       "      <th>msa</th>\n",
       "      <th></th>\n",
       "      <th></th>\n",
       "      <th></th>\n",
       "    </tr>\n",
       "  </thead>\n",
       "  <tbody>\n",
       "    <tr>\n",
       "      <th>10180</th>\n",
       "      <td>167171</td>\n",
       "      <td>2743.478027</td>\n",
       "      <td>3740034900</td>\n",
       "    </tr>\n",
       "    <tr>\n",
       "      <th>10420</th>\n",
       "      <td>703017</td>\n",
       "      <td>900.129156</td>\n",
       "      <td>19560044574</td>\n",
       "    </tr>\n",
       "    <tr>\n",
       "      <th>10500</th>\n",
       "      <td>156706</td>\n",
       "      <td>1932.557130</td>\n",
       "      <td>3172077530</td>\n",
       "    </tr>\n",
       "    <tr>\n",
       "      <th>10540</th>\n",
       "      <td>118270</td>\n",
       "      <td>2290.129282</td>\n",
       "      <td>2526602010</td>\n",
       "    </tr>\n",
       "    <tr>\n",
       "      <th>10580</th>\n",
       "      <td>875567</td>\n",
       "      <td>2811.554500</td>\n",
       "      <td>28078339939</td>\n",
       "    </tr>\n",
       "  </tbody>\n",
       "</table>\n",
       "</div>"
      ],
      "text/plain": [
       "       Population         Area       Income\n",
       "msa                                        \n",
       "10180      167171  2743.478027   3740034900\n",
       "10420      703017   900.129156  19560044574\n",
       "10500      156706  1932.557130   3172077530\n",
       "10540      118270  2290.129282   2526602010\n",
       "10580      875567  2811.554500  28078339939"
      ]
     },
     "execution_count": 13,
     "metadata": {},
     "output_type": "execute_result"
    }
   ],
   "source": [
    "msaDemo.head()"
   ]
  },
  {
   "cell_type": "markdown",
   "metadata": {},
   "source": [
    "### Q1. Run a simple linear regression of income vs population, without intercept, visualize the fit"
   ]
  },
  {
   "cell_type": "code",
   "execution_count": 14,
   "metadata": {},
   "outputs": [
    {
     "data": {
      "text/html": [
       "<table class=\"simpletable\">\n",
       "<caption>OLS Regression Results</caption>\n",
       "<tr>\n",
       "  <th>Dep. Variable:</th>         <td>Income</td>      <th>  R-squared:         </th> <td>   0.982</td> \n",
       "</tr>\n",
       "<tr>\n",
       "  <th>Model:</th>                   <td>OLS</td>       <th>  Adj. R-squared:    </th> <td>   0.982</td> \n",
       "</tr>\n",
       "<tr>\n",
       "  <th>Method:</th>             <td>Least Squares</td>  <th>  F-statistic:       </th> <td>2.108e+04</td>\n",
       "</tr>\n",
       "<tr>\n",
       "  <th>Date:</th>             <td>Wed, 26 Sep 2018</td> <th>  Prob (F-statistic):</th>  <td>  0.00</td>  \n",
       "</tr>\n",
       "<tr>\n",
       "  <th>Time:</th>                 <td>16:01:54</td>     <th>  Log-Likelihood:    </th> <td> -9159.2</td> \n",
       "</tr>\n",
       "<tr>\n",
       "  <th>No. Observations:</th>      <td>   379</td>      <th>  AIC:               </th> <td>1.832e+04</td>\n",
       "</tr>\n",
       "<tr>\n",
       "  <th>Df Residuals:</th>          <td>   378</td>      <th>  BIC:               </th> <td>1.832e+04</td>\n",
       "</tr>\n",
       "<tr>\n",
       "  <th>Df Model:</th>              <td>     1</td>      <th>                     </th>     <td> </td>    \n",
       "</tr>\n",
       "<tr>\n",
       "  <th>Covariance Type:</th>      <td>nonrobust</td>    <th>                     </th>     <td> </td>    \n",
       "</tr>\n",
       "</table>\n",
       "<table class=\"simpletable\">\n",
       "<tr>\n",
       "       <td></td>         <th>coef</th>     <th>std err</th>      <th>t</th>      <th>P>|t|</th> <th>[95.0% Conf. Int.]</th> \n",
       "</tr>\n",
       "<tr>\n",
       "  <th>Population</th> <td> 3.245e+04</td> <td>  223.455</td> <td>  145.197</td> <td> 0.000</td> <td>  3.2e+04  3.29e+04</td>\n",
       "</tr>\n",
       "</table>\n",
       "<table class=\"simpletable\">\n",
       "<tr>\n",
       "  <th>Omnibus:</th>       <td>344.787</td> <th>  Durbin-Watson:     </th> <td>   1.818</td> \n",
       "</tr>\n",
       "<tr>\n",
       "  <th>Prob(Omnibus):</th> <td> 0.000</td>  <th>  Jarque-Bera (JB):  </th> <td>27704.925</td>\n",
       "</tr>\n",
       "<tr>\n",
       "  <th>Skew:</th>          <td> 3.344</td>  <th>  Prob(JB):          </th> <td>    0.00</td> \n",
       "</tr>\n",
       "<tr>\n",
       "  <th>Kurtosis:</th>      <td>44.348</td>  <th>  Cond. No.          </th> <td>    1.00</td> \n",
       "</tr>\n",
       "</table>"
      ],
      "text/plain": [
       "<class 'statsmodels.iolib.summary.Summary'>\n",
       "\"\"\"\n",
       "                            OLS Regression Results                            \n",
       "==============================================================================\n",
       "Dep. Variable:                 Income   R-squared:                       0.982\n",
       "Model:                            OLS   Adj. R-squared:                  0.982\n",
       "Method:                 Least Squares   F-statistic:                 2.108e+04\n",
       "Date:                Wed, 26 Sep 2018   Prob (F-statistic):               0.00\n",
       "Time:                        16:01:54   Log-Likelihood:                -9159.2\n",
       "No. Observations:                 379   AIC:                         1.832e+04\n",
       "Df Residuals:                     378   BIC:                         1.832e+04\n",
       "Df Model:                           1                                         \n",
       "Covariance Type:            nonrobust                                         \n",
       "==============================================================================\n",
       "                 coef    std err          t      P>|t|      [95.0% Conf. Int.]\n",
       "------------------------------------------------------------------------------\n",
       "Population  3.245e+04    223.455    145.197      0.000       3.2e+04  3.29e+04\n",
       "==============================================================================\n",
       "Omnibus:                      344.787   Durbin-Watson:                   1.818\n",
       "Prob(Omnibus):                  0.000   Jarque-Bera (JB):            27704.925\n",
       "Skew:                           3.344   Prob(JB):                         0.00\n",
       "Kurtosis:                      44.348   Cond. No.                         1.00\n",
       "==============================================================================\n",
       "\n",
       "Warnings:\n",
       "[1] Standard Errors assume that the covariance matrix of the errors is correctly specified.\n",
       "\"\"\""
      ]
     },
     "execution_count": 14,
     "metadata": {},
     "output_type": "execute_result"
    }
   ],
   "source": [
    "#Performing OLS regression\n",
    "lm = smf.ols('Income~Population-1', data=msaDemo).fit()\n",
    "lm.summary()"
   ]
  },
  {
   "cell_type": "code",
   "execution_count": 15,
   "metadata": {},
   "outputs": [
    {
     "data": {
      "text/plain": [
       "<matplotlib.legend.Legend at 0x10952cb10>"
      ]
     },
     "execution_count": 15,
     "metadata": {},
     "output_type": "execute_result"
    },
    {
     "data": {
      "image/png": "[encoded data removed]",
      "text/plain": [
       "<matplotlib.figure.Figure at 0x103c294d0>"
      ]
     },
     "metadata": {},
     "output_type": "display_data"
    }
   ],
   "source": [
    "#Visualizing the regression fit\n",
    "plt.figure(figsize=(14,8))\n",
    "plt.plot(msaDemo['Population'], msaDemo['Income'], 'o')\n",
    "plt.title('Income vs population', fontsize = 15)\n",
    "plt.xlabel('Population')\n",
    "plt.ylabel('Income')\n",
    "plt.plot(msaDemo['Population'], lm.predict(), '-r')\n",
    "plt.legend()"
   ]
  },
  {
   "cell_type": "markdown",
   "metadata": {},
   "source": [
    "### Q2 Take the log-scale of income and population and repeat the regression, now with intercept"
   ]
  },
  {
   "cell_type": "code",
   "execution_count": 16,
   "metadata": {},
   "outputs": [
    {
     "data": {
      "text/html": [
       "<div>\n",
       "<table border=\"1\" class=\"dataframe\">\n",
       "  <thead>\n",
       "    <tr style=\"text-align: right;\">\n",
       "      <th></th>\n",
       "      <th>Income</th>\n",
       "      <th>Population</th>\n",
       "    </tr>\n",
       "    <tr>\n",
       "      <th>msa</th>\n",
       "      <th></th>\n",
       "      <th></th>\n",
       "    </tr>\n",
       "  </thead>\n",
       "  <tbody>\n",
       "    <tr>\n",
       "      <th>35620</th>\n",
       "      <td>27.297920</td>\n",
       "      <td>16.804472</td>\n",
       "    </tr>\n",
       "    <tr>\n",
       "      <th>31080</th>\n",
       "      <td>26.677462</td>\n",
       "      <td>16.385106</td>\n",
       "    </tr>\n",
       "    <tr>\n",
       "      <th>16980</th>\n",
       "      <td>26.425884</td>\n",
       "      <td>16.068532</td>\n",
       "    </tr>\n",
       "    <tr>\n",
       "      <th>19100</th>\n",
       "      <td>26.019203</td>\n",
       "      <td>15.718069</td>\n",
       "    </tr>\n",
       "    <tr>\n",
       "      <th>37980</th>\n",
       "      <td>26.009518</td>\n",
       "      <td>15.609823</td>\n",
       "    </tr>\n",
       "  </tbody>\n",
       "</table>\n",
       "</div>"
      ],
      "text/plain": [
       "          Income  Population\n",
       "msa                         \n",
       "35620  27.297920   16.804472\n",
       "31080  26.677462   16.385106\n",
       "16980  26.425884   16.068532\n",
       "19100  26.019203   15.718069\n",
       "37980  26.009518   15.609823"
      ]
     },
     "execution_count": 16,
     "metadata": {},
     "output_type": "execute_result"
    }
   ],
   "source": [
    "logPop = np.log(msaDemo['Population'])\n",
    "logIncome = np.log(msaDemo['Income'])\n",
    "data = pd.DataFrame(data=[logIncome, logPop]).T\n",
    "data.sort_values(by='Income', ascending=False, inplace=True) #Sorting values for better visualization\n",
    "data.head()"
   ]
  },
  {
   "cell_type": "code",
   "execution_count": 17,
   "metadata": {},
   "outputs": [
    {
     "data": {
      "text/html": [
       "<table class=\"simpletable\">\n",
       "<caption>OLS Regression Results</caption>\n",
       "<tr>\n",
       "  <th>Dep. Variable:</th>         <td>Income</td>      <th>  R-squared:         </th> <td>   0.983</td> \n",
       "</tr>\n",
       "<tr>\n",
       "  <th>Model:</th>                   <td>OLS</td>       <th>  Adj. R-squared:    </th> <td>   0.983</td> \n",
       "</tr>\n",
       "<tr>\n",
       "  <th>Method:</th>             <td>Least Squares</td>  <th>  F-statistic:       </th> <td>2.157e+04</td>\n",
       "</tr>\n",
       "<tr>\n",
       "  <th>Date:</th>             <td>Wed, 26 Sep 2018</td> <th>  Prob (F-statistic):</th>  <td>  0.00</td>  \n",
       "</tr>\n",
       "<tr>\n",
       "  <th>Time:</th>                 <td>16:01:55</td>     <th>  Log-Likelihood:    </th> <td>  175.13</td> \n",
       "</tr>\n",
       "<tr>\n",
       "  <th>No. Observations:</th>      <td>   379</td>      <th>  AIC:               </th> <td>  -346.3</td> \n",
       "</tr>\n",
       "<tr>\n",
       "  <th>Df Residuals:</th>          <td>   377</td>      <th>  BIC:               </th> <td>  -338.4</td> \n",
       "</tr>\n",
       "<tr>\n",
       "  <th>Df Model:</th>              <td>     1</td>      <th>                     </th>     <td> </td>    \n",
       "</tr>\n",
       "<tr>\n",
       "  <th>Covariance Type:</th>      <td>nonrobust</td>    <th>                     </th>     <td> </td>    \n",
       "</tr>\n",
       "</table>\n",
       "<table class=\"simpletable\">\n",
       "<tr>\n",
       "       <td></td>         <th>coef</th>     <th>std err</th>      <th>t</th>      <th>P>|t|</th> <th>[95.0% Conf. Int.]</th> \n",
       "</tr>\n",
       "<tr>\n",
       "  <th>Intercept</th>  <td>    9.3549</td> <td>    0.092</td> <td>  101.819</td> <td> 0.000</td> <td>    9.174     9.536</td>\n",
       "</tr>\n",
       "<tr>\n",
       "  <th>Population</th> <td>    1.0633</td> <td>    0.007</td> <td>  146.865</td> <td> 0.000</td> <td>    1.049     1.078</td>\n",
       "</tr>\n",
       "</table>\n",
       "<table class=\"simpletable\">\n",
       "<tr>\n",
       "  <th>Omnibus:</th>       <td>19.243</td> <th>  Durbin-Watson:     </th> <td>   1.934</td>\n",
       "</tr>\n",
       "<tr>\n",
       "  <th>Prob(Omnibus):</th> <td> 0.000</td> <th>  Jarque-Bera (JB):  </th> <td>  53.781</td>\n",
       "</tr>\n",
       "<tr>\n",
       "  <th>Skew:</th>          <td> 0.021</td> <th>  Prob(JB):          </th> <td>2.10e-12</td>\n",
       "</tr>\n",
       "<tr>\n",
       "  <th>Kurtosis:</th>      <td> 4.845</td> <th>  Cond. No.          </th> <td>    149.</td>\n",
       "</tr>\n",
       "</table>"
      ],
      "text/plain": [
       "<class 'statsmodels.iolib.summary.Summary'>\n",
       "\"\"\"\n",
       "                            OLS Regression Results                            \n",
       "==============================================================================\n",
       "Dep. Variable:                 Income   R-squared:                       0.983\n",
       "Model:                            OLS   Adj. R-squared:                  0.983\n",
       "Method:                 Least Squares   F-statistic:                 2.157e+04\n",
       "Date:                Wed, 26 Sep 2018   Prob (F-statistic):               0.00\n",
       "Time:                        16:01:55   Log-Likelihood:                 175.13\n",
       "No. Observations:                 379   AIC:                            -346.3\n",
       "Df Residuals:                     377   BIC:                            -338.4\n",
       "Df Model:                           1                                         \n",
       "Covariance Type:            nonrobust                                         \n",
       "==============================================================================\n",
       "                 coef    std err          t      P>|t|      [95.0% Conf. Int.]\n",
       "------------------------------------------------------------------------------\n",
       "Intercept      9.3549      0.092    101.819      0.000         9.174     9.536\n",
       "Population     1.0633      0.007    146.865      0.000         1.049     1.078\n",
       "==============================================================================\n",
       "Omnibus:                       19.243   Durbin-Watson:                   1.934\n",
       "Prob(Omnibus):                  0.000   Jarque-Bera (JB):               53.781\n",
       "Skew:                           0.021   Prob(JB):                     2.10e-12\n",
       "Kurtosis:                       4.845   Cond. No.                         149.\n",
       "==============================================================================\n",
       "\n",
       "Warnings:\n",
       "[1] Standard Errors assume that the covariance matrix of the errors is correctly specified.\n",
       "\"\"\""
      ]
     },
     "execution_count": 17,
     "metadata": {},
     "output_type": "execute_result"
    }
   ],
   "source": [
    "#Performing OLS regression\n",
    "lm = smf.ols('Income~Population', data=data).fit()\n",
    "lm.summary()"
   ]
  },
  {
   "cell_type": "code",
   "execution_count": 18,
   "metadata": {
    "collapsed": true
   },
   "outputs": [],
   "source": [
    "###################################"
   ]
  },
  {
   "cell_type": "markdown",
   "metadata": {},
   "source": [
    "As the confidence intervals tells us, we're 95% confident that the exponent $q$ of the scaling law is between [1.049, 1.078], i.e. above 1.\n",
    "\n",
    "**This way we can reject the hypothesis that $q=1$ at the 95% confidence level**"
   ]
  },
  {
   "cell_type": "markdown",
   "metadata": {},
   "source": [
    "Another useful quantity for hypothesis testing is p-value. In short, say we have a null-hypothesis that $q=1$ as per above. Based on the probability distribution for the coefficient $q$, the $p-value$ it measures the probability of getting a value which no more likely than $q=1$. If the p-value is below a certain threshold (usually $\\alpha=5\\%$) we reject the null-hypothesis at the level of confidence $1-\\alpha=95\\%$ as it would mean that $q=1$ is among $5\\%$ least likely values.\n",
    "\n",
    "It does not mean that $q=1$ is not the right value for sure (there is still $5\\%$ chance that this or even some less likely value is). It also does not mean that the regression estimate is the right value. It just means that values like $q=1$ are unlikely enough to not be reasonably anticipated. "
   ]
  },
  {
   "cell_type": "code",
   "execution_count": 19,
   "metadata": {},
   "outputs": [
    {
     "name": "stdout",
     "output_type": "stream",
     "text": [
      "                            OLS Regression Results                            \n",
      "==============================================================================\n",
      "Dep. Variable:        IncomePerCapita   R-squared:                       0.169\n",
      "Model:                            OLS   Adj. R-squared:                  0.167\n",
      "Method:                 Least Squares   F-statistic:                     76.54\n",
      "Date:                Wed, 26 Sep 2018   Prob (F-statistic):           7.30e-17\n",
      "Time:                        16:01:55   Log-Likelihood:                 175.13\n",
      "No. Observations:                 379   AIC:                            -346.3\n",
      "Df Residuals:                     377   BIC:                            -338.4\n",
      "Df Model:                           1                                         \n",
      "Covariance Type:            nonrobust                                         \n",
      "==============================================================================\n",
      "                 coef    std err          t      P>|t|      [95.0% Conf. Int.]\n",
      "------------------------------------------------------------------------------\n",
      "Intercept      9.3549      0.092    101.819      0.000         9.174     9.536\n",
      "Population     0.0633      0.007      8.749      0.000         0.049     0.078\n",
      "==============================================================================\n",
      "Omnibus:                       19.243   Durbin-Watson:                   1.934\n",
      "Prob(Omnibus):                  0.000   Jarque-Bera (JB):               53.781\n",
      "Skew:                           0.021   Prob(JB):                     2.10e-12\n",
      "Kurtosis:                       4.845   Cond. No.                         149.\n",
      "==============================================================================\n",
      "\n",
      "Warnings:\n",
      "[1] Standard Errors assume that the covariance matrix of the errors is correctly specified.\n",
      "p-value=0.0\n"
     ]
    }
   ],
   "source": [
    "#the regression estimate above gives p-value for the null-hypothesis q=0. As it is not the one we need, lets adjust the regression to get the right onw\n",
    "data['IncomePerCapita']=data['Income']-data['Population']\n",
    "lm2 = smf.ols('IncomePerCapita~Population', data=data).fit()\n",
    "print lm2.summary()\n",
    "print 'p-value={}'.format(lm.pvalues.Population)"
   ]
  },
  {
   "cell_type": "code",
   "execution_count": 20,
   "metadata": {},
   "outputs": [
    {
     "data": {
      "text/plain": [
       "<matplotlib.legend.Legend at 0x103c15910>"
      ]
     },
     "execution_count": 20,
     "metadata": {},
     "output_type": "execute_result"
    },
    {
     "data": {
      "image/png": "[encoded data removed]",
      "text/plain": [
       "<matplotlib.figure.Figure at 0x1097d9dd0>"
      ]
     },
     "metadata": {},
     "output_type": "display_data"
    }
   ],
   "source": [
    "#Visuale the income scaling law\n",
    "plt.figure(figsize=(14,8))\n",
    "plt.plot(data['Population'], data['Income'], 'o')\n",
    "plt.title('Income scaing', fontsize = 15)\n",
    "plt.xlabel('Population')\n",
    "plt.ylabel('Income')\n",
    "plt.plot(data['Population'], lm.predict(), '-r')\n",
    "plt.legend()"
   ]
  },
  {
   "cell_type": "markdown",
   "metadata": {},
   "source": [
    "### Q3. Find the top 5 cities overperforming and underperforming cities by income (by log-scale difference from the trend)"
   ]
  },
  {
   "cell_type": "code",
   "execution_count": 21,
   "metadata": {},
   "outputs": [],
   "source": [
    "#compute the residuals\n",
    "msaDemo['IncRes']=lm.predict()-data['Income']"
   ]
  },
  {
   "cell_type": "code",
   "execution_count": 22,
   "metadata": {},
   "outputs": [
    {
     "data": {
      "text/html": [
       "<div>\n",
       "<table border=\"1\" class=\"dataframe\">\n",
       "  <thead>\n",
       "    <tr style=\"text-align: right;\">\n",
       "      <th></th>\n",
       "      <th>Population</th>\n",
       "      <th>Area</th>\n",
       "      <th>Income</th>\n",
       "      <th>IncRes</th>\n",
       "    </tr>\n",
       "    <tr>\n",
       "      <th>msa</th>\n",
       "      <th></th>\n",
       "      <th></th>\n",
       "      <th></th>\n",
       "      <th></th>\n",
       "    </tr>\n",
       "  </thead>\n",
       "  <tbody>\n",
       "    <tr>\n",
       "      <th>32580</th>\n",
       "      <td>806447</td>\n",
       "      <td>1570.865088</td>\n",
       "      <td>11713642675</td>\n",
       "      <td>0.632738</td>\n",
       "    </tr>\n",
       "    <tr>\n",
       "      <th>15180</th>\n",
       "      <td>415103</td>\n",
       "      <td>890.922380</td>\n",
       "      <td>6184204494</td>\n",
       "      <td>0.565317</td>\n",
       "    </tr>\n",
       "    <tr>\n",
       "      <th>29700</th>\n",
       "      <td>259471</td>\n",
       "      <td>3361.482188</td>\n",
       "      <td>3853663292</td>\n",
       "      <td>0.538646</td>\n",
       "    </tr>\n",
       "    <tr>\n",
       "      <th>20940</th>\n",
       "      <td>177026</td>\n",
       "      <td>4176.603407</td>\n",
       "      <td>2904819634</td>\n",
       "      <td>0.414732</td>\n",
       "    </tr>\n",
       "    <tr>\n",
       "      <th>47300</th>\n",
       "      <td>451108</td>\n",
       "      <td>4824.214846</td>\n",
       "      <td>8069419904</td>\n",
       "      <td>0.387682</td>\n",
       "    </tr>\n",
       "  </tbody>\n",
       "</table>\n",
       "</div>"
      ],
      "text/plain": [
       "       Population         Area       Income    IncRes\n",
       "msa                                                  \n",
       "32580      806447  1570.865088  11713642675  0.632738\n",
       "15180      415103   890.922380   6184204494  0.565317\n",
       "29700      259471  3361.482188   3853663292  0.538646\n",
       "20940      177026  4176.603407   2904819634  0.414732\n",
       "47300      451108  4824.214846   8069419904  0.387682"
      ]
     },
     "execution_count": 22,
     "metadata": {},
     "output_type": "execute_result"
    }
   ],
   "source": [
    "msaDemo.sort_values(by='IncRes',ascending=False).head(5)"
   ]
  },
  {
   "cell_type": "code",
   "execution_count": 23,
   "metadata": {},
   "outputs": [
    {
     "data": {
      "text/html": [
       "<div>\n",
       "<table border=\"1\" class=\"dataframe\">\n",
       "  <thead>\n",
       "    <tr style=\"text-align: right;\">\n",
       "      <th></th>\n",
       "      <th>Population</th>\n",
       "      <th>Area</th>\n",
       "      <th>Income</th>\n",
       "      <th>IncRes</th>\n",
       "    </tr>\n",
       "    <tr>\n",
       "      <th>msa</th>\n",
       "      <th></th>\n",
       "      <th></th>\n",
       "      <th></th>\n",
       "      <th></th>\n",
       "    </tr>\n",
       "  </thead>\n",
       "  <tbody>\n",
       "    <tr>\n",
       "      <th>14860</th>\n",
       "      <td>934215</td>\n",
       "      <td>624.889555</td>\n",
       "      <td>46419274920</td>\n",
       "      <td>-0.587838</td>\n",
       "    </tr>\n",
       "    <tr>\n",
       "      <th>15680</th>\n",
       "      <td>108472</td>\n",
       "      <td>357.180046</td>\n",
       "      <td>3970292144</td>\n",
       "      <td>-0.418566</td>\n",
       "    </tr>\n",
       "    <tr>\n",
       "      <th>14500</th>\n",
       "      <td>305166</td>\n",
       "      <td>726.289252</td>\n",
       "      <td>11756214984</td>\n",
       "      <td>-0.404226</td>\n",
       "    </tr>\n",
       "    <tr>\n",
       "      <th>12700</th>\n",
       "      <td>215167</td>\n",
       "      <td>393.723227</td>\n",
       "      <td>7953432988</td>\n",
       "      <td>-0.385023</td>\n",
       "    </tr>\n",
       "    <tr>\n",
       "      <th>45940</th>\n",
       "      <td>369526</td>\n",
       "      <td>224.557494</td>\n",
       "      <td>14070071976</td>\n",
       "      <td>-0.380407</td>\n",
       "    </tr>\n",
       "  </tbody>\n",
       "</table>\n",
       "</div>"
      ],
      "text/plain": [
       "       Population        Area       Income    IncRes\n",
       "msa                                                 \n",
       "14860      934215  624.889555  46419274920 -0.587838\n",
       "15680      108472  357.180046   3970292144 -0.418566\n",
       "14500      305166  726.289252  11756214984 -0.404226\n",
       "12700      215167  393.723227   7953432988 -0.385023\n",
       "45940      369526  224.557494  14070071976 -0.380407"
      ]
     },
     "execution_count": 23,
     "metadata": {},
     "output_type": "execute_result"
    }
   ],
   "source": [
    "msaDemo.sort_values(by='IncRes',ascending=True).head(5)"
   ]
  },
  {
   "cell_type": "code",
   "execution_count": 24,
   "metadata": {},
   "outputs": [
    {
     "data": {
      "text/plain": [
       "'Bridgeport-Stamford-Norwalk, CT (Metropolitan Statistical Area)'"
      ]
     },
     "execution_count": 24,
     "metadata": {},
     "output_type": "execute_result"
    }
   ],
   "source": [
    "msaNames[14860]"
   ]
  },
  {
   "cell_type": "code",
   "execution_count": 25,
   "metadata": {},
   "outputs": [
    {
     "data": {
      "text/plain": [
       "'California-Lexington Park, MD (Metropolitan Statistical Area)'"
      ]
     },
     "execution_count": 25,
     "metadata": {},
     "output_type": "execute_result"
    }
   ],
   "source": [
    "msaNames[15680]"
   ]
  },
  {
   "cell_type": "code",
   "execution_count": 26,
   "metadata": {},
   "outputs": [
    {
     "data": {
      "text/plain": [
       "'Boulder, CO (Metropolitan Statistical Area)'"
      ]
     },
     "execution_count": 26,
     "metadata": {},
     "output_type": "execute_result"
    }
   ],
   "source": [
    "msaNames[14500]"
   ]
  },
  {
   "cell_type": "code",
   "execution_count": 27,
   "metadata": {},
   "outputs": [
    {
     "data": {
      "text/plain": [
       "'Barnstable Town, MA (Metropolitan Statistical Area)'"
      ]
     },
     "execution_count": 27,
     "metadata": {},
     "output_type": "execute_result"
    }
   ],
   "source": [
    "msaNames[12700]"
   ]
  },
  {
   "cell_type": "code",
   "execution_count": 28,
   "metadata": {},
   "outputs": [
    {
     "data": {
      "text/plain": [
       "'Trenton, NJ (Metropolitan Statistical Area)'"
      ]
     },
     "execution_count": 28,
     "metadata": {},
     "output_type": "execute_result"
    }
   ],
   "source": [
    "msaNames[45940]"
   ]
  },
  {
   "cell_type": "markdown",
   "metadata": {},
   "source": [
    "### Excercise 1. Establish a scaling relationship $Y\\sim C X^q$ between total, violent and property crime vs population (by running log-scale regression where Crime>0). Visualize on the log scale. Does $q=1$ fall into the confidence interval? "
   ]
  },
  {
   "cell_type": "code",
   "execution_count": 29,
   "metadata": {},
   "outputs": [],
   "source": [
    "crime2014 = pd.read_csv('data/crime2014/R11460954_SL050.csv') #load crime data"
   ]
  },
  {
   "cell_type": "code",
   "execution_count": 30,
   "metadata": {
    "collapsed": true
   },
   "outputs": [],
   "source": [
    "#rename some columns\n",
    "crime2014.rename(columns = { u'SE_T001_001' : 'Population',\\\n",
    "                             u'SE_T002_001' : 'Crimes',\\\n",
    "                          u'SE_T002_002' : 'Violent Crimes', \\\n",
    "                          u'SE_T002_003' : 'Property Crimes' }, inplace=True)\n",
    "\n",
    "crime2014 = crime2014[[u'Geo_FIPS', u'Geo_NAME', u'Geo_QNAME', u'Geo_STATE', u'Geo_COUNTY', 'Population', 'Crimes' , 'Violent Crimes', 'Property Crimes']]"
   ]
  },
  {
   "cell_type": "code",
   "execution_count": 31,
   "metadata": {},
   "outputs": [
    {
     "data": {
      "text/html": [
       "<div>\n",
       "<table border=\"1\" class=\"dataframe\">\n",
       "  <thead>\n",
       "    <tr style=\"text-align: right;\">\n",
       "      <th></th>\n",
       "      <th>Geo_FIPS</th>\n",
       "      <th>Geo_NAME</th>\n",
       "      <th>Geo_QNAME</th>\n",
       "      <th>Geo_STATE</th>\n",
       "      <th>Geo_COUNTY</th>\n",
       "      <th>Population</th>\n",
       "      <th>Crimes</th>\n",
       "      <th>Violent Crimes</th>\n",
       "      <th>Property Crimes</th>\n",
       "    </tr>\n",
       "  </thead>\n",
       "  <tbody>\n",
       "    <tr>\n",
       "      <th>0</th>\n",
       "      <td>01001</td>\n",
       "      <td>Autauga County</td>\n",
       "      <td>Autauga County, Alabama</td>\n",
       "      <td>1</td>\n",
       "      <td>001</td>\n",
       "      <td>55395.0</td>\n",
       "      <td>482</td>\n",
       "      <td>68</td>\n",
       "      <td>414</td>\n",
       "    </tr>\n",
       "    <tr>\n",
       "      <th>1</th>\n",
       "      <td>01003</td>\n",
       "      <td>Baldwin County</td>\n",
       "      <td>Baldwin County, Alabama</td>\n",
       "      <td>1</td>\n",
       "      <td>003</td>\n",
       "      <td>200111.0</td>\n",
       "      <td>760</td>\n",
       "      <td>98</td>\n",
       "      <td>662</td>\n",
       "    </tr>\n",
       "    <tr>\n",
       "      <th>2</th>\n",
       "      <td>01005</td>\n",
       "      <td>Barbour County</td>\n",
       "      <td>Barbour County, Alabama</td>\n",
       "      <td>1</td>\n",
       "      <td>005</td>\n",
       "      <td>26887.0</td>\n",
       "      <td>145</td>\n",
       "      <td>17</td>\n",
       "      <td>128</td>\n",
       "    </tr>\n",
       "    <tr>\n",
       "      <th>3</th>\n",
       "      <td>01007</td>\n",
       "      <td>Bibb County</td>\n",
       "      <td>Bibb County, Alabama</td>\n",
       "      <td>1</td>\n",
       "      <td>007</td>\n",
       "      <td>22506.0</td>\n",
       "      <td>86</td>\n",
       "      <td>4</td>\n",
       "      <td>82</td>\n",
       "    </tr>\n",
       "    <tr>\n",
       "      <th>4</th>\n",
       "      <td>01009</td>\n",
       "      <td>Blount County</td>\n",
       "      <td>Blount County, Alabama</td>\n",
       "      <td>1</td>\n",
       "      <td>009</td>\n",
       "      <td>57719.0</td>\n",
       "      <td>1013</td>\n",
       "      <td>90</td>\n",
       "      <td>923</td>\n",
       "    </tr>\n",
       "  </tbody>\n",
       "</table>\n",
       "</div>"
      ],
      "text/plain": [
       "  Geo_FIPS        Geo_NAME                Geo_QNAME  Geo_STATE Geo_COUNTY  \\\n",
       "0    01001  Autauga County  Autauga County, Alabama          1        001   \n",
       "1    01003  Baldwin County  Baldwin County, Alabama          1        003   \n",
       "2    01005  Barbour County  Barbour County, Alabama          1        005   \n",
       "3    01007     Bibb County     Bibb County, Alabama          1        007   \n",
       "4    01009   Blount County   Blount County, Alabama          1        009   \n",
       "\n",
       "   Population  Crimes  Violent Crimes  Property Crimes  \n",
       "0     55395.0     482              68              414  \n",
       "1    200111.0     760              98              662  \n",
       "2     26887.0     145              17              128  \n",
       "3     22506.0      86               4               82  \n",
       "4     57719.0    1013              90              923  "
      ]
     },
     "execution_count": 31,
     "metadata": {},
     "output_type": "execute_result"
    }
   ],
   "source": [
    "crime2014.head()"
   ]
  },
  {
   "cell_type": "code",
   "execution_count": 32,
   "metadata": {},
   "outputs": [
    {
     "data": {
      "text/plain": [
       "250424654.0"
      ]
     },
     "execution_count": 32,
     "metadata": {},
     "output_type": "execute_result"
    }
   ],
   "source": [
    "sum(crime2014.Population)"
   ]
  },
  {
   "cell_type": "code",
   "execution_count": 33,
   "metadata": {},
   "outputs": [
    {
     "data": {
      "text/html": [
       "<div>\n",
       "<table border=\"1\" class=\"dataframe\">\n",
       "  <thead>\n",
       "    <tr style=\"text-align: right;\">\n",
       "      <th></th>\n",
       "      <th>Geo_FIPS_x</th>\n",
       "      <th>Geo_NAME</th>\n",
       "      <th>Geo_QNAME</th>\n",
       "      <th>Geo_STATE</th>\n",
       "      <th>Geo_COUNTY</th>\n",
       "      <th>Population</th>\n",
       "      <th>Crimes</th>\n",
       "      <th>Violent Crimes</th>\n",
       "      <th>Property Crimes</th>\n",
       "      <th>ID</th>\n",
       "      <th>msa</th>\n",
       "      <th>msa_name</th>\n",
       "      <th>Geo_FIPS_y</th>\n",
       "      <th>county</th>\n",
       "    </tr>\n",
       "  </thead>\n",
       "  <tbody>\n",
       "    <tr>\n",
       "      <th>0</th>\n",
       "      <td>01001</td>\n",
       "      <td>Autauga County</td>\n",
       "      <td>Autauga County, Alabama</td>\n",
       "      <td>1</td>\n",
       "      <td>001</td>\n",
       "      <td>55395.0</td>\n",
       "      <td>482</td>\n",
       "      <td>68</td>\n",
       "      <td>414</td>\n",
       "      <td>1001.0</td>\n",
       "      <td>33860</td>\n",
       "      <td>Montgomery, AL (Metropolitan Statistical Area)</td>\n",
       "      <td>1001</td>\n",
       "      <td>Autauga, AL</td>\n",
       "    </tr>\n",
       "    <tr>\n",
       "      <th>1</th>\n",
       "      <td>01003</td>\n",
       "      <td>Baldwin County</td>\n",
       "      <td>Baldwin County, Alabama</td>\n",
       "      <td>1</td>\n",
       "      <td>003</td>\n",
       "      <td>200111.0</td>\n",
       "      <td>760</td>\n",
       "      <td>98</td>\n",
       "      <td>662</td>\n",
       "      <td>1003.0</td>\n",
       "      <td>19300</td>\n",
       "      <td>Daphne-Fairhope-Foley, AL (Metropolitan Statis...</td>\n",
       "      <td>1003</td>\n",
       "      <td>Baldwin, AL</td>\n",
       "    </tr>\n",
       "    <tr>\n",
       "      <th>2</th>\n",
       "      <td>01007</td>\n",
       "      <td>Bibb County</td>\n",
       "      <td>Bibb County, Alabama</td>\n",
       "      <td>1</td>\n",
       "      <td>007</td>\n",
       "      <td>22506.0</td>\n",
       "      <td>86</td>\n",
       "      <td>4</td>\n",
       "      <td>82</td>\n",
       "      <td>1007.0</td>\n",
       "      <td>13820</td>\n",
       "      <td>Birmingham-Hoover, AL (Metropolitan Statistica...</td>\n",
       "      <td>1007</td>\n",
       "      <td>Bibb, AL</td>\n",
       "    </tr>\n",
       "    <tr>\n",
       "      <th>3</th>\n",
       "      <td>01009</td>\n",
       "      <td>Blount County</td>\n",
       "      <td>Blount County, Alabama</td>\n",
       "      <td>1</td>\n",
       "      <td>009</td>\n",
       "      <td>57719.0</td>\n",
       "      <td>1013</td>\n",
       "      <td>90</td>\n",
       "      <td>923</td>\n",
       "      <td>1009.0</td>\n",
       "      <td>13820</td>\n",
       "      <td>Birmingham-Hoover, AL (Metropolitan Statistica...</td>\n",
       "      <td>1009</td>\n",
       "      <td>Blount, AL</td>\n",
       "    </tr>\n",
       "    <tr>\n",
       "      <th>4</th>\n",
       "      <td>01015</td>\n",
       "      <td>Calhoun County</td>\n",
       "      <td>Calhoun County, Alabama</td>\n",
       "      <td>1</td>\n",
       "      <td>015</td>\n",
       "      <td>115916.0</td>\n",
       "      <td>486</td>\n",
       "      <td>15</td>\n",
       "      <td>471</td>\n",
       "      <td>1015.0</td>\n",
       "      <td>11500</td>\n",
       "      <td>Anniston-Oxford-Jacksonville, AL (Metropolitan...</td>\n",
       "      <td>1015</td>\n",
       "      <td>Calhoun, AL</td>\n",
       "    </tr>\n",
       "  </tbody>\n",
       "</table>\n",
       "</div>"
      ],
      "text/plain": [
       "  Geo_FIPS_x        Geo_NAME                Geo_QNAME  Geo_STATE Geo_COUNTY  \\\n",
       "0      01001  Autauga County  Autauga County, Alabama          1        001   \n",
       "1      01003  Baldwin County  Baldwin County, Alabama          1        003   \n",
       "2      01007     Bibb County     Bibb County, Alabama          1        007   \n",
       "3      01009   Blount County   Blount County, Alabama          1        009   \n",
       "4      01015  Calhoun County  Calhoun County, Alabama          1        015   \n",
       "\n",
       "   Population  Crimes  Violent Crimes  Property Crimes      ID    msa  \\\n",
       "0     55395.0     482              68              414  1001.0  33860   \n",
       "1    200111.0     760              98              662  1003.0  19300   \n",
       "2     22506.0      86               4               82  1007.0  13820   \n",
       "3     57719.0    1013              90              923  1009.0  13820   \n",
       "4    115916.0     486              15              471  1015.0  11500   \n",
       "\n",
       "                                            msa_name  Geo_FIPS_y       county  \n",
       "0     Montgomery, AL (Metropolitan Statistical Area)        1001  Autauga, AL  \n",
       "1  Daphne-Fairhope-Foley, AL (Metropolitan Statis...        1003  Baldwin, AL  \n",
       "2  Birmingham-Hoover, AL (Metropolitan Statistica...        1007     Bibb, AL  \n",
       "3  Birmingham-Hoover, AL (Metropolitan Statistica...        1009   Blount, AL  \n",
       "4  Anniston-Oxford-Jacksonville, AL (Metropolitan...        1015  Calhoun, AL  "
      ]
     },
     "execution_count": 33,
     "metadata": {},
     "output_type": "execute_result"
    }
   ],
   "source": [
    "#convert some location identifiers from string to numeric\n",
    "def num(s):\n",
    "    try:\n",
    "        return int(s)\n",
    "    except ValueError:\n",
    "        0\n",
    "\n",
    "demographics['ID'] = demographics.Geo_GEOID.apply(lambda x: num(x[7:]))\n",
    "crime2014['ID'] = crime2014.Geo_FIPS.apply(num)\n",
    "msa['ID'] = msa.Geo_FIPS.apply(num)\n",
    "\n",
    "demomsa = pd.merge(demographics, msa, on='ID', how='inner')\n",
    "crimemsa = pd.merge(crime2014, msa, on='ID', how='inner')\n",
    "crimemsa.head()"
   ]
  },
  {
   "cell_type": "code",
   "execution_count": 34,
   "metadata": {},
   "outputs": [
    {
     "data": {
      "text/html": [
       "<div>\n",
       "<table border=\"1\" class=\"dataframe\">\n",
       "  <thead>\n",
       "    <tr style=\"text-align: right;\">\n",
       "      <th></th>\n",
       "      <th>Population</th>\n",
       "      <th>Crimes</th>\n",
       "      <th>Violent Crimes</th>\n",
       "      <th>Property Crimes</th>\n",
       "    </tr>\n",
       "    <tr>\n",
       "      <th>msa</th>\n",
       "      <th></th>\n",
       "      <th></th>\n",
       "      <th></th>\n",
       "      <th></th>\n",
       "    </tr>\n",
       "  </thead>\n",
       "  <tbody>\n",
       "    <tr>\n",
       "      <th>10180</th>\n",
       "      <td>168592.0</td>\n",
       "      <td>492</td>\n",
       "      <td>62</td>\n",
       "      <td>430</td>\n",
       "    </tr>\n",
       "    <tr>\n",
       "      <th>10420</th>\n",
       "      <td>703825.0</td>\n",
       "      <td>2397</td>\n",
       "      <td>106</td>\n",
       "      <td>2291</td>\n",
       "    </tr>\n",
       "    <tr>\n",
       "      <th>10500</th>\n",
       "      <td>151670.0</td>\n",
       "      <td>1364</td>\n",
       "      <td>107</td>\n",
       "      <td>1257</td>\n",
       "    </tr>\n",
       "    <tr>\n",
       "      <th>10540</th>\n",
       "      <td>119356.0</td>\n",
       "      <td>1092</td>\n",
       "      <td>23</td>\n",
       "      <td>1069</td>\n",
       "    </tr>\n",
       "    <tr>\n",
       "      <th>10580</th>\n",
       "      <td>880167.0</td>\n",
       "      <td>1590</td>\n",
       "      <td>91</td>\n",
       "      <td>1499</td>\n",
       "    </tr>\n",
       "  </tbody>\n",
       "</table>\n",
       "</div>"
      ],
      "text/plain": [
       "       Population  Crimes  Violent Crimes  Property Crimes\n",
       "msa                                                       \n",
       "10180    168592.0     492              62              430\n",
       "10420    703825.0    2397             106             2291\n",
       "10500    151670.0    1364             107             1257\n",
       "10540    119356.0    1092              23             1069\n",
       "10580    880167.0    1590              91             1499"
      ]
     },
     "execution_count": 34,
     "metadata": {},
     "output_type": "execute_result"
    }
   ],
   "source": [
    "msaCrime = crimemsa.groupby(by='msa').sum().loc[:,[u'Population', u'Crimes', u'Violent Crimes', u'Property Crimes']]\n",
    "msaCrime.head()"
   ]
  },
  {
   "cell_type": "code",
   "execution_count": null,
   "metadata": {
    "collapsed": true
   },
   "outputs": [],
   "source": []
  },
  {
   "cell_type": "markdown",
   "metadata": {},
   "source": [
    "### Exercise 2. Find top 5 and last 5 cities by crime log-residual (difference between log-crime and above regression prediction)"
   ]
  },
  {
   "cell_type": "markdown",
   "metadata": {},
   "source": [
    "### Excercise 3. Is there any correlation between residual by income and residual by crime?"
   ]
  },
  {
   "cell_type": "code",
   "execution_count": null,
   "metadata": {
    "collapsed": true
   },
   "outputs": [],
   "source": []
  }
 ],
 "metadata": {
  "kernelspec": {
   "display_name": "PUI2016_Python2",
   "language": "python",
   "name": "pui2016_python2"
  },
  "language_info": {
   "codemirror_mode": {
    "name": "ipython",
    "version": 2
   },
   "file_extension": ".py",
   "mimetype": "text/x-python",
   "name": "python",
   "nbconvert_exporter": "python",
   "pygments_lexer": "ipython2",
   "version": "2.7.12"
  }
 },
 "nbformat": 4,
 "nbformat_minor": 2
}
