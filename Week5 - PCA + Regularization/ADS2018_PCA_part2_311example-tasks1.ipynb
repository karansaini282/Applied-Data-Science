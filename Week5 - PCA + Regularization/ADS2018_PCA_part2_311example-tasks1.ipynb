{
 "cells": [
  {
   "cell_type": "markdown",
   "metadata": {},
   "source": [
    "# Problem example\n",
    "\n",
    "Model economic characteristics of urban neighborhoods (zip code areas), such as  \n",
    "**income, unemployment or average real estate prices using the structure of 311 complains**  \n",
    "as a signature of social activity.\n",
    "\n",
    "[Wang L, Qian C, Kats P, Kontokosta C, Sobolevsky, S. (2017) Structure of 311\n",
    "service requests as a signature of urban location. PloS ONE. 12(10), e0186314.]\n",
    "\n",
    "<img src=\"data/fig5.png\">\n",
    "\n",
    "<img src=\"data/fig2.png\">\n",
    "\n",
    "We see that complaining patterns cluster in space but are pretty different for different urban neighborhoods. While the clusters with distinctive complaining profiles are also distinctive in terms of demography and economic background.\n",
    "\n",
    "**What is we use the relative frequency of each of the 162 categories of complains as features to model target economic indicators accross NYC zip code areas?**\n",
    "\n",
    "What issues such a model might face?\n",
    "\n",
    "#### 311 service requests data.\n",
    "https://en.wikipedia.org/wiki/3-1-1\n",
    "\n",
    "3-1-1 is a special telephone number supported in many communities in Canada and the United States. The number provides access to non-emergency municipal services. The number format follows the N11 code for a group of short, special-purpose local numbers as designated in the North American Numbering Plan.\n",
    "The number 3-1-1 is intended in part to divert routine inquiries and non-urgent community concerns from the 9-1-1 number which is reserved for emergency service. A promotional website for 3-1-1 in Akron described the distinction as follows: \"Burning building? Call 9-1-1. Burning Question? Call 3-1-1.\""
   ]
  },
  {
   "cell_type": "code",
   "execution_count": 1,
   "metadata": {},
   "outputs": [
    {
     "name": "stderr",
     "output_type": "stream",
     "text": [
      "/usr/local/Anaconda3-5.0.0-Linux-x86_64/envs/PUI2016_Python2/lib/python2.7/site-packages/sklearn/cross_validation.py:41: DeprecationWarning: This module was deprecated in version 0.18 in favor of the model_selection module into which all the refactored classes and functions are moved. Also note that the interface of the new CV iterators are different from that of this module. This module will be removed in 0.20.\n",
      "  \"This module will be removed in 0.20.\", DeprecationWarning)\n"
     ]
    }
   ],
   "source": [
    "#import modules we need to use for this session\n",
    "import pandas as pd\n",
    "import numpy as np\n",
    "%matplotlib inline\n",
    "import matplotlib.pyplot as plt\n",
    "from scipy import stats\n",
    "import statsmodels.formula.api as smf\n",
    "import statsmodels.api as sm\n",
    "from sklearn.linear_model import LinearRegression\n",
    "# PCA module\n",
    "from sklearn.decomposition import PCA\n",
    "from sklearn.cross_validation import train_test_split\n",
    "from mpl_toolkits.mplot3d import Axes3D\n",
    "from sklearn import datasets\n",
    "from sklearn import linear_model\n",
    "from sklearn import preprocessing"
   ]
  },
  {
   "cell_type": "markdown",
   "metadata": {},
   "source": [
    "### Load 311 data"
   ]
  },
  {
   "cell_type": "code",
   "execution_count": 2,
   "metadata": {},
   "outputs": [
    {
     "data": {
      "text/html": [
       "<div>\n",
       "<table border=\"1\" class=\"dataframe\">\n",
       "  <thead>\n",
       "    <tr style=\"text-align: right;\">\n",
       "      <th></th>\n",
       "      <th>Zip</th>\n",
       "      <th>Complain</th>\n",
       "      <th>Count</th>\n",
       "    </tr>\n",
       "  </thead>\n",
       "  <tbody>\n",
       "    <tr>\n",
       "      <th>1</th>\n",
       "      <td>NaN</td>\n",
       "      <td>Adopt-A-Basket</td>\n",
       "      <td>5</td>\n",
       "    </tr>\n",
       "    <tr>\n",
       "      <th>2</th>\n",
       "      <td>10001</td>\n",
       "      <td>Adopt-A-Basket</td>\n",
       "      <td>1</td>\n",
       "    </tr>\n",
       "    <tr>\n",
       "      <th>3</th>\n",
       "      <td>10003</td>\n",
       "      <td>Adopt-A-Basket</td>\n",
       "      <td>1</td>\n",
       "    </tr>\n",
       "    <tr>\n",
       "      <th>4</th>\n",
       "      <td>10009</td>\n",
       "      <td>Adopt-A-Basket</td>\n",
       "      <td>1</td>\n",
       "    </tr>\n",
       "    <tr>\n",
       "      <th>5</th>\n",
       "      <td>10010</td>\n",
       "      <td>Adopt-A-Basket</td>\n",
       "      <td>1</td>\n",
       "    </tr>\n",
       "  </tbody>\n",
       "</table>\n",
       "</div>"
      ],
      "text/plain": [
       "     Zip        Complain  Count\n",
       "1    NaN  Adopt-A-Basket      5\n",
       "2  10001  Adopt-A-Basket      1\n",
       "3  10003  Adopt-A-Basket      1\n",
       "4  10009  Adopt-A-Basket      1\n",
       "5  10010  Adopt-A-Basket      1"
      ]
     },
     "execution_count": 2,
     "metadata": {},
     "output_type": "execute_result"
    }
   ],
   "source": [
    "data311 = pd.read_csv( 'data/aggr311.csv' , index_col=0 )\n",
    "data311.head()"
   ]
  },
  {
   "cell_type": "code",
   "execution_count": 3,
   "metadata": {},
   "outputs": [],
   "source": [
    "data311.Zip=pd.to_numeric(data311.Zip,errors='coerce')"
   ]
  },
  {
   "cell_type": "code",
   "execution_count": 4,
   "metadata": {},
   "outputs": [],
   "source": [
    "data311=data311.loc[(data311.Zip>=10000)&(data311.Zip<11500)] #take only NYC zip codes"
   ]
  },
  {
   "cell_type": "code",
   "execution_count": 5,
   "metadata": {},
   "outputs": [],
   "source": [
    "data311=pd.pivot_table(data311,index='Zip',columns='Complain',values='Count',fill_value=0)"
   ]
  },
  {
   "cell_type": "code",
   "execution_count": 6,
   "metadata": {},
   "outputs": [
    {
     "data": {
      "text/html": [
       "<div>\n",
       "<table border=\"1\" class=\"dataframe\">\n",
       "  <thead>\n",
       "    <tr style=\"text-align: right;\">\n",
       "      <th>Complain</th>\n",
       "      <th>APPLIANCE</th>\n",
       "      <th>Adopt-A-Basket</th>\n",
       "      <th>Air Quality</th>\n",
       "      <th>Animal Abuse</th>\n",
       "      <th>Animal Facility - No Permit</th>\n",
       "      <th>Animal in a Park</th>\n",
       "      <th>Asbestos</th>\n",
       "      <th>BEST/Site Safety</th>\n",
       "      <th>Beach/Pool/Sauna Complaint</th>\n",
       "      <th>Bike Rack Condition</th>\n",
       "      <th>...</th>\n",
       "      <th>Unsanitary Pigeon Condition</th>\n",
       "      <th>Urinating in Public</th>\n",
       "      <th>Vacant Lot</th>\n",
       "      <th>Vending</th>\n",
       "      <th>Violation of Park Rules</th>\n",
       "      <th>Water Conservation</th>\n",
       "      <th>Water Quality</th>\n",
       "      <th>Water System</th>\n",
       "      <th>Window Guard</th>\n",
       "      <th>X-Ray Machine/Equipment</th>\n",
       "    </tr>\n",
       "    <tr>\n",
       "      <th>Zip</th>\n",
       "      <th></th>\n",
       "      <th></th>\n",
       "      <th></th>\n",
       "      <th></th>\n",
       "      <th></th>\n",
       "      <th></th>\n",
       "      <th></th>\n",
       "      <th></th>\n",
       "      <th></th>\n",
       "      <th></th>\n",
       "      <th></th>\n",
       "      <th></th>\n",
       "      <th></th>\n",
       "      <th></th>\n",
       "      <th></th>\n",
       "      <th></th>\n",
       "      <th></th>\n",
       "      <th></th>\n",
       "      <th></th>\n",
       "      <th></th>\n",
       "      <th></th>\n",
       "    </tr>\n",
       "  </thead>\n",
       "  <tbody>\n",
       "    <tr>\n",
       "      <th>10000.0</th>\n",
       "      <td>0</td>\n",
       "      <td>0</td>\n",
       "      <td>1</td>\n",
       "      <td>0</td>\n",
       "      <td>0</td>\n",
       "      <td>1</td>\n",
       "      <td>0</td>\n",
       "      <td>0</td>\n",
       "      <td>0</td>\n",
       "      <td>0</td>\n",
       "      <td>...</td>\n",
       "      <td>0</td>\n",
       "      <td>0</td>\n",
       "      <td>0</td>\n",
       "      <td>8</td>\n",
       "      <td>8</td>\n",
       "      <td>0</td>\n",
       "      <td>0</td>\n",
       "      <td>0</td>\n",
       "      <td>0</td>\n",
       "      <td>0</td>\n",
       "    </tr>\n",
       "    <tr>\n",
       "      <th>10001.0</th>\n",
       "      <td>0</td>\n",
       "      <td>1</td>\n",
       "      <td>90</td>\n",
       "      <td>0</td>\n",
       "      <td>0</td>\n",
       "      <td>1</td>\n",
       "      <td>20</td>\n",
       "      <td>36</td>\n",
       "      <td>1</td>\n",
       "      <td>1</td>\n",
       "      <td>...</td>\n",
       "      <td>3</td>\n",
       "      <td>0</td>\n",
       "      <td>2</td>\n",
       "      <td>51</td>\n",
       "      <td>5</td>\n",
       "      <td>5</td>\n",
       "      <td>2</td>\n",
       "      <td>366</td>\n",
       "      <td>0</td>\n",
       "      <td>0</td>\n",
       "    </tr>\n",
       "    <tr>\n",
       "      <th>10002.0</th>\n",
       "      <td>15</td>\n",
       "      <td>0</td>\n",
       "      <td>80</td>\n",
       "      <td>0</td>\n",
       "      <td>0</td>\n",
       "      <td>21</td>\n",
       "      <td>18</td>\n",
       "      <td>20</td>\n",
       "      <td>2</td>\n",
       "      <td>6</td>\n",
       "      <td>...</td>\n",
       "      <td>5</td>\n",
       "      <td>1</td>\n",
       "      <td>4</td>\n",
       "      <td>27</td>\n",
       "      <td>14</td>\n",
       "      <td>10</td>\n",
       "      <td>7</td>\n",
       "      <td>324</td>\n",
       "      <td>0</td>\n",
       "      <td>0</td>\n",
       "    </tr>\n",
       "    <tr>\n",
       "      <th>10003.0</th>\n",
       "      <td>15</td>\n",
       "      <td>1</td>\n",
       "      <td>143</td>\n",
       "      <td>0</td>\n",
       "      <td>2</td>\n",
       "      <td>44</td>\n",
       "      <td>24</td>\n",
       "      <td>13</td>\n",
       "      <td>2</td>\n",
       "      <td>2</td>\n",
       "      <td>...</td>\n",
       "      <td>7</td>\n",
       "      <td>11</td>\n",
       "      <td>2</td>\n",
       "      <td>54</td>\n",
       "      <td>25</td>\n",
       "      <td>12</td>\n",
       "      <td>5</td>\n",
       "      <td>318</td>\n",
       "      <td>0</td>\n",
       "      <td>0</td>\n",
       "    </tr>\n",
       "    <tr>\n",
       "      <th>10004.0</th>\n",
       "      <td>0</td>\n",
       "      <td>0</td>\n",
       "      <td>15</td>\n",
       "      <td>0</td>\n",
       "      <td>0</td>\n",
       "      <td>4</td>\n",
       "      <td>3</td>\n",
       "      <td>1</td>\n",
       "      <td>0</td>\n",
       "      <td>1</td>\n",
       "      <td>...</td>\n",
       "      <td>1</td>\n",
       "      <td>1</td>\n",
       "      <td>0</td>\n",
       "      <td>16</td>\n",
       "      <td>21</td>\n",
       "      <td>0</td>\n",
       "      <td>0</td>\n",
       "      <td>37</td>\n",
       "      <td>0</td>\n",
       "      <td>0</td>\n",
       "    </tr>\n",
       "  </tbody>\n",
       "</table>\n",
       "<p>5 rows × 162 columns</p>\n",
       "</div>"
      ],
      "text/plain": [
       "Complain  APPLIANCE  Adopt-A-Basket  Air Quality  Animal Abuse  \\\n",
       "Zip                                                              \n",
       "10000.0           0               0            1             0   \n",
       "10001.0           0               1           90             0   \n",
       "10002.0          15               0           80             0   \n",
       "10003.0          15               1          143             0   \n",
       "10004.0           0               0           15             0   \n",
       "\n",
       "Complain  Animal Facility - No Permit  Animal in a Park  Asbestos  \\\n",
       "Zip                                                                 \n",
       "10000.0                             0                 1         0   \n",
       "10001.0                             0                 1        20   \n",
       "10002.0                             0                21        18   \n",
       "10003.0                             2                44        24   \n",
       "10004.0                             0                 4         3   \n",
       "\n",
       "Complain  BEST/Site Safety  Beach/Pool/Sauna Complaint  Bike Rack Condition  \\\n",
       "Zip                                                                           \n",
       "10000.0                  0                           0                    0   \n",
       "10001.0                 36                           1                    1   \n",
       "10002.0                 20                           2                    6   \n",
       "10003.0                 13                           2                    2   \n",
       "10004.0                  1                           0                    1   \n",
       "\n",
       "Complain           ...             Unsanitary Pigeon Condition  \\\n",
       "Zip                ...                                           \n",
       "10000.0            ...                                       0   \n",
       "10001.0            ...                                       3   \n",
       "10002.0            ...                                       5   \n",
       "10003.0            ...                                       7   \n",
       "10004.0            ...                                       1   \n",
       "\n",
       "Complain  Urinating in Public  Vacant Lot  Vending  Violation of Park Rules  \\\n",
       "Zip                                                                           \n",
       "10000.0                     0           0        8                        8   \n",
       "10001.0                     0           2       51                        5   \n",
       "10002.0                     1           4       27                       14   \n",
       "10003.0                    11           2       54                       25   \n",
       "10004.0                     1           0       16                       21   \n",
       "\n",
       "Complain  Water Conservation  Water Quality  Water System  Window Guard  \\\n",
       "Zip                                                                       \n",
       "10000.0                    0              0             0             0   \n",
       "10001.0                    5              2           366             0   \n",
       "10002.0                   10              7           324             0   \n",
       "10003.0                   12              5           318             0   \n",
       "10004.0                    0              0            37             0   \n",
       "\n",
       "Complain  X-Ray Machine/Equipment  \n",
       "Zip                                \n",
       "10000.0                         0  \n",
       "10001.0                         0  \n",
       "10002.0                         0  \n",
       "10003.0                         0  \n",
       "10004.0                         0  \n",
       "\n",
       "[5 rows x 162 columns]"
      ]
     },
     "execution_count": 6,
     "metadata": {},
     "output_type": "execute_result"
    }
   ],
   "source": [
    "data311.head()"
   ]
  },
  {
   "cell_type": "code",
   "execution_count": 7,
   "metadata": {},
   "outputs": [],
   "source": [
    "list_311=list(data311.columns)"
   ]
  },
  {
   "cell_type": "code",
   "execution_count": 8,
   "metadata": {},
   "outputs": [
    {
     "data": {
      "text/plain": [
       "['APPLIANCE',\n",
       " 'Adopt-A-Basket',\n",
       " 'Air Quality',\n",
       " 'Animal Abuse',\n",
       " 'Animal Facility - No Permit',\n",
       " 'Animal in a Park',\n",
       " 'Asbestos',\n",
       " 'BEST/Site Safety',\n",
       " 'Beach/Pool/Sauna Complaint',\n",
       " 'Bike Rack Condition']"
      ]
     },
     "execution_count": 8,
     "metadata": {},
     "output_type": "execute_result"
    }
   ],
   "source": [
    "list_311[0:10]"
   ]
  },
  {
   "cell_type": "code",
   "execution_count": 9,
   "metadata": {},
   "outputs": [
    {
     "data": {
      "text/plain": [
       "264"
      ]
     },
     "execution_count": 9,
     "metadata": {},
     "output_type": "execute_result"
    }
   ],
   "source": [
    "len(data311)"
   ]
  },
  {
   "cell_type": "code",
   "execution_count": 10,
   "metadata": {},
   "outputs": [],
   "source": [
    "Total311=data311.sum(axis=1) #total 311 activity per zip code\n",
    "data311=data311.div(data311.sum(axis=1), axis=0) #normalize activity of various cathegories within zip code by total\n",
    "data311=data311.loc[Total311>100] #keep only those zip codes having sufficient activity"
   ]
  },
  {
   "cell_type": "code",
   "execution_count": 11,
   "metadata": {},
   "outputs": [
    {
     "data": {
      "text/plain": [
       "179"
      ]
     },
     "execution_count": 11,
     "metadata": {},
     "output_type": "execute_result"
    }
   ],
   "source": [
    "len(data311) #only 179 zip codes with reliable data left"
   ]
  },
  {
   "cell_type": "markdown",
   "metadata": {},
   "source": [
    "### Apply PCA to 311 data"
   ]
  },
  {
   "cell_type": "code",
   "execution_count": 12,
   "metadata": {},
   "outputs": [],
   "source": [
    "scaler311 = preprocessing.StandardScaler().fit(data311)\n",
    "data311S=scaler311.transform(data311)  "
   ]
  },
  {
   "cell_type": "code",
   "execution_count": 13,
   "metadata": {},
   "outputs": [],
   "source": [
    "# create borough labels \n",
    "Z=np.array(data311.index)\n",
    "manhattanInd=(Z>10000)&(Z<10300) #Manhattan\n",
    "statenInd=(Z>=10300)&(Z<10400) #Staten Island\n",
    "brooklynInd=(Z>=11000)&(Z<11300) #Brooklyn\n",
    "queensInd=(Z>=11300)&(Z<11500) #Queens\n",
    "bronxInd=(Z>=10400)&(Z<10500) #Bronx\n",
    "#create an array of the same length as data311 index providing the borough number\n",
    "D=Z*0\n",
    "D[manhattanInd]=1\n",
    "D[statenInd]=2\n",
    "D[brooklynInd]=3\n",
    "D[queensInd]=4\n",
    "D[bronxInd]=5"
   ]
  },
  {
   "cell_type": "markdown",
   "metadata": {},
   "source": [
    "## Task 1. Apply PCA to 311 data\n",
    "- Visualize the explained variance as the function of the number of leading components\n",
    "- Plot zip codes (as dots) represented by their first and second principal components and colored according to their borough; can you distinguish boroughs based on 311 PCs?"
   ]
  },
  {
   "cell_type": "code",
   "execution_count": 14,
   "metadata": {},
   "outputs": [
    {
     "data": {
      "image/png": "[encoded data removed]",
      "text/plain": [
       "<matplotlib.figure.Figure at 0x7f99bc0cbcd0>"
      ]
     },
     "metadata": {},
     "output_type": "display_data"
    }
   ],
   "source": [
    "n=162 # how many eigenvectors we choose\n",
    "from sklearn.decomposition import PCA\n",
    "pca = PCA(n)\n",
    "P = pca.fit_transform(data311S) #find principal components\n",
    "B = ['Manhattan','Staten Island','Brooklyn','Queens','Bronx']\n",
    "\n",
    "import matplotlib.pylab as plt\n",
    "fig = plt.figure(1, figsize=(8, 6))\n",
    "\n",
    "for d in range(1,6):    \n",
    "    cmap=plt.cm.spectral(np.linspace(0, 1, 5))\n",
    "    plt.scatter(P[D==d, 0], P[D==d, 1],c=cmap[d-1,:],label=B[d-1])\n",
    "    \n",
    "plt.legend()\n",
    "plt.show()"
   ]
  },
  {
   "cell_type": "code",
   "execution_count": 15,
   "metadata": {},
   "outputs": [
    {
     "data": {
      "text/plain": [
       "<matplotlib.text.Text at 0x7f99b9f9bf10>"
      ]
     },
     "execution_count": 15,
     "metadata": {},
     "output_type": "execute_result"
    },
    {
     "data": {
      "image/png": "[encoded data removed]",
      "text/plain": [
       "<matplotlib.figure.Figure at 0x7f99bc0cb590>"
      ]
     },
     "metadata": {},
     "output_type": "display_data"
    }
   ],
   "source": [
    "eigenvalues = pca.explained_variance_\n",
    "plt.bar(np.arange(162), eigenvalues.cumsum()/eigenvalues.sum(),align='center',);\n",
    "plt.ylim(0,1)\n",
    "plt.xlim(0,162)\n",
    "plt.xlabel('number of components')\n",
    "plt.ylabel('variance')"
   ]
  },
  {
   "cell_type": "markdown",
   "metadata": {},
   "source": [
    "# Principal component regression"
   ]
  },
  {
   "cell_type": "markdown",
   "metadata": {
    "collapsed": true
   },
   "source": [
    "## Modeling median income with 311 patterns"
   ]
  },
  {
   "cell_type": "code",
   "execution_count": 17,
   "metadata": {},
   "outputs": [
    {
     "data": {
      "text/html": [
       "<div>\n",
       "<table border=\"1\" class=\"dataframe\">\n",
       "  <thead>\n",
       "    <tr style=\"text-align: right;\">\n",
       "      <th></th>\n",
       "      <th>Median</th>\n",
       "      <th>Mean</th>\n",
       "      <th>Pop</th>\n",
       "    </tr>\n",
       "    <tr>\n",
       "      <th>Zip</th>\n",
       "      <th></th>\n",
       "      <th></th>\n",
       "      <th></th>\n",
       "    </tr>\n",
       "  </thead>\n",
       "  <tbody>\n",
       "    <tr>\n",
       "      <th>1001</th>\n",
       "      <td>56662.5735</td>\n",
       "      <td>66687.7509</td>\n",
       "      <td>16445</td>\n",
       "    </tr>\n",
       "    <tr>\n",
       "      <th>1002</th>\n",
       "      <td>49853.4177</td>\n",
       "      <td>75062.6343</td>\n",
       "      <td>28069</td>\n",
       "    </tr>\n",
       "    <tr>\n",
       "      <th>1003</th>\n",
       "      <td>28462.0000</td>\n",
       "      <td>35121.0000</td>\n",
       "      <td>8491</td>\n",
       "    </tr>\n",
       "    <tr>\n",
       "      <th>1005</th>\n",
       "      <td>75423.0000</td>\n",
       "      <td>82442.0000</td>\n",
       "      <td>4798</td>\n",
       "    </tr>\n",
       "    <tr>\n",
       "      <th>1007</th>\n",
       "      <td>79076.3540</td>\n",
       "      <td>85801.9750</td>\n",
       "      <td>12962</td>\n",
       "    </tr>\n",
       "  </tbody>\n",
       "</table>\n",
       "</div>"
      ],
      "text/plain": [
       "          Median        Mean    Pop\n",
       "Zip                                \n",
       "1001  56662.5735  66687.7509  16445\n",
       "1002  49853.4177  75062.6343  28069\n",
       "1003  28462.0000  35121.0000   8491\n",
       "1005  75423.0000  82442.0000   4798\n",
       "1007  79076.3540  85801.9750  12962"
      ]
     },
     "execution_count": 17,
     "metadata": {},
     "output_type": "execute_result"
    }
   ],
   "source": [
    "#load the data\n",
    "dataIncome=pd.read_csv(\"data/MeanZIP.csv\",index_col=0)\n",
    "dataIncome=dataIncome.apply(pd.to_numeric, errors='coerce')\n",
    "dataIncome=dataIncome.loc[dataIncome.Mean>0]\n",
    "dataIncome.head()"
   ]
  },
  {
   "cell_type": "code",
   "execution_count": 18,
   "metadata": {},
   "outputs": [],
   "source": [
    "#merge income data with 311\n",
    "DataIncome1=dataIncome.merge(data311,left_index=True,right_index=True)"
   ]
  },
  {
   "cell_type": "code",
   "execution_count": 16,
   "metadata": {},
   "outputs": [
    {
     "name": "stdout",
     "output_type": "stream",
     "text": [
      "                            OLS Regression Results                            \n",
      "==============================================================================\n",
      "Dep. Variable:                 Median   R-squared:                       0.994\n",
      "Model:                            OLS   Adj. R-squared:                  0.926\n",
      "Method:                 Least Squares   F-statistic:                     14.53\n",
      "Date:                Wed, 03 Oct 2018   Prob (F-statistic):           2.35e-06\n",
      "Time:                        15:55:15   Log-Likelihood:                -1569.2\n",
      "No. Observations:                 175   AIC:                             3462.\n",
      "Df Residuals:                      13   BIC:                             3975.\n",
      "Df Model:                         161                                         \n",
      "Covariance Type:            nonrobust                                         \n",
      "===========================================================================================================\n",
      "                                              coef    std err          t      P>|t|      [95.0% Conf. Int.]\n",
      "-----------------------------------------------------------------------------------------------------------\n",
      "const                                   -2.743e+06   4.33e+06     -0.633      0.538     -1.21e+07  6.61e+06\n",
      "APPLIANCE                                1.018e+06    6.3e+06      0.162      0.874     -1.26e+07  1.46e+07\n",
      "Adopt-A-Basket                           2.464e+06   2.61e+07      0.095      0.926     -5.38e+07  5.87e+07\n",
      "Air Quality                              5.704e+06   4.72e+06      1.210      0.248     -4.48e+06  1.59e+07\n",
      "Animal Abuse                             2.104e+06   6.03e+06      0.349      0.733     -1.09e+07  1.51e+07\n",
      "Animal Facility - No Permit             -6.253e+06   1.85e+07     -0.338      0.741     -4.63e+07  3.38e+07\n",
      "Animal in a Park                         3.486e+06   4.49e+06      0.777      0.451      -6.2e+06  1.32e+07\n",
      "Asbestos                                 2.554e+06   7.13e+06      0.358      0.726     -1.28e+07   1.8e+07\n",
      "BEST/Site Safety                        -8.579e+06   5.49e+06     -1.563      0.142     -2.04e+07  3.28e+06\n",
      "Beach/Pool/Sauna Complaint              -7.677e+06   9.88e+06     -0.777      0.451      -2.9e+07  1.37e+07\n",
      "Bike Rack Condition                      3.965e+06    1.8e+07      0.221      0.829     -3.48e+07  4.28e+07\n",
      "Bike/Roller/Skate Chronic                2.428e+05   8.08e+06      0.030      0.976     -1.72e+07  1.77e+07\n",
      "Blocked Driveway                         3.172e+06   4.34e+06      0.731      0.478      -6.2e+06  1.25e+07\n",
      "Boilers                                  7.558e+06   5.23e+06      1.446      0.172     -3.74e+06  1.89e+07\n",
      "Bottled Water                           -2.749e+07   4.75e+07     -0.578      0.573      -1.3e+08  7.52e+07\n",
      "Bridge Condition                         5.992e+06    4.4e+06      1.361      0.197     -3.52e+06  1.55e+07\n",
      "Broken Muni Meter                        3.134e+06   4.35e+06      0.721      0.484     -6.26e+06  1.25e+07\n",
      "Broken Parking Meter                    -3.856e+06   8.72e+06     -0.442      0.666     -2.27e+07   1.5e+07\n",
      "Building Condition                      -8.617e+07   7.26e+07     -1.186      0.257     -2.43e+08  7.07e+07\n",
      "Building/Use                             2.522e+06   4.39e+06      0.575      0.575     -6.95e+06   1.2e+07\n",
      "Bus Stop Shelter Placement               1.019e+07    7.6e+06      1.342      0.203     -6.21e+06  2.66e+07\n",
      "CONSTRUCTION                             8.249e+06   7.24e+06      1.139      0.275     -7.39e+06  2.39e+07\n",
      "Calorie Labeling                         1.464e+07   5.81e+07      0.252      0.805     -1.11e+08   1.4e+08\n",
      "City Vehicle Placard Complaint          -2.092e+07   9.89e+06     -2.115      0.054     -4.23e+07  4.51e+05\n",
      "Collection Truck Noise                  -2.067e+07   1.91e+07     -1.084      0.298     -6.19e+07  2.05e+07\n",
      "Construction                             1.836e+06   4.43e+06      0.415      0.685     -7.73e+06  1.14e+07\n",
      "Consumer Complaint                       3.005e+06   4.34e+06      0.693      0.500     -6.36e+06  1.24e+07\n",
      "Cranes and Derricks                      1.866e+07   9.48e+06      1.968      0.071     -1.83e+06  3.91e+07\n",
      "Curb Condition                          -4.178e+06    5.1e+06     -0.819      0.428     -1.52e+07  6.84e+06\n",
      "DOF Parking - Tax Exemption             -4.149e+06   5.27e+06     -0.787      0.446     -1.55e+07  7.25e+06\n",
      "DPR Internal                            -7.645e+06   8.46e+06     -0.903      0.383     -2.59e+07  1.06e+07\n",
      "Damaged Tree                             2.895e+06   4.26e+06      0.680      0.508      -6.3e+06  1.21e+07\n",
      "Dead Tree                                2.952e+06    4.4e+06      0.671      0.514     -6.56e+06  1.25e+07\n",
      "Derelict Bicycle                        -3.158e+05   5.42e+06     -0.058      0.954      -1.2e+07  1.14e+07\n",
      "Derelict Vehicle                         3.029e+06   4.35e+06      0.695      0.499     -6.38e+06  1.24e+07\n",
      "Derelict Vehicles                        3.245e+06   4.21e+06      0.771      0.455     -5.85e+06  1.23e+07\n",
      "Dirty Conditions                         2.973e+06   4.33e+06      0.687      0.504     -6.38e+06  1.23e+07\n",
      "Disorderly Youth                         7.097e+05   5.79e+06      0.123      0.904     -1.18e+07  1.32e+07\n",
      "Drinking                                 2.801e+06   6.52e+06      0.430      0.675     -1.13e+07  1.69e+07\n",
      "Drinking Water                          -2.595e+07   1.62e+07     -1.604      0.133     -6.09e+07  8.99e+06\n",
      "EAP Inspection - F59                     1.499e+06   5.48e+06      0.274      0.789     -1.03e+07  1.33e+07\n",
      "ELECTRIC                                  2.85e+06   4.47e+06      0.637      0.535     -6.81e+06  1.25e+07\n",
      "Electrical                               1.952e+06   6.03e+06      0.324      0.751     -1.11e+07   1.5e+07\n",
      "Elevator                                 2.324e+06   4.69e+06      0.496      0.628     -7.81e+06  1.25e+07\n",
      "Emergency Response Team (ERT)            1.426e+07   1.01e+07      1.418      0.180     -7.47e+06   3.6e+07\n",
      "Fire Alarm - Addition                    4.022e+07   3.94e+07      1.021      0.326     -4.49e+07  1.25e+08\n",
      "Fire Alarm - Modification               -1.072e+07   1.14e+07     -0.941      0.364     -3.53e+07  1.39e+07\n",
      "Fire Alarm - New System                  4.815e+07   1.87e+07      2.574      0.023      7.74e+06  8.86e+07\n",
      "Fire Alarm - Reinspection                5.207e+06   9.78e+06      0.532      0.603     -1.59e+07  2.63e+07\n",
      "Fire Alarm - Replacement                 9.892e+07   3.64e+07      2.716      0.018      2.02e+07  1.78e+08\n",
      "Fire Safety Director - F58               2.931e+06   4.58e+06      0.640      0.534     -6.97e+06  1.28e+07\n",
      "Food Establishment                       7.167e+05   5.15e+06      0.139      0.891     -1.04e+07  1.18e+07\n",
      "Food Poisoning                           2.747e+06   4.83e+06      0.569      0.579     -7.69e+06  1.32e+07\n",
      "For Hire Vehicle Complaint                3.49e+06   4.73e+06      0.737      0.474     -6.73e+06  1.37e+07\n",
      "Found Property                          -1.141e+07   1.45e+07     -0.788      0.445     -4.27e+07  1.99e+07\n",
      "GENERAL                                 -8.324e+05   4.66e+06     -0.179      0.861     -1.09e+07  9.24e+06\n",
      "GENERAL CONSTRUCTION                     2.775e+06   4.25e+06      0.652      0.526     -6.41e+06   1.2e+07\n",
      "General Construction/Plumbing            2.967e+06   4.46e+06      0.665      0.517     -6.67e+06  1.26e+07\n",
      "Graffiti                                 3.074e+06   4.33e+06      0.711      0.490     -6.27e+06  1.24e+07\n",
      "HEATING                                  2.739e+06   4.33e+06      0.633      0.538     -6.61e+06  1.21e+07\n",
      "Harboring Bees/Wasps                     1.101e+07   1.33e+07      0.828      0.423     -1.77e+07  3.97e+07\n",
      "Hazardous Materials                     -2.239e+06   5.01e+06     -0.447      0.662     -1.31e+07  8.59e+06\n",
      "Hazmat Storage/Use                      -9.613e+07   1.04e+08     -0.928      0.370      -3.2e+08  1.28e+08\n",
      "Highway Condition                        2.926e+06   4.39e+06      0.667      0.517     -6.55e+06  1.24e+07\n",
      "Highway Sign - Damaged                  -7.734e+06   3.08e+07     -0.251      0.806     -7.43e+07  5.88e+07\n",
      "Highway Sign - Dangling                 -3.115e+07   1.21e+08     -0.257      0.801     -2.93e+08   2.3e+08\n",
      "Highway Sign - Missing                   4.466e+06   3.87e+07      0.115      0.910     -7.91e+07  8.81e+07\n",
      "Homeless Encampment                      4.605e+06   5.35e+06      0.861      0.405     -6.94e+06  1.62e+07\n",
      "Homeless Person Assistance               -3.86e+06   5.49e+06     -0.703      0.494     -1.57e+07     8e+06\n",
      "Illegal Animal Kept as Pet              -5.012e+06   1.12e+07     -0.448      0.662     -2.92e+07  1.92e+07\n",
      "Illegal Animal Sold                      1.013e+07   1.74e+07      0.581      0.571     -2.75e+07  4.78e+07\n",
      "Illegal Fireworks                        5.823e+06   1.44e+07      0.405      0.692     -2.52e+07  3.69e+07\n",
      "Illegal Parking                          2.594e+06   4.39e+06      0.591      0.565     -6.89e+06  1.21e+07\n",
      "Illegal Tree Damage                      4.475e+06   5.16e+06      0.867      0.401     -6.67e+06  1.56e+07\n",
      "Indoor Air Quality                       5.192e+06   4.16e+06      1.249      0.234     -3.79e+06  1.42e+07\n",
      "Indoor Sewage                            1.128e+06   5.84e+06      0.193      0.850     -1.15e+07  1.37e+07\n",
      "Industrial Waste                         -1.85e+05   5.81e+06     -0.032      0.975     -1.27e+07  1.24e+07\n",
      "Investigations and Discipline (IAD)      9.723e+06   7.35e+06      1.323      0.208     -6.15e+06  2.56e+07\n",
      "Lead                                     5.579e+05   4.79e+06      0.117      0.909     -9.78e+06  1.09e+07\n",
      "Legal Services Provider Complaint       -8.514e+07   6.26e+07     -1.360      0.197      -2.2e+08  5.01e+07\n",
      "Lifeguard                                4.024e+07   5.23e+07      0.769      0.456     -7.28e+07  1.53e+08\n",
      "Literature Request                      -2.187e+08   4.97e+08     -0.440      0.667     -1.29e+09  8.55e+08\n",
      "Litter Basket / Request                  2.864e+06   4.75e+06      0.603      0.557      -7.4e+06  1.31e+07\n",
      "Maintenance or Facility                  3.685e+06   4.18e+06      0.882      0.394     -5.34e+06  1.27e+07\n",
      "Miscellaneous Categories                 1.598e+06   7.93e+06      0.202      0.843     -1.55e+07  1.87e+07\n",
      "Missed Collection (All Materials)        2.751e+06   4.39e+06      0.627      0.541     -6.72e+06  1.22e+07\n",
      "Mold                                    -5.122e+05   8.23e+06     -0.062      0.951     -1.83e+07  1.73e+07\n",
      "Municipal Parking Facility               1.006e+07   1.15e+07      0.874      0.398     -1.48e+07   3.5e+07\n",
      "NONCONST                                 2.706e+06   4.44e+06      0.610      0.553     -6.88e+06  1.23e+07\n",
      "Noise                                    3.009e+06   4.28e+06      0.703      0.494     -6.24e+06  1.23e+07\n",
      "Noise - Commercial                       2.881e+06   4.37e+06      0.660      0.521     -6.55e+06  1.23e+07\n",
      "Noise - Helicopter                       9.827e+06   4.96e+06      1.982      0.069     -8.87e+05  2.05e+07\n",
      "Noise - House of Worship                 7.988e+06   4.83e+06      1.653      0.122     -2.45e+06  1.84e+07\n",
      "Noise - Park                             2.431e+06   4.74e+06      0.513      0.617      -7.8e+06  1.27e+07\n",
      "Noise - Street/Sidewalk                  2.701e+06   4.27e+06      0.632      0.538     -6.53e+06  1.19e+07\n",
      "Noise - Vehicle                          2.546e+06   4.45e+06      0.572      0.577     -7.07e+06  1.22e+07\n",
      "Non-Residential Heat                     6.177e+06   7.19e+06      0.859      0.406     -9.36e+06  2.17e+07\n",
      "Open Flame Permit                        -2.75e+07   3.47e+07     -0.792      0.443     -1.03e+08  4.76e+07\n",
      "Other Enforcement                        3.346e+06   4.47e+06      0.748      0.468     -6.31e+06   1.3e+07\n",
      "Overflowing Litter Baskets               6.051e+06   5.16e+06      1.173      0.262     -5.09e+06  1.72e+07\n",
      "Overgrown Tree/Branches                  2.693e+06   4.41e+06      0.611      0.552     -6.83e+06  1.22e+07\n",
      "PAINT - PLASTER                           2.49e+06   4.31e+06      0.578      0.573     -6.82e+06  1.18e+07\n",
      "PAINT/PLASTER                            6.227e+05   6.56e+06      0.095      0.926     -1.35e+07  1.48e+07\n",
      "PLUMBING                                 3.075e+06   4.34e+06      0.709      0.491     -6.29e+06  1.24e+07\n",
      "Panhandling                              3.256e+05   7.38e+06      0.044      0.965     -1.56e+07  1.63e+07\n",
      "Plant                                    1.751e+06   3.89e+06      0.450      0.660     -6.65e+06  1.02e+07\n",
      "Plumbing                                  3.18e+05   5.11e+06      0.062      0.951     -1.07e+07  1.14e+07\n",
      "Poison Ivy                               7.368e+06   1.47e+07      0.500      0.625     -2.45e+07  3.92e+07\n",
      "Portable Toilet                         -2.474e+08   2.25e+08     -1.101      0.291     -7.33e+08  2.38e+08\n",
      "Posting Advertisement                    8.027e+05   1.76e+07      0.046      0.964     -3.71e+07  3.87e+07\n",
      "Public Assembly                         -2.845e+06   3.34e+07     -0.085      0.933     -7.51e+07  6.94e+07\n",
      "Public Assembly - Temporary              2.078e+08   2.17e+08      0.957      0.356     -2.61e+08  6.77e+08\n",
      "Public Payphone Complaint               -1.246e+07   7.88e+06     -1.580      0.138     -2.95e+07  4.57e+06\n",
      "Public Toilet                            2.054e+07   3.07e+07      0.669      0.515     -4.58e+07  8.69e+07\n",
      "Radioactive Material                     4.897e+07   8.28e+07      0.592      0.564      -1.3e+08  2.28e+08\n",
      "Rangehood                                3.281e+07   8.21e+07      0.400      0.696     -1.45e+08   2.1e+08\n",
      "Recycling Enforcement                    7.905e+06   9.72e+06      0.814      0.431     -1.31e+07  2.89e+07\n",
      "Rodent                                   2.823e+06   4.28e+06      0.659      0.521     -6.43e+06  1.21e+07\n",
      "Root/Sewer/Sidewalk Condition            2.702e+06   4.15e+06      0.652      0.526     -6.26e+06  1.17e+07\n",
      "SCRIE                                     4.45e+06   4.98e+06      0.893      0.388     -6.31e+06  1.52e+07\n",
      "STRUCTURAL                               3.381e+07   6.54e+07      0.517      0.614     -1.08e+08  1.75e+08\n",
      "Sanitation Condition                     1.769e+06   4.02e+06      0.440      0.667     -6.92e+06  1.05e+07\n",
      "Scaffold Safety                         -1.284e+07   1.45e+07     -0.885      0.392     -4.42e+07  1.85e+07\n",
      "School Maintenance                      -1.609e+06   4.39e+06     -0.367      0.720     -1.11e+07  7.87e+06\n",
      "Senior Center Complaint                  1.054e+07   1.31e+07      0.804      0.436     -1.78e+07  3.89e+07\n",
      "Sewer                                    2.851e+06   4.47e+06      0.638      0.535     -6.81e+06  1.25e+07\n",
      "Sidewalk Condition                        5.78e+06   4.61e+06      1.253      0.232     -4.18e+06  1.57e+07\n",
      "Smoking                                  1.113e+06   4.57e+06      0.244      0.811     -8.75e+06   1.1e+07\n",
      "Snow                                     2.602e+06      7e+06      0.372      0.716     -1.25e+07  1.77e+07\n",
      "Special Enforcement                      2.983e+06   4.02e+06      0.741      0.472     -5.71e+06  1.17e+07\n",
      "Special Natural Area District (SNAD)     1.912e+05   8.55e+06      0.022      0.982     -1.83e+07  1.87e+07\n",
      "Special Projects Inspection Team (SPIT)  1.832e+06   4.25e+06      0.431      0.674     -7.35e+06   1.1e+07\n",
      "Sprinkler - Mechanical                   5.163e+07   1.86e+08      0.278      0.786      -3.5e+08  4.53e+08\n",
      "Squeegee                                 1.413e+08   1.56e+08      0.904      0.383     -1.96e+08  4.79e+08\n",
      "Stalled Sites                            2.935e+06   2.05e+07      0.143      0.888     -4.14e+07  4.72e+07\n",
      "Standing Water                           6.929e+06   4.42e+06      1.566      0.141     -2.63e+06  1.65e+07\n",
      "Standpipe - Mechanical                   8.374e+07    1.7e+08      0.492      0.631     -2.84e+08  4.52e+08\n",
      "Street Condition                         2.953e+06   4.37e+06      0.675      0.511      -6.5e+06  1.24e+07\n",
      "Street Light Condition                   2.959e+06   4.38e+06      0.676      0.511     -6.49e+06  1.24e+07\n",
      "Street Sign - Damaged                    2.104e+06   4.31e+06      0.489      0.633      -7.2e+06  1.14e+07\n",
      "Street Sign - Dangling                   2.157e+06   6.18e+06      0.349      0.733     -1.12e+07  1.55e+07\n",
      "Street Sign - Missing                    4.523e+06   4.12e+06      1.099      0.292     -4.37e+06  1.34e+07\n",
      "Summer Camp                              -2.55e+08   1.09e+08     -2.330      0.037     -4.91e+08 -1.86e+07\n",
      "Sweeping/Missed-Inadequate               1.293e+06   6.47e+06      0.200      0.845     -1.27e+07  1.53e+07\n",
      "Tattooing                                2.796e+07   1.31e+07      2.142      0.052     -2.36e+05  5.62e+07\n",
      "Taxi Complaint                           2.916e+06   4.43e+06      0.659      0.521     -6.64e+06  1.25e+07\n",
      "Traffic                                  2.544e+06   4.68e+06      0.543      0.596     -7.57e+06  1.27e+07\n",
      "Traffic Signal Condition                 2.679e+06   4.49e+06      0.596      0.561     -7.03e+06  1.24e+07\n",
      "Trans Fat                               -1.627e+07   6.08e+07     -0.267      0.793     -1.48e+08  1.15e+08\n",
      "Transportation Provider Complaint        3.344e+07   3.55e+07      0.943      0.363     -4.32e+07   1.1e+08\n",
      "Unleashed Dog                            3.947e+06   6.39e+06      0.618      0.547     -9.86e+06  1.78e+07\n",
      "Unsanitary Animal Facility                2.26e+06   9.58e+06      0.236      0.817     -1.84e+07   2.3e+07\n",
      "Unsanitary Animal Pvt Property           4.624e+06   6.91e+06      0.670      0.515     -1.03e+07  1.95e+07\n",
      "Unsanitary Pigeon Condition              -1.62e+07   6.43e+06     -2.518      0.026     -3.01e+07  -2.3e+06\n",
      "Urinating in Public                      5.325e+05   9.03e+06      0.059      0.954      -1.9e+07     2e+07\n",
      "Vacant Lot                               2.457e+06   4.38e+06      0.561      0.584     -7.01e+06  1.19e+07\n",
      "Vending                                  2.576e+06   4.55e+06      0.566      0.581     -7.25e+06  1.24e+07\n",
      "Violation of Park Rules                  8.105e+05   4.92e+06      0.165      0.872     -9.82e+06  1.14e+07\n",
      "Water Conservation                       2.515e+06   4.46e+06      0.564      0.582     -7.12e+06  1.21e+07\n",
      "Water Quality                            3.891e+06   7.09e+06      0.548      0.593     -1.14e+07  1.92e+07\n",
      "Water System                             2.725e+06   4.28e+06      0.636      0.536     -6.53e+06   1.2e+07\n",
      "Window Guard                            -1.543e+07   4.09e+07     -0.377      0.712     -1.04e+08   7.3e+07\n",
      "X-Ray Machine/Equipment                 -3.647e+07   5.45e+07     -0.669      0.515     -1.54e+08  8.13e+07\n",
      "==============================================================================\n",
      "Omnibus:                       25.062   Durbin-Watson:                   2.105\n",
      "Prob(Omnibus):                  0.000   Jarque-Bera (JB):               93.724\n",
      "Skew:                           0.414   Prob(JB):                     4.45e-21\n",
      "Kurtosis:                       6.488   Cond. No.                     6.20e+15\n",
      "==============================================================================\n",
      "\n",
      "Warnings:\n",
      "[1] Standard Errors assume that the covariance matrix of the errors is correctly specified.\n",
      "[2] The smallest eigenvalue is 4.71e-30. This might indicate that there are\n",
      "strong multicollinearity problems or that the design matrix is singular.\n"
     ]
    }
   ],
   "source": [
    "data=DataIncome1.iloc[:,3:]\n",
    "Y=DataIncome1.Median\n",
    "lm=sm.OLS(Y,sm.add_constant(data)).fit()\n",
    "print lm.summary()"
   ]
  },
  {
   "cell_type": "code",
   "execution_count": 17,
   "metadata": {},
   "outputs": [
    {
     "data": {
      "text/plain": [
       "(175, 165)"
      ]
     },
     "execution_count": 17,
     "metadata": {},
     "output_type": "execute_result"
    }
   ],
   "source": [
    "#however as we see number of observations almost matches the number of regressors (162)\n",
    "DataIncome1.shape"
   ]
  },
  {
   "cell_type": "code",
   "execution_count": 18,
   "metadata": {},
   "outputs": [
    {
     "name": "stdout",
     "output_type": "stream",
     "text": [
      "IS R-squared is 1.000+-0.000\n",
      "OS R-squared is -10.390+-19.833\n"
     ]
    }
   ],
   "source": [
    "np.random.seed(0)\n",
    "# Apply cross-validation to diagnose model for overfitting\n",
    "np.random.seed(2018)\n",
    "R_IS=[]; R_OS=[] #lists for recording in-sample (training) and out-of-sample (test) R2\n",
    "n=100 #number of runs\n",
    "for i in range(n):\n",
    "    X_train, X_test, y_train, y_test = train_test_split(sm.add_constant(data.iloc[:,:]),Y,test_size=0.3) #randomly split data into training (70%) and test (30%)\n",
    "    res=sm.OLS(y_train,X_train).fit()\n",
    "    R_IS.append(res.rsquared)                                                                     \n",
    "    R_OS.append(1-((np.asarray(res.predict(X_test))-y_test)**2).sum()/((y_test-np.mean(y_test))**2).sum())\n",
    "print(\"IS R-squared is %.3f+-%.3f\"%(np.mean(R_IS),np.std(R_IS)))\n",
    "print(\"OS R-squared is %.3f+-%.3f\"%(np.mean(R_OS),np.std(R_OS)))"
   ]
  },
  {
   "cell_type": "markdown",
   "metadata": {},
   "source": [
    "Severe overfitting encountered, even if we take either half of the variables (making sure regression is not going to be a simple linear model), the pattern is still the same. Feature selection can help but even this does not allow to get above 40% OS R2"
   ]
  },
  {
   "cell_type": "code",
   "execution_count": 19,
   "metadata": {},
   "outputs": [
    {
     "name": "stdout",
     "output_type": "stream",
     "text": [
      "IS R-squared is 0.659+-0.038\n",
      "OS R-squared is 0.596+-0.114\n"
     ]
    }
   ],
   "source": [
    "np.random.seed(0)\n",
    "# Apply cross-validation to diagnose model for overfitting\n",
    "R_IS=[]; R_OS=[] #lists for recording in-sample (training) and out-of-sample (test) R2\n",
    "n=100 #number of runs\n",
    "for i in range(n):\n",
    "    X_train, X_test, y_train, y_test = train_test_split(data.iloc[:,:],Y,test_size=0.3) #randomly split data into training (70%) and test (30%)\n",
    "    #now apply PCA to the training data\n",
    "    pca = PCA(5) #take only 5 leading principal components to get enough data but avoid overfitting\n",
    "    P_train=pca.fit_transform(X_train)\n",
    "    res=sm.OLS(y_train,sm.add_constant(P_train)).fit()\n",
    "    #and apply the same rotation transform we learned for training sample to the test sample\n",
    "    #this is important that we learn PCA transform from the training sample only rather than from both - training and test\n",
    "    #as this is part of the principle component regression we need to train; and all training should happen over the training set\n",
    "    P_test=pca.transform(X_test)\n",
    "    y_pred=np.asarray(res.predict(sm.add_constant(P_test)))\n",
    "    \n",
    "    R_IS.append(res.rsquared)                                                                     \n",
    "    R_OS.append(1-((y_pred-y_test)**2).sum()/((y_test-np.mean(y_test))**2).sum())\n",
    "print(\"IS R-squared is %.3f+-%.3f\"%(np.mean(R_IS),np.std(R_IS)))\n",
    "print(\"OS R-squared is %.3f+-%.3f\"%(np.mean(R_OS),np.std(R_OS)))"
   ]
  },
  {
   "cell_type": "markdown",
   "metadata": {},
   "source": [
    "Out of sample R2 is now nearly 60%! And almost as high ar IS R2, so almost no overfitting"
   ]
  },
  {
   "cell_type": "markdown",
   "metadata": {},
   "source": [
    "# Task 2. \n",
    "Repeat the analysis for median price per sq.foot from Zillow as reported for 2018-08. See if regression based on 311 data with PCA could survive overfitting. Visualize performance depending on the number N of leading PCs to take (implement a 20-times-cross-validation as a function of N returing OS R2, run it for N=1,2,...30, return the best N and the corresponding R2, mark it with a vertical line on the plot and put the value of N and the corresponding R2 as text labels)"
   ]
  },
  {
   "cell_type": "code",
   "execution_count": 20,
   "metadata": {},
   "outputs": [
    {
     "data": {
      "text/html": [
       "<div>\n",
       "<table border=\"1\" class=\"dataframe\">\n",
       "  <thead>\n",
       "    <tr style=\"text-align: right;\">\n",
       "      <th></th>\n",
       "      <th>City</th>\n",
       "      <th>State</th>\n",
       "      <th>Metro</th>\n",
       "      <th>CountyName</th>\n",
       "      <th>SizeRank</th>\n",
       "      <th>2010-01</th>\n",
       "      <th>2010-02</th>\n",
       "      <th>2010-03</th>\n",
       "      <th>2010-04</th>\n",
       "      <th>2010-05</th>\n",
       "      <th>...</th>\n",
       "      <th>2017-11</th>\n",
       "      <th>2017-12</th>\n",
       "      <th>2018-01</th>\n",
       "      <th>2018-02</th>\n",
       "      <th>2018-03</th>\n",
       "      <th>2018-04</th>\n",
       "      <th>2018-05</th>\n",
       "      <th>2018-06</th>\n",
       "      <th>2018-07</th>\n",
       "      <th>2018-08</th>\n",
       "    </tr>\n",
       "    <tr>\n",
       "      <th>RegionName</th>\n",
       "      <th></th>\n",
       "      <th></th>\n",
       "      <th></th>\n",
       "      <th></th>\n",
       "      <th></th>\n",
       "      <th></th>\n",
       "      <th></th>\n",
       "      <th></th>\n",
       "      <th></th>\n",
       "      <th></th>\n",
       "      <th></th>\n",
       "      <th></th>\n",
       "      <th></th>\n",
       "      <th></th>\n",
       "      <th></th>\n",
       "      <th></th>\n",
       "      <th></th>\n",
       "      <th></th>\n",
       "      <th></th>\n",
       "      <th></th>\n",
       "      <th></th>\n",
       "    </tr>\n",
       "  </thead>\n",
       "  <tbody>\n",
       "    <tr>\n",
       "      <th>10023</th>\n",
       "      <td>New York</td>\n",
       "      <td>NY</td>\n",
       "      <td>New York, NY</td>\n",
       "      <td>New York</td>\n",
       "      <td>1</td>\n",
       "      <td>NaN</td>\n",
       "      <td>NaN</td>\n",
       "      <td>NaN</td>\n",
       "      <td>NaN</td>\n",
       "      <td>1366.621067</td>\n",
       "      <td>...</td>\n",
       "      <td>1954.992968</td>\n",
       "      <td>1983.055556</td>\n",
       "      <td>1963.986600</td>\n",
       "      <td>1702.573836</td>\n",
       "      <td>1522.948540</td>\n",
       "      <td>1568.100358</td>\n",
       "      <td>1612.378790</td>\n",
       "      <td>1569.371728</td>\n",
       "      <td>1599.538839</td>\n",
       "      <td>1619.794484</td>\n",
       "    </tr>\n",
       "    <tr>\n",
       "      <th>60614</th>\n",
       "      <td>Chicago</td>\n",
       "      <td>IL</td>\n",
       "      <td>Chicago, IL</td>\n",
       "      <td>Cook</td>\n",
       "      <td>2</td>\n",
       "      <td>347.391304</td>\n",
       "      <td>333.975410</td>\n",
       "      <td>332.666667</td>\n",
       "      <td>324.490763</td>\n",
       "      <td>325.832510</td>\n",
       "      <td>...</td>\n",
       "      <td>514.255544</td>\n",
       "      <td>522.193211</td>\n",
       "      <td>519.321330</td>\n",
       "      <td>520.408163</td>\n",
       "      <td>476.592732</td>\n",
       "      <td>463.928571</td>\n",
       "      <td>470.769231</td>\n",
       "      <td>461.960986</td>\n",
       "      <td>455.861397</td>\n",
       "      <td>436.111111</td>\n",
       "    </tr>\n",
       "    <tr>\n",
       "      <th>79936</th>\n",
       "      <td>El Paso</td>\n",
       "      <td>TX</td>\n",
       "      <td>El Paso, TX</td>\n",
       "      <td>El Paso</td>\n",
       "      <td>3</td>\n",
       "      <td>88.688320</td>\n",
       "      <td>88.159032</td>\n",
       "      <td>87.940589</td>\n",
       "      <td>87.929656</td>\n",
       "      <td>87.368706</td>\n",
       "      <td>...</td>\n",
       "      <td>88.419016</td>\n",
       "      <td>88.540363</td>\n",
       "      <td>88.755279</td>\n",
       "      <td>88.455330</td>\n",
       "      <td>88.367347</td>\n",
       "      <td>89.118199</td>\n",
       "      <td>90.128755</td>\n",
       "      <td>90.316333</td>\n",
       "      <td>90.726125</td>\n",
       "      <td>91.668726</td>\n",
       "    </tr>\n",
       "    <tr>\n",
       "      <th>10002</th>\n",
       "      <td>New York</td>\n",
       "      <td>NY</td>\n",
       "      <td>New York, NY</td>\n",
       "      <td>New York</td>\n",
       "      <td>4</td>\n",
       "      <td>NaN</td>\n",
       "      <td>NaN</td>\n",
       "      <td>NaN</td>\n",
       "      <td>NaN</td>\n",
       "      <td>NaN</td>\n",
       "      <td>...</td>\n",
       "      <td>2041.247701</td>\n",
       "      <td>2043.165468</td>\n",
       "      <td>2063.785322</td>\n",
       "      <td>2012.302285</td>\n",
       "      <td>2015.369804</td>\n",
       "      <td>2026.353276</td>\n",
       "      <td>2022.274326</td>\n",
       "      <td>2013.831259</td>\n",
       "      <td>1997.942387</td>\n",
       "      <td>2030.259366</td>\n",
       "    </tr>\n",
       "    <tr>\n",
       "      <th>926</th>\n",
       "      <td>San Juan</td>\n",
       "      <td>TX</td>\n",
       "      <td>Brownsville, TX</td>\n",
       "      <td>Cameron</td>\n",
       "      <td>5</td>\n",
       "      <td>NaN</td>\n",
       "      <td>NaN</td>\n",
       "      <td>NaN</td>\n",
       "      <td>NaN</td>\n",
       "      <td>NaN</td>\n",
       "      <td>...</td>\n",
       "      <td>92.968750</td>\n",
       "      <td>92.954963</td>\n",
       "      <td>93.776641</td>\n",
       "      <td>92.968750</td>\n",
       "      <td>95.090118</td>\n",
       "      <td>103.846154</td>\n",
       "      <td>100.411523</td>\n",
       "      <td>108.447489</td>\n",
       "      <td>102.270729</td>\n",
       "      <td>102.270729</td>\n",
       "    </tr>\n",
       "  </tbody>\n",
       "</table>\n",
       "<p>5 rows × 109 columns</p>\n",
       "</div>"
      ],
      "text/plain": [
       "                City State            Metro CountyName  SizeRank     2010-01  \\\n",
       "RegionName                                                                     \n",
       "10023       New York    NY     New York, NY   New York         1         NaN   \n",
       "60614        Chicago    IL      Chicago, IL       Cook         2  347.391304   \n",
       "79936        El Paso    TX      El Paso, TX    El Paso         3   88.688320   \n",
       "10002       New York    NY     New York, NY   New York         4         NaN   \n",
       "926         San Juan    TX  Brownsville, TX    Cameron         5         NaN   \n",
       "\n",
       "               2010-02     2010-03     2010-04      2010-05     ...       \\\n",
       "RegionName                                                      ...        \n",
       "10023              NaN         NaN         NaN  1366.621067     ...        \n",
       "60614       333.975410  332.666667  324.490763   325.832510     ...        \n",
       "79936        88.159032   87.940589   87.929656    87.368706     ...        \n",
       "10002              NaN         NaN         NaN          NaN     ...        \n",
       "926                NaN         NaN         NaN          NaN     ...        \n",
       "\n",
       "                2017-11      2017-12      2018-01      2018-02      2018-03  \\\n",
       "RegionName                                                                    \n",
       "10023       1954.992968  1983.055556  1963.986600  1702.573836  1522.948540   \n",
       "60614        514.255544   522.193211   519.321330   520.408163   476.592732   \n",
       "79936         88.419016    88.540363    88.755279    88.455330    88.367347   \n",
       "10002       2041.247701  2043.165468  2063.785322  2012.302285  2015.369804   \n",
       "926           92.968750    92.954963    93.776641    92.968750    95.090118   \n",
       "\n",
       "                2018-04      2018-05      2018-06      2018-07      2018-08  \n",
       "RegionName                                                                   \n",
       "10023       1568.100358  1612.378790  1569.371728  1599.538839  1619.794484  \n",
       "60614        463.928571   470.769231   461.960986   455.861397   436.111111  \n",
       "79936         89.118199    90.128755    90.316333    90.726125    91.668726  \n",
       "10002       2026.353276  2022.274326  2013.831259  1997.942387  2030.259366  \n",
       "926          103.846154   100.411523   108.447489   102.270729   102.270729  \n",
       "\n",
       "[5 rows x 109 columns]"
      ]
     },
     "execution_count": 20,
     "metadata": {},
     "output_type": "execute_result"
    }
   ],
   "source": [
    "zillow=pd.read_csv(\"data/Zip_MedianListingPricePerSqft_AllHomes.csv\",index_col=0)\n",
    "zillow.head()"
   ]
  },
  {
   "cell_type": "markdown",
   "metadata": {},
   "source": [
    "### Task 3. \n",
    "Run PCA on the price dynamics for zip codes over the last 5 years (take only those zip codes within NYC having price defined for the last 60 months from 2013-09 till 2018-08, normalize each zip code timeline by average price over this period, standardize those normalized prices per month and use them as features). Visualize zip codes in the 2d space of first two principal components, coloring them by borough. "
   ]
  },
  {
   "cell_type": "markdown",
   "metadata": {},
   "source": [
    "# House price prediction using 311 data\n",
    "\n",
    "### Can 311 complaining profile of urban neighborhoods enhance real-estate price prediction?\n",
    "\n",
    "[Zhu, E., & Sobolevsky, S. (2018). House Price Modeling with Digital Census. arXiv preprint arXiv:1809.03834.]"
   ]
  },
  {
   "cell_type": "markdown",
   "metadata": {},
   "source": [
    "Before we tried to use some parameters of the house (size) to predict its price. However notice that location matters as well. Below we upload a sample (approximately 30% of the total) of more than 2000 individual house sales all around NYC in 2012. Each record together with the parameters of the house also contains important characteristics of the location (zip code) - average income of its residents (accodring to US census), as well as the relative structure of 311 complaints happening in the area."
   ]
  },
  {
   "cell_type": "code",
   "execution_count": 21,
   "metadata": {},
   "outputs": [],
   "source": [
    "REsample=pd.read_csv('data/NYChome_sales2012.csv',index_col=0)"
   ]
  },
  {
   "cell_type": "code",
   "execution_count": 22,
   "metadata": {},
   "outputs": [
    {
     "data": {
      "text/plain": [
       "14611"
      ]
     },
     "execution_count": 22,
     "metadata": {},
     "output_type": "execute_result"
    }
   ],
   "source": [
    "len(REsample)"
   ]
  },
  {
   "cell_type": "code",
   "execution_count": 23,
   "metadata": {},
   "outputs": [
    {
     "data": {
      "text/html": [
       "<div>\n",
       "<table border=\"1\" class=\"dataframe\">\n",
       "  <thead>\n",
       "    <tr style=\"text-align: right;\">\n",
       "      <th></th>\n",
       "      <th>borough</th>\n",
       "      <th>neighborhood</th>\n",
       "      <th>block</th>\n",
       "      <th>lot</th>\n",
       "      <th>easement</th>\n",
       "      <th>building_class_present</th>\n",
       "      <th>address</th>\n",
       "      <th>zip_code</th>\n",
       "      <th>commmercial_units</th>\n",
       "      <th>land_sq_feet</th>\n",
       "      <th>gross_sq_feet</th>\n",
       "      <th>year_built</th>\n",
       "      <th>sale_price</th>\n",
       "      <th>sale_date</th>\n",
       "    </tr>\n",
       "  </thead>\n",
       "  <tbody>\n",
       "    <tr>\n",
       "      <th>204018</th>\n",
       "      <td>4</td>\n",
       "      <td>LAURELTON</td>\n",
       "      <td>12941</td>\n",
       "      <td>94</td>\n",
       "      <td>NaN</td>\n",
       "      <td>A2</td>\n",
       "      <td>131-43 FRANCIS LEWIS BLVD</td>\n",
       "      <td>11413</td>\n",
       "      <td>0</td>\n",
       "      <td>3560</td>\n",
       "      <td>1473</td>\n",
       "      <td>1940</td>\n",
       "      <td>0</td>\n",
       "      <td>2012-01-01</td>\n",
       "    </tr>\n",
       "    <tr>\n",
       "      <th>217555</th>\n",
       "      <td>2</td>\n",
       "      <td>BATHGATE</td>\n",
       "      <td>3046</td>\n",
       "      <td>42</td>\n",
       "      <td>NaN</td>\n",
       "      <td>A1</td>\n",
       "      <td>2069 BATHGATE AVE</td>\n",
       "      <td>10457</td>\n",
       "      <td>0</td>\n",
       "      <td>1964</td>\n",
       "      <td>1424</td>\n",
       "      <td>1899</td>\n",
       "      <td>345376</td>\n",
       "      <td>2012-04-05</td>\n",
       "    </tr>\n",
       "    <tr>\n",
       "      <th>217598</th>\n",
       "      <td>2</td>\n",
       "      <td>BAYCHESTER</td>\n",
       "      <td>4707</td>\n",
       "      <td>70</td>\n",
       "      <td>NaN</td>\n",
       "      <td>A5</td>\n",
       "      <td>1134 EAST 213 STREET</td>\n",
       "      <td>10469</td>\n",
       "      <td>0</td>\n",
       "      <td>2320</td>\n",
       "      <td>1813</td>\n",
       "      <td>1950</td>\n",
       "      <td>335700</td>\n",
       "      <td>2012-05-17</td>\n",
       "    </tr>\n",
       "    <tr>\n",
       "      <th>217599</th>\n",
       "      <td>2</td>\n",
       "      <td>BAYCHESTER</td>\n",
       "      <td>4708</td>\n",
       "      <td>48</td>\n",
       "      <td>NaN</td>\n",
       "      <td>A5</td>\n",
       "      <td>1110 EAST 214TH STREET</td>\n",
       "      <td>10469</td>\n",
       "      <td>0</td>\n",
       "      <td>1710</td>\n",
       "      <td>1813</td>\n",
       "      <td>1945</td>\n",
       "      <td>338000</td>\n",
       "      <td>2012-02-03</td>\n",
       "    </tr>\n",
       "    <tr>\n",
       "      <th>217600</th>\n",
       "      <td>2</td>\n",
       "      <td>BAYCHESTER</td>\n",
       "      <td>4710</td>\n",
       "      <td>1</td>\n",
       "      <td>NaN</td>\n",
       "      <td>A5</td>\n",
       "      <td>1127 EAST 215TH STREET</td>\n",
       "      <td>10469</td>\n",
       "      <td>0</td>\n",
       "      <td>2759</td>\n",
       "      <td>1998</td>\n",
       "      <td>1945</td>\n",
       "      <td>0</td>\n",
       "      <td>2012-12-20</td>\n",
       "    </tr>\n",
       "  </tbody>\n",
       "</table>\n",
       "</div>"
      ],
      "text/plain": [
       "        borough neighborhood  block  lot  easement building_class_present  \\\n",
       "204018        4    LAURELTON  12941   94       NaN                     A2   \n",
       "217555        2     BATHGATE   3046   42       NaN                     A1   \n",
       "217598        2   BAYCHESTER   4707   70       NaN                     A5   \n",
       "217599        2   BAYCHESTER   4708   48       NaN                     A5   \n",
       "217600        2   BAYCHESTER   4710    1       NaN                     A5   \n",
       "\n",
       "                          address  zip_code  commmercial_units  land_sq_feet  \\\n",
       "204018  131-43 FRANCIS LEWIS BLVD     11413                  0          3560   \n",
       "217555          2069 BATHGATE AVE     10457                  0          1964   \n",
       "217598       1134 EAST 213 STREET     10469                  0          2320   \n",
       "217599     1110 EAST 214TH STREET     10469                  0          1710   \n",
       "217600     1127 EAST 215TH STREET     10469                  0          2759   \n",
       "\n",
       "        gross_sq_feet  year_built  sale_price   sale_date  \n",
       "204018           1473        1940           0  2012-01-01  \n",
       "217555           1424        1899      345376  2012-04-05  \n",
       "217598           1813        1950      335700  2012-05-17  \n",
       "217599           1813        1945      338000  2012-02-03  \n",
       "217600           1998        1945           0  2012-12-20  "
      ]
     },
     "execution_count": 23,
     "metadata": {},
     "output_type": "execute_result"
    }
   ],
   "source": [
    "REsample.head()"
   ]
  },
  {
   "cell_type": "code",
   "execution_count": 24,
   "metadata": {},
   "outputs": [
    {
     "data": {
      "text/plain": [
       "Index([u'borough', u'neighborhood', u'block', u'lot', u'easement',\n",
       "       u'building_class_present', u'address', u'zip_code',\n",
       "       u'commmercial_units', u'land_sq_feet', u'gross_sq_feet', u'year_built',\n",
       "       u'sale_price', u'sale_date'],\n",
       "      dtype='object')"
      ]
     },
     "execution_count": 24,
     "metadata": {},
     "output_type": "execute_result"
    }
   ],
   "source": [
    "REsample.columns"
   ]
  },
  {
   "cell_type": "code",
   "execution_count": 25,
   "metadata": {},
   "outputs": [
    {
     "data": {
      "text/plain": [
       "array([   0,  216,  894, 2769, 7288, 3444])"
      ]
     },
     "execution_count": 25,
     "metadata": {},
     "output_type": "execute_result"
    }
   ],
   "source": [
    "np.bincount(REsample.borough)"
   ]
  },
  {
   "cell_type": "code",
   "execution_count": 26,
   "metadata": {},
   "outputs": [],
   "source": [
    "np.random.seed(2018)\n",
    "splitind=np.random.uniform(size=len(REsample))\n",
    "REsample1=REsample.loc[splitind<=0.2]\n",
    "REsample2=REsample.loc[(splitind>0.2)&(splitind<0.6)]\n",
    "REsample3=REsample.loc[(splitind>0.6)&(splitind<=1)]"
   ]
  },
  {
   "cell_type": "code",
   "execution_count": 27,
   "metadata": {},
   "outputs": [
    {
     "data": {
      "text/plain": [
       "2953"
      ]
     },
     "execution_count": 27,
     "metadata": {},
     "output_type": "execute_result"
    }
   ],
   "source": [
    "len(REsample1) #loosing around 50 records within sparse zip codes"
   ]
  },
  {
   "cell_type": "code",
   "execution_count": 28,
   "metadata": {},
   "outputs": [
    {
     "data": {
      "text/plain": [
       "5818"
      ]
     },
     "execution_count": 28,
     "metadata": {},
     "output_type": "execute_result"
    }
   ],
   "source": [
    "len(REsample2)"
   ]
  },
  {
   "cell_type": "code",
   "execution_count": 29,
   "metadata": {},
   "outputs": [
    {
     "data": {
      "text/plain": [
       "5840"
      ]
     },
     "execution_count": 29,
     "metadata": {},
     "output_type": "execute_result"
    }
   ],
   "source": [
    "len(REsample3)"
   ]
  },
  {
   "cell_type": "markdown",
   "metadata": {},
   "source": [
    "### OLS "
   ]
  },
  {
   "cell_type": "code",
   "execution_count": 30,
   "metadata": {
    "scrolled": true
   },
   "outputs": [
    {
     "name": "stdout",
     "output_type": "stream",
     "text": [
      "                            OLS Regression Results                            \n",
      "==============================================================================\n",
      "Dep. Variable:             sale_price   R-squared:                       0.141\n",
      "Model:                            OLS   Adj. R-squared:                  0.140\n",
      "Method:                 Least Squares   F-statistic:                     161.4\n",
      "Date:                Wed, 03 Oct 2018   Prob (F-statistic):           7.39e-97\n",
      "Time:                        15:55:18   Log-Likelihood:                -44869.\n",
      "No. Observations:                2953   AIC:                         8.975e+04\n",
      "Df Residuals:                    2949   BIC:                         8.977e+04\n",
      "Df Model:                           3                                         \n",
      "Covariance Type:            nonrobust                                         \n",
      "=================================================================================\n",
      "                    coef    std err          t      P>|t|      [95.0% Conf. Int.]\n",
      "---------------------------------------------------------------------------------\n",
      "const          7.736e+06   1.29e+06      5.994      0.000      5.21e+06  1.03e+07\n",
      "gross_sq_feet   423.7698     19.843     21.356      0.000       384.862   462.677\n",
      "land_sq_feet    -35.3261      5.744     -6.151      0.000       -46.588   -24.064\n",
      "year_built    -4116.7259    665.474     -6.186      0.000     -5421.566 -2811.886\n",
      "==============================================================================\n",
      "Omnibus:                     5068.436   Durbin-Watson:                   1.383\n",
      "Prob(Omnibus):                  0.000   Jarque-Bera (JB):          5354925.549\n",
      "Skew:                          11.661   Prob(JB):                         0.00\n",
      "Kurtosis:                     210.310   Cond. No.                     3.95e+05\n",
      "==============================================================================\n",
      "\n",
      "Warnings:\n",
      "[1] Standard Errors assume that the covariance matrix of the errors is correctly specified.\n",
      "[2] The condition number is large, 3.95e+05. This might indicate that there are\n",
      "strong multicollinearity or other numerical problems.\n"
     ]
    }
   ],
   "source": [
    "# Run a linear regression (using statsmodels: \"sale_price\"~\"gross_sq_feet\"+\"land_sq_feet\"+\"year_built\"\n",
    "base_columns=[\"gross_sq_feet\",\"land_sq_feet\",\"year_built\"]\n",
    "res=sm.OLS(REsample1.sale_price,sm.add_constant(REsample1.loc[:,base_columns]),missing=\"drop\").fit()\n",
    "print res.summary()"
   ]
  },
  {
   "cell_type": "code",
   "execution_count": 31,
   "metadata": {},
   "outputs": [
    {
     "name": "stdout",
     "output_type": "stream",
     "text": [
      "                            OLS Regression Results                            \n",
      "==============================================================================\n",
      "Dep. Variable:             sale_price   R-squared:                       0.141\n",
      "Model:                            OLS   Adj. R-squared:                  0.140\n",
      "Method:                 Least Squares   F-statistic:                     161.4\n",
      "Date:                Wed, 03 Oct 2018   Prob (F-statistic):           7.39e-97\n",
      "Time:                        15:55:18   Log-Likelihood:                -44869.\n",
      "No. Observations:                2953   AIC:                         8.975e+04\n",
      "Df Residuals:                    2949   BIC:                         8.977e+04\n",
      "Df Model:                           3                                         \n",
      "Covariance Type:            nonrobust                                         \n",
      "=================================================================================\n",
      "                    coef    std err          t      P>|t|      [95.0% Conf. Int.]\n",
      "---------------------------------------------------------------------------------\n",
      "Intercept      7.736e+06   1.29e+06      5.994      0.000      5.21e+06  1.03e+07\n",
      "gross_sq_feet   423.7698     19.843     21.356      0.000       384.862   462.677\n",
      "land_sq_feet    -35.3261      5.744     -6.151      0.000       -46.588   -24.064\n",
      "year_built    -4116.7259    665.474     -6.186      0.000     -5421.566 -2811.886\n",
      "==============================================================================\n",
      "Omnibus:                     5068.436   Durbin-Watson:                   1.383\n",
      "Prob(Omnibus):                  0.000   Jarque-Bera (JB):          5354925.549\n",
      "Skew:                          11.661   Prob(JB):                         0.00\n",
      "Kurtosis:                     210.310   Cond. No.                     3.95e+05\n",
      "==============================================================================\n",
      "\n",
      "Warnings:\n",
      "[1] Standard Errors assume that the covariance matrix of the errors is correctly specified.\n",
      "[2] The condition number is large, 3.95e+05. This might indicate that there are\n",
      "strong multicollinearity or other numerical problems.\n"
     ]
    }
   ],
   "source": [
    "#If using statsmodels formula\n",
    "lm = smf.ols(formula='sale_price ~ gross_sq_feet+land_sq_feet+year_built', data = REsample1).fit()\n",
    "print(lm.summary())"
   ]
  },
  {
   "cell_type": "code",
   "execution_count": 32,
   "metadata": {},
   "outputs": [
    {
     "name": "stderr",
     "output_type": "stream",
     "text": [
      "/Library/Frameworks/Python.framework/Versions/2.7/lib/python2.7/site-packages/scipy/linalg/basic.py:884: RuntimeWarning: internal gelsd driver lwork query error, required iwork dimension not returned. This is likely the result of LAPACK bug 0038, fixed in LAPACK 3.2.2 (released July 21, 2010). Falling back to 'gelss' driver.\n",
      "  warnings.warn(mesg, RuntimeWarning)\n"
     ]
    },
    {
     "data": {
      "text/plain": [
       "array([  423.76983352,   -35.32608953, -4116.72594753])"
      ]
     },
     "execution_count": 32,
     "metadata": {},
     "output_type": "execute_result"
    }
   ],
   "source": [
    "#If using sklearn\n",
    "lm=LinearRegression()\n",
    "lm.fit(REsample1[[\"gross_sq_feet\",\"land_sq_feet\",\"year_built\"]],REsample1.sale_price)\n",
    "lm.coef_"
   ]
  },
  {
   "cell_type": "code",
   "execution_count": 33,
   "metadata": {},
   "outputs": [
    {
     "name": "stdout",
     "output_type": "stream",
     "text": [
      "                            OLS Regression Results                            \n",
      "==============================================================================\n",
      "Dep. Variable:             sale_price   R-squared:                       0.528\n",
      "Model:                            OLS   Adj. R-squared:                  0.503\n",
      "Method:                 Least Squares   F-statistic:                     21.50\n",
      "Date:                Wed, 03 Oct 2018   Prob (F-statistic):               0.00\n",
      "Time:                        15:55:18   Log-Likelihood:                -43984.\n",
      "No. Observations:                2953   AIC:                         8.826e+04\n",
      "Df Residuals:                    2806   BIC:                         8.914e+04\n",
      "Df Model:                         146                                         \n",
      "Covariance Type:            nonrobust                                         \n",
      "========================================================================================\n",
      "                           coef    std err          t      P>|t|      [95.0% Conf. Int.]\n",
      "----------------------------------------------------------------------------------------\n",
      "Intercept            -6.686e+05   1.53e+06     -0.438      0.661     -3.66e+06  2.32e+06\n",
      "C(zip_code)[T.10011]  5.589e+06      8e+05      6.983      0.000      4.02e+06  7.16e+06\n",
      "C(zip_code)[T.10014]  6.946e+06   8.44e+05      8.230      0.000      5.29e+06   8.6e+06\n",
      "C(zip_code)[T.10016]   1.45e+06   1.03e+06      1.403      0.161     -5.76e+05  3.48e+06\n",
      "C(zip_code)[T.10017]  3.698e+06   1.03e+06      3.579      0.000      1.67e+06  5.72e+06\n",
      "C(zip_code)[T.10021]   5.95e+06   8.17e+05      7.283      0.000      4.35e+06  7.55e+06\n",
      "C(zip_code)[T.10022] -1.116e+05   8.95e+05     -0.125      0.901     -1.87e+06  1.64e+06\n",
      "C(zip_code)[T.10023]  1.209e+07   1.04e+06     11.669      0.000      1.01e+07  1.41e+07\n",
      "C(zip_code)[T.10024]  1.976e+06   1.03e+06      1.912      0.056     -5.02e+04     4e+06\n",
      "C(zip_code)[T.10025] -1.374e+06   1.03e+06     -1.329      0.184      -3.4e+06  6.53e+05\n",
      "C(zip_code)[T.10027]  6.941e+05   1.03e+06      0.672      0.502     -1.33e+06  2.72e+06\n",
      "C(zip_code)[T.10028] -1.577e+06   1.03e+06     -1.527      0.127      -3.6e+06  4.48e+05\n",
      "C(zip_code)[T.10030] -1.089e+06   8.95e+05     -1.217      0.224     -2.84e+06  6.66e+05\n",
      "C(zip_code)[T.10031] -7.834e+05   8.43e+05     -0.929      0.353     -2.44e+06   8.7e+05\n",
      "C(zip_code)[T.10032] -1.269e+06   1.03e+06     -1.226      0.220      -3.3e+06   7.6e+05\n",
      "C(zip_code)[T.10035] -6.654e+05   1.04e+06     -0.641      0.521      -2.7e+06  1.37e+06\n",
      "C(zip_code)[T.10065]  4.847e+05   7.81e+05      0.621      0.535     -1.05e+06  2.02e+06\n",
      "C(zip_code)[T.10075]  6.582e+06   8.17e+05      8.058      0.000      4.98e+06  8.18e+06\n",
      "C(zip_code)[T.10128]  8.781e+06   8.17e+05     10.746      0.000      7.18e+06  1.04e+07\n",
      "C(zip_code)[T.10301] -1.099e+06   7.46e+05     -1.473      0.141     -2.56e+06  3.64e+05\n",
      "C(zip_code)[T.10302] -1.143e+06   7.49e+05     -1.526      0.127     -2.61e+06  3.25e+05\n",
      "C(zip_code)[T.10303] -1.218e+06    7.5e+05     -1.625      0.104     -2.69e+06  2.52e+05\n",
      "C(zip_code)[T.10304] -1.133e+06   7.44e+05     -1.523      0.128     -2.59e+06  3.25e+05\n",
      "C(zip_code)[T.10305] -1.142e+06   7.43e+05     -1.537      0.124      -2.6e+06  3.15e+05\n",
      "C(zip_code)[T.10306] -1.119e+06   7.41e+05     -1.510      0.131     -2.57e+06  3.34e+05\n",
      "C(zip_code)[T.10307] -1.124e+06   7.48e+05     -1.502      0.133     -2.59e+06  3.43e+05\n",
      "C(zip_code)[T.10308] -1.125e+06   7.44e+05     -1.513      0.130     -2.58e+06  3.33e+05\n",
      "C(zip_code)[T.10309] -1.143e+06   7.42e+05     -1.541      0.124      -2.6e+06  3.12e+05\n",
      "C(zip_code)[T.10310] -1.094e+06   7.45e+05     -1.468      0.142     -2.56e+06  3.67e+05\n",
      "C(zip_code)[T.10312] -1.128e+06   7.41e+05     -1.523      0.128     -2.58e+06  3.24e+05\n",
      "C(zip_code)[T.10314] -1.105e+06    7.4e+05     -1.493      0.135     -2.56e+06  3.46e+05\n",
      "C(zip_code)[T.10454] -1.027e+06   1.03e+06     -0.993      0.321     -3.06e+06     1e+06\n",
      "C(zip_code)[T.10456]  -1.17e+06   1.04e+06     -1.130      0.259      -3.2e+06   8.6e+05\n",
      "C(zip_code)[T.10457] -1.011e+06   8.46e+05     -1.195      0.232     -2.67e+06  6.48e+05\n",
      "C(zip_code)[T.10458] -1.287e+06   8.97e+05     -1.434      0.152     -3.05e+06  4.73e+05\n",
      "C(zip_code)[T.10460] -1.057e+06   1.04e+06     -1.017      0.309     -3.09e+06   9.8e+05\n",
      "C(zip_code)[T.10461] -1.075e+06   7.51e+05     -1.432      0.152     -2.55e+06  3.97e+05\n",
      "C(zip_code)[T.10462] -9.723e+05   8.47e+05     -1.147      0.251     -2.63e+06  6.89e+05\n",
      "C(zip_code)[T.10463]  -1.18e+06   7.78e+05     -1.517      0.129      -2.7e+06  3.45e+05\n",
      "C(zip_code)[T.10464] -1.215e+06   8.48e+05     -1.432      0.152     -2.88e+06  4.49e+05\n",
      "C(zip_code)[T.10465] -1.098e+06   7.46e+05     -1.471      0.141     -2.56e+06  3.66e+05\n",
      "C(zip_code)[T.10466] -1.146e+06   7.49e+05     -1.530      0.126     -2.62e+06  3.23e+05\n",
      "C(zip_code)[T.10467] -1.156e+06   7.93e+05     -1.458      0.145     -2.71e+06  3.99e+05\n",
      "C(zip_code)[T.10468] -9.929e+05   1.03e+06     -0.960      0.337     -3.02e+06  1.04e+06\n",
      "C(zip_code)[T.10469] -1.108e+06   7.47e+05     -1.484      0.138     -2.57e+06  3.56e+05\n",
      "C(zip_code)[T.10470] -1.109e+06   7.92e+05     -1.400      0.162     -2.66e+06  4.44e+05\n",
      "C(zip_code)[T.10471] -1.275e+06   7.55e+05     -1.689      0.091     -2.75e+06  2.05e+05\n",
      "C(zip_code)[T.10472] -1.389e+06   1.04e+06     -1.342      0.180     -3.42e+06  6.41e+05\n",
      "C(zip_code)[T.10473] -1.144e+06   7.85e+05     -1.457      0.145     -2.68e+06  3.95e+05\n",
      "C(zip_code)[T.10475] -1.161e+06   8.99e+05     -1.291      0.197     -2.92e+06  6.02e+05\n",
      "C(zip_code)[T.10803] -2.309e+06   1.04e+06     -2.214      0.027     -4.35e+06 -2.64e+05\n",
      "C(zip_code)[T.11001] -9.683e+05    7.8e+05     -1.241      0.215      -2.5e+06  5.62e+05\n",
      "C(zip_code)[T.11004] -1.105e+06   7.53e+05     -1.468      0.142     -2.58e+06  3.71e+05\n",
      "C(zip_code)[T.11040] -1.005e+06   7.95e+05     -1.265      0.206     -2.56e+06  5.54e+05\n",
      "C(zip_code)[T.11101] -9.439e+05   8.98e+05     -1.051      0.293      -2.7e+06  8.17e+05\n",
      "C(zip_code)[T.11102] -1.059e+06    8.2e+05     -1.292      0.196     -2.67e+06  5.48e+05\n",
      "C(zip_code)[T.11103] -1.033e+06   7.93e+05     -1.302      0.193     -2.59e+06  5.22e+05\n",
      "C(zip_code)[T.11104] -1.156e+06   8.04e+05     -1.438      0.151     -2.73e+06  4.21e+05\n",
      "C(zip_code)[T.11105] -1.198e+06   7.93e+05     -1.511      0.131     -2.75e+06  3.57e+05\n",
      "C(zip_code)[T.11201]  5.828e+05   7.61e+05      0.766      0.444     -9.09e+05  2.07e+06\n",
      "C(zip_code)[T.11203]  -1.12e+06   7.46e+05     -1.501      0.133     -2.58e+06  3.43e+05\n",
      "C(zip_code)[T.11204] -1.121e+06   7.59e+05     -1.477      0.140     -2.61e+06  3.67e+05\n",
      "C(zip_code)[T.11205] -7.232e+05   8.96e+05     -0.807      0.420     -2.48e+06  1.03e+06\n",
      "C(zip_code)[T.11206] -1.121e+06   1.04e+06     -1.083      0.279     -3.15e+06   9.1e+05\n",
      "C(zip_code)[T.11207]  -1.17e+06   7.58e+05     -1.544      0.123     -2.66e+06  3.16e+05\n",
      "C(zip_code)[T.11208] -1.064e+06   7.67e+05     -1.388      0.165     -2.57e+06  4.39e+05\n",
      "C(zip_code)[T.11209] -9.754e+05   7.45e+05     -1.309      0.191     -2.44e+06  4.86e+05\n",
      "C(zip_code)[T.11210] -9.997e+05   7.43e+05     -1.345      0.179     -2.46e+06  4.57e+05\n",
      "C(zip_code)[T.11211] -4.791e+05   8.47e+05     -0.566      0.571     -2.14e+06  1.18e+06\n",
      "C(zip_code)[T.11212] -1.232e+06   7.72e+05     -1.596      0.111     -2.74e+06  2.81e+05\n",
      "C(zip_code)[T.11213] -1.035e+06   7.68e+05     -1.348      0.178     -2.54e+06  4.71e+05\n",
      "C(zip_code)[T.11214] -1.012e+06   7.62e+05     -1.329      0.184     -2.51e+06  4.81e+05\n",
      "C(zip_code)[T.11215] -3.777e+05   7.59e+05     -0.497      0.619     -1.87e+06  1.11e+06\n",
      "C(zip_code)[T.11216] -9.529e+05   7.68e+05     -1.241      0.215     -2.46e+06  5.53e+05\n",
      "C(zip_code)[T.11217] -5.262e+05   8.45e+05     -0.623      0.534     -2.18e+06  1.13e+06\n",
      "C(zip_code)[T.11218] -5.201e+05   7.83e+05     -0.664      0.507     -2.06e+06  1.02e+06\n",
      "C(zip_code)[T.11219] -1.078e+06   7.84e+05     -1.376      0.169     -2.62e+06  4.59e+05\n",
      "C(zip_code)[T.11220] -9.764e+05   7.84e+05     -1.245      0.213     -2.51e+06  5.61e+05\n",
      "C(zip_code)[T.11221] -9.772e+05   7.91e+05     -1.236      0.217     -2.53e+06  5.73e+05\n",
      "C(zip_code)[T.11222]  -1.38e+06   1.03e+06     -1.334      0.182     -3.41e+06  6.48e+05\n",
      "C(zip_code)[T.11223]  -9.66e+05   7.45e+05     -1.297      0.195     -2.43e+06  4.94e+05\n",
      "C(zip_code)[T.11224] -9.363e+05   8.05e+05     -1.164      0.245     -2.51e+06  6.41e+05\n",
      "C(zip_code)[T.11225] -9.861e+05   7.63e+05     -1.293      0.196     -2.48e+06   5.1e+05\n",
      "C(zip_code)[T.11226] -7.738e+05    7.9e+05     -0.979      0.328     -2.32e+06  7.76e+05\n",
      "C(zip_code)[T.11228] -9.278e+05   7.47e+05     -1.243      0.214     -2.39e+06  5.36e+05\n",
      "C(zip_code)[T.11229] -9.796e+05   7.41e+05     -1.323      0.186     -2.43e+06  4.73e+05\n",
      "C(zip_code)[T.11230]  -1.04e+06   7.44e+05     -1.398      0.162      -2.5e+06  4.18e+05\n",
      "C(zip_code)[T.11231] -4.606e+05   8.46e+05     -0.544      0.586     -2.12e+06   1.2e+06\n",
      "C(zip_code)[T.11232] -8.932e+05   1.03e+06     -0.863      0.388     -2.92e+06  1.14e+06\n",
      "C(zip_code)[T.11233] -1.276e+06   1.03e+06     -1.233      0.218      -3.3e+06  7.53e+05\n",
      "C(zip_code)[T.11234] -1.088e+06   7.39e+05     -1.471      0.141     -2.54e+06  3.62e+05\n",
      "C(zip_code)[T.11235] -1.094e+06   7.56e+05     -1.446      0.148     -2.58e+06  3.89e+05\n",
      "C(zip_code)[T.11236] -1.089e+06   7.52e+05     -1.448      0.148     -2.56e+06  3.86e+05\n",
      "C(zip_code)[T.11238] -6.946e+05   8.19e+05     -0.848      0.397      -2.3e+06  9.12e+05\n",
      "C(zip_code)[T.11354] -9.491e+05   7.45e+05     -1.274      0.203     -2.41e+06  5.12e+05\n",
      "C(zip_code)[T.11355] -9.598e+05   7.49e+05     -1.282      0.200     -2.43e+06  5.08e+05\n",
      "C(zip_code)[T.11356] -1.055e+06   7.75e+05     -1.362      0.173     -2.57e+06  4.64e+05\n",
      "C(zip_code)[T.11357] -1.061e+06   7.42e+05     -1.429      0.153     -2.52e+06  3.95e+05\n",
      "C(zip_code)[T.11358] -9.569e+05   7.43e+05     -1.287      0.198     -2.41e+06  5.01e+05\n",
      "C(zip_code)[T.11360] -1.046e+06   7.57e+05     -1.382      0.167     -2.53e+06  4.38e+05\n",
      "C(zip_code)[T.11361] -1.024e+06   7.44e+05     -1.377      0.169     -2.48e+06  4.34e+05\n",
      "C(zip_code)[T.11362] -1.081e+06   7.48e+05     -1.446      0.148     -2.55e+06  3.85e+05\n",
      "C(zip_code)[T.11363] -1.145e+06   7.56e+05     -1.514      0.130     -2.63e+06  3.38e+05\n",
      "C(zip_code)[T.11364] -9.554e+05   7.44e+05     -1.284      0.199     -2.41e+06  5.04e+05\n",
      "C(zip_code)[T.11365] -8.878e+05   7.43e+05     -1.194      0.232     -2.35e+06   5.7e+05\n",
      "C(zip_code)[T.11366] -9.128e+05   7.58e+05     -1.204      0.229      -2.4e+06  5.74e+05\n",
      "C(zip_code)[T.11367] -9.587e+05   7.46e+05     -1.285      0.199     -2.42e+06  5.04e+05\n",
      "C(zip_code)[T.11368] -1.101e+06   8.46e+05     -1.301      0.193     -2.76e+06  5.59e+05\n",
      "C(zip_code)[T.11369] -1.075e+06   7.56e+05     -1.421      0.155     -2.56e+06  4.08e+05\n",
      "C(zip_code)[T.11370]  -1.04e+06   7.74e+05     -1.344      0.179     -2.56e+06  4.78e+05\n",
      "C(zip_code)[T.11372] -1.112e+06   7.78e+05     -1.429      0.153     -2.64e+06  4.14e+05\n",
      "C(zip_code)[T.11373] -9.911e+05   7.64e+05     -1.297      0.195     -2.49e+06  5.07e+05\n",
      "C(zip_code)[T.11374] -1.048e+06   7.52e+05     -1.394      0.163     -2.52e+06  4.26e+05\n",
      "C(zip_code)[T.11375] -8.026e+05    7.4e+05     -1.085      0.278     -2.25e+06  6.48e+05\n",
      "C(zip_code)[T.11377] -9.579e+05   7.57e+05     -1.266      0.206     -2.44e+06  5.26e+05\n",
      "C(zip_code)[T.11378]  -9.44e+05   7.49e+05     -1.261      0.207     -2.41e+06  5.24e+05\n",
      "C(zip_code)[T.11379] -1.024e+06   7.45e+05     -1.374      0.169     -2.48e+06  4.37e+05\n",
      "C(zip_code)[T.11385] -1.037e+06    7.5e+05     -1.383      0.167     -2.51e+06  4.34e+05\n",
      "C(zip_code)[T.11411] -1.105e+06   7.51e+05     -1.472      0.141     -2.58e+06  3.67e+05\n",
      "C(zip_code)[T.11412] -1.106e+06   7.42e+05     -1.491      0.136     -2.56e+06  3.49e+05\n",
      "C(zip_code)[T.11413] -1.107e+06   7.42e+05     -1.491      0.136     -2.56e+06  3.49e+05\n",
      "C(zip_code)[T.11414] -1.108e+06   7.44e+05     -1.488      0.137     -2.57e+06  3.52e+05\n",
      "C(zip_code)[T.11415]  -1.14e+06   8.46e+05     -1.347      0.178      -2.8e+06  5.19e+05\n",
      "C(zip_code)[T.11416] -1.014e+06   7.64e+05     -1.326      0.185     -2.51e+06  4.85e+05\n",
      "C(zip_code)[T.11417] -1.075e+06   7.52e+05     -1.430      0.153     -2.55e+06  3.99e+05\n",
      "C(zip_code)[T.11418] -1.022e+06   7.61e+05     -1.342      0.180     -2.51e+06  4.71e+05\n",
      "C(zip_code)[T.11419] -1.106e+06   7.45e+05     -1.485      0.138     -2.57e+06  3.54e+05\n",
      "C(zip_code)[T.11420] -1.094e+06   7.45e+05     -1.468      0.142     -2.56e+06  3.67e+05\n",
      "C(zip_code)[T.11421] -1.002e+06   7.49e+05     -1.339      0.181     -2.47e+06  4.66e+05\n",
      "C(zip_code)[T.11422] -1.096e+06   7.45e+05     -1.472      0.141     -2.56e+06  3.64e+05\n",
      "C(zip_code)[T.11423] -1.138e+06   7.45e+05     -1.527      0.127      -2.6e+06  3.23e+05\n",
      "C(zip_code)[T.11426] -1.064e+06   7.46e+05     -1.427      0.154     -2.53e+06  3.98e+05\n",
      "C(zip_code)[T.11427] -9.814e+05   7.49e+05     -1.310      0.190     -2.45e+06  4.87e+05\n",
      "C(zip_code)[T.11428] -1.054e+06   7.47e+05     -1.411      0.158     -2.52e+06  4.11e+05\n",
      "C(zip_code)[T.11429] -1.098e+06   7.44e+05     -1.476      0.140     -2.56e+06   3.6e+05\n",
      "C(zip_code)[T.11432] -1.081e+06   7.44e+05     -1.452      0.146     -2.54e+06  3.78e+05\n",
      "C(zip_code)[T.11433] -1.127e+06   7.45e+05     -1.512      0.131     -2.59e+06  3.34e+05\n",
      "C(zip_code)[T.11434] -1.102e+06   7.42e+05     -1.485      0.138     -2.56e+06  3.53e+05\n",
      "C(zip_code)[T.11435] -9.657e+05    7.5e+05     -1.288      0.198     -2.44e+06  5.04e+05\n",
      "C(zip_code)[T.11436] -1.068e+06   7.47e+05     -1.430      0.153     -2.53e+06  3.96e+05\n",
      "C(zip_code)[T.11691]  -1.18e+06   7.48e+05     -1.579      0.115     -2.65e+06  2.86e+05\n",
      "C(zip_code)[T.11692] -1.022e+06   1.04e+06     -0.986      0.324     -3.06e+06  1.01e+06\n",
      "C(zip_code)[T.11693] -1.133e+06   7.85e+05     -1.443      0.149     -2.67e+06  4.07e+05\n",
      "C(zip_code)[T.11694] -1.013e+06   7.51e+05     -1.349      0.177     -2.49e+06  4.59e+05\n",
      "gross_sq_feet          103.9135     19.642      5.290      0.000        65.399   142.428\n",
      "land_sq_feet            14.8021      5.147      2.876      0.004         4.709    24.895\n",
      "year_built             917.0809    719.035      1.275      0.202      -492.811  2326.973\n",
      "==============================================================================\n",
      "Omnibus:                     3054.724   Durbin-Watson:                   2.097\n",
      "Prob(Omnibus):                  0.000   Jarque-Bera (JB):          3338727.847\n",
      "Skew:                           4.059   Prob(JB):                         0.00\n",
      "Kurtosis:                     167.527   Cond. No.                     3.54e+06\n",
      "==============================================================================\n",
      "\n",
      "Warnings:\n",
      "[1] Standard Errors assume that the covariance matrix of the errors is correctly specified.\n",
      "[2] The condition number is large, 3.54e+06. This might indicate that there are\n",
      "strong multicollinearity or other numerical problems.\n"
     ]
    }
   ],
   "source": [
    "#see what can location do\n",
    "lm = smf.ols(formula='sale_price ~ gross_sq_feet+land_sq_feet+year_built+C(zip_code)', data = REsample1).fit()\n",
    "print(lm.summary())"
   ]
  },
  {
   "cell_type": "markdown",
   "metadata": {},
   "source": [
    "# Now add all 311 to the house price regression"
   ]
  },
  {
   "cell_type": "code",
   "execution_count": 35,
   "metadata": {},
   "outputs": [],
   "source": [
    "#add 311 data\n",
    "pca = PCA(data311S.shape[1])\n",
    "data311P=pca.fit_transform(data311S)\n",
    "list_311=['P%d'%i for i in range(1,data311P.shape[1]+1)]\n",
    "df311P=pd.DataFrame(data311P,index=data311.index,columns=list_311)\n",
    "REsample1=REsample1.merge(df311P,left_on='zip_code',right_index=True)"
   ]
  },
  {
   "cell_type": "code",
   "execution_count": 36,
   "metadata": {
    "scrolled": false
   },
   "outputs": [
    {
     "name": "stdout",
     "output_type": "stream",
     "text": [
      "                            OLS Regression Results                            \n",
      "==============================================================================\n",
      "Dep. Variable:             sale_price   R-squared:                       0.528\n",
      "Model:                            OLS   Adj. R-squared:                  0.504\n",
      "Method:                 Least Squares   F-statistic:                     21.86\n",
      "Date:                Wed, 03 Oct 2018   Prob (F-statistic):               0.00\n",
      "Time:                        15:56:59   Log-Likelihood:                -43115.\n",
      "No. Observations:                2893   AIC:                         8.651e+04\n",
      "Df Residuals:                    2751   BIC:                         8.736e+04\n",
      "Df Model:                         141                                         \n",
      "Covariance Type:            nonrobust                                         \n",
      "=================================================================================\n",
      "                    coef    std err          t      P>|t|      [95.0% Conf. Int.]\n",
      "---------------------------------------------------------------------------------\n",
      "const         -8.715e+05   1.27e+06     -0.684      0.494     -3.37e+06  1.63e+06\n",
      "gross_sq_feet   104.1643     19.995      5.209      0.000        64.957   143.372\n",
      "land_sq_feet     14.7885      5.223      2.832      0.005         4.548    25.029\n",
      "year_built      859.9677    734.299      1.171      0.242      -579.865  2299.800\n",
      "P1             2.262e+05   8.57e+04      2.639      0.008      5.82e+04  3.94e+05\n",
      "P2              1.44e+05   6.56e+04      2.195      0.028      1.53e+04  2.73e+05\n",
      "P3             2.113e+05    3.5e+05      0.603      0.546     -4.76e+05  8.98e+05\n",
      "P4            -1.362e+04   2.67e+05     -0.051      0.959     -5.37e+05   5.1e+05\n",
      "P5             4.232e+05   1.92e+05      2.205      0.028      4.68e+04     8e+05\n",
      "P6            -1.593e+05   1.07e+05     -1.487      0.137     -3.69e+05  5.07e+04\n",
      "P7            -2.829e+05   1.83e+05     -1.546      0.122     -6.42e+05   7.6e+04\n",
      "P8            -2.725e+05   2.26e+05     -1.206      0.228     -7.16e+05  1.71e+05\n",
      "P9             3.409e+05    1.6e+05      2.137      0.033       2.8e+04  6.54e+05\n",
      "P10            1.192e+05    1.9e+05      0.627      0.531     -2.54e+05  4.92e+05\n",
      "P11            4.263e+05   1.79e+05      2.379      0.017      7.49e+04  7.78e+05\n",
      "P12            1.775e+04   2.18e+05      0.081      0.935      -4.1e+05  4.46e+05\n",
      "P13           -8083.4805   1.41e+05     -0.057      0.954     -2.84e+05  2.68e+05\n",
      "P14            9.482e+04   9.95e+04      0.953      0.341        -1e+05   2.9e+05\n",
      "P15            -8.03e+04   1.42e+05     -0.565      0.572     -3.59e+05  1.98e+05\n",
      "P16           -3.878e+05   1.58e+05     -2.449      0.014     -6.98e+05 -7.73e+04\n",
      "P17           -3.241e+05   1.35e+05     -2.397      0.017     -5.89e+05  -5.9e+04\n",
      "P18            2.635e+05    1.1e+05      2.396      0.017      4.78e+04  4.79e+05\n",
      "P19            2.651e+05   1.58e+05      1.675      0.094     -4.53e+04  5.76e+05\n",
      "P20            2.718e+04   1.21e+05      0.224      0.823      -2.1e+05  2.65e+05\n",
      "P21            2.967e+05    1.2e+05      2.476      0.013      6.17e+04  5.32e+05\n",
      "P22           -2.217e+05   1.74e+05     -1.272      0.204     -5.64e+05   1.2e+05\n",
      "P23            -1.11e+05   1.02e+05     -1.087      0.277     -3.11e+05  8.92e+04\n",
      "P24             1.69e+05   1.27e+05      1.332      0.183     -7.98e+04  4.18e+05\n",
      "P25            2.057e+05   1.29e+05      1.594      0.111     -4.73e+04  4.59e+05\n",
      "P26           -1.942e+05   1.27e+05     -1.531      0.126     -4.43e+05  5.45e+04\n",
      "P27           -8.919e+04   1.33e+05     -0.670      0.503      -3.5e+05  1.72e+05\n",
      "P28            1.248e+05   1.28e+05      0.976      0.329     -1.26e+05  3.76e+05\n",
      "P29             1.99e+05   1.04e+05      1.918      0.055     -4434.239  4.02e+05\n",
      "P30           -2.703e+05   1.32e+05     -2.052      0.040     -5.29e+05  -1.2e+04\n",
      "P31            4.219e+05   1.42e+05      2.970      0.003      1.43e+05  7.01e+05\n",
      "P32            1.199e+05   1.14e+05      1.052      0.293     -1.04e+05  3.43e+05\n",
      "P33            2.089e+05   1.67e+05      1.248      0.212     -1.19e+05  5.37e+05\n",
      "P34           -7430.3816   1.26e+05     -0.059      0.953     -2.54e+05  2.39e+05\n",
      "P35            1.953e+05   1.32e+05      1.481      0.139     -6.33e+04  4.54e+05\n",
      "P36            3.041e+05   1.25e+05      2.425      0.015      5.82e+04   5.5e+05\n",
      "P37            6713.0138    7.5e+04      0.089      0.929      -1.4e+05  1.54e+05\n",
      "P38           -4.548e+04   8.79e+04     -0.517      0.605     -2.18e+05  1.27e+05\n",
      "P39           -1.474e+05   9.97e+04     -1.478      0.139     -3.43e+05  4.81e+04\n",
      "P40           -2.543e+05   1.64e+05     -1.549      0.121     -5.76e+05  6.76e+04\n",
      "P41           -6.882e+04   9.85e+04     -0.698      0.485     -2.62e+05  1.24e+05\n",
      "P42            1.293e+05   1.22e+05      1.063      0.288     -1.09e+05  3.68e+05\n",
      "P43           -2.467e+05   1.18e+05     -2.098      0.036     -4.77e+05 -1.61e+04\n",
      "P44            5.908e+04    9.8e+04      0.603      0.547     -1.33e+05  2.51e+05\n",
      "P45           -7.436e+04   1.12e+05     -0.664      0.507     -2.94e+05  1.45e+05\n",
      "P46            4.149e+05   1.64e+05      2.533      0.011      9.37e+04  7.36e+05\n",
      "P47           -1.384e+05   9.65e+04     -1.434      0.152     -3.28e+05  5.08e+04\n",
      "P48            7.494e+04   1.22e+05      0.613      0.540     -1.65e+05  3.15e+05\n",
      "P49            8.221e+04   1.27e+05      0.649      0.516     -1.66e+05   3.3e+05\n",
      "P50            -8.39e+04   9.34e+04     -0.898      0.369     -2.67e+05  9.92e+04\n",
      "P51            2.098e+05   1.66e+05      1.263      0.207     -1.16e+05  5.35e+05\n",
      "P52            2.326e+05   1.49e+05      1.560      0.119     -5.98e+04  5.25e+05\n",
      "P53            1.655e+05   8.92e+04      1.855      0.064     -9412.272   3.4e+05\n",
      "P54           -2.618e+05   1.71e+05     -1.528      0.127     -5.98e+05  7.41e+04\n",
      "P55            3.058e+04   1.04e+05      0.293      0.769     -1.74e+05  2.35e+05\n",
      "P56           -2.902e+04   8.28e+04     -0.350      0.726     -1.91e+05  1.33e+05\n",
      "P57           -2.247e+05   1.29e+05     -1.736      0.083     -4.79e+05  2.91e+04\n",
      "P58            1.738e+05   1.01e+05      1.717      0.086     -2.47e+04  3.72e+05\n",
      "P59           -4.568e+05   1.72e+05     -2.658      0.008     -7.94e+05  -1.2e+05\n",
      "P60           -4.771e+04   1.12e+05     -0.428      0.669     -2.67e+05  1.71e+05\n",
      "P61           -6.355e+04   1.32e+05     -0.482      0.630     -3.22e+05  1.95e+05\n",
      "P62            5.652e+05   2.19e+05      2.585      0.010      1.36e+05  9.94e+05\n",
      "P63            4.019e+04   1.24e+05      0.323      0.747     -2.04e+05  2.84e+05\n",
      "P64            2.712e+05   1.25e+05      2.168      0.030       2.6e+04  5.16e+05\n",
      "P65            3.535e+05   1.07e+05      3.312      0.001      1.44e+05  5.63e+05\n",
      "P66           -5.987e+04   9.65e+04     -0.620      0.535     -2.49e+05  1.29e+05\n",
      "P67            6.972e+04   1.57e+05      0.445      0.657     -2.38e+05  3.77e+05\n",
      "P68            6.684e+05   1.24e+05      5.398      0.000      4.26e+05  9.11e+05\n",
      "P69            6.341e+04   1.02e+05      0.620      0.535     -1.37e+05  2.64e+05\n",
      "P70           -2.006e+05   1.06e+05     -1.895      0.058     -4.08e+05  6977.807\n",
      "P71           -5.259e+04   1.46e+05     -0.360      0.719     -3.39e+05  2.34e+05\n",
      "P72           -7.706e+04   1.14e+05     -0.676      0.499        -3e+05  1.46e+05\n",
      "P73           -5.475e+05   1.63e+05     -3.364      0.001     -8.67e+05 -2.28e+05\n",
      "P74           -8.637e+04    1.1e+05     -0.783      0.434     -3.03e+05   1.3e+05\n",
      "P75             1.92e+05   9.85e+04      1.949      0.051     -1119.385  3.85e+05\n",
      "P76           -1.606e+05   1.47e+05     -1.096      0.273     -4.48e+05  1.27e+05\n",
      "P77           -8.307e+04   1.69e+05     -0.490      0.624     -4.15e+05  2.49e+05\n",
      "P78            9.633e+04   1.14e+05      0.847      0.397     -1.27e+05  3.19e+05\n",
      "P79           -1.174e+05   9.65e+04     -1.216      0.224     -3.07e+05  7.19e+04\n",
      "P80            3.238e+05    1.1e+05      2.956      0.003      1.09e+05  5.39e+05\n",
      "P81           -6.694e+05   1.52e+05     -4.396      0.000     -9.68e+05 -3.71e+05\n",
      "P82            -2.05e+05   1.31e+05     -1.565      0.118     -4.62e+05  5.18e+04\n",
      "P83           -1.548e+05   1.48e+05     -1.046      0.296     -4.45e+05  1.35e+05\n",
      "P84            2.975e+05   1.92e+05      1.548      0.122     -7.93e+04  6.74e+05\n",
      "P85           -3.575e+05   1.38e+05     -2.591      0.010     -6.28e+05  -8.7e+04\n",
      "P86            4.595e+05   1.25e+05      3.686      0.000      2.15e+05  7.04e+05\n",
      "P87           -8.645e+04   1.53e+05     -0.566      0.572     -3.86e+05  2.13e+05\n",
      "P88            2.183e+05    1.4e+05      1.564      0.118     -5.54e+04  4.92e+05\n",
      "P89           -2.817e+04   1.84e+05     -0.153      0.878     -3.89e+05  3.33e+05\n",
      "P90            6.216e+04   1.44e+05      0.432      0.666      -2.2e+05  3.44e+05\n",
      "P91            3.126e+05   1.79e+05      1.749      0.080     -3.79e+04  6.63e+05\n",
      "P92            6.432e+05   1.57e+05      4.093      0.000      3.35e+05  9.51e+05\n",
      "P93           -1.265e+05   1.44e+05     -0.879      0.379     -4.09e+05  1.56e+05\n",
      "P94           -2.711e+05   1.28e+05     -2.113      0.035     -5.23e+05 -1.95e+04\n",
      "P95            8.485e+04   1.35e+05      0.628      0.530      -1.8e+05   3.5e+05\n",
      "P96            -2.82e+05    1.8e+05     -1.570      0.117     -6.34e+05  7.03e+04\n",
      "P97           -1.743e+05    2.2e+05     -0.793      0.428     -6.05e+05  2.57e+05\n",
      "P98            2.976e+05    2.5e+05      1.192      0.234     -1.92e+05  7.87e+05\n",
      "P99            1.678e+05   1.93e+05      0.868      0.386     -2.11e+05  5.47e+05\n",
      "P100          -2.484e+05   1.52e+05     -1.638      0.102     -5.46e+05  4.89e+04\n",
      "P101           8.292e+04   2.47e+05      0.336      0.737     -4.01e+05  5.67e+05\n",
      "P102           5.452e+05   1.96e+05      2.787      0.005      1.62e+05  9.29e+05\n",
      "P103          -2.563e+05    2.2e+05     -1.164      0.244     -6.88e+05  1.75e+05\n",
      "P104          -1.203e+05   2.01e+05     -0.598      0.550     -5.15e+05  2.74e+05\n",
      "P105          -2.593e+04   1.96e+05     -0.132      0.895     -4.11e+05  3.59e+05\n",
      "P106           1.019e+05   2.02e+05      0.503      0.615     -2.95e+05  4.99e+05\n",
      "P107           5.797e+05   2.49e+05      2.325      0.020      9.09e+04  1.07e+06\n",
      "P108          -1.932e+05   2.63e+05     -0.734      0.463     -7.09e+05  3.23e+05\n",
      "P109           2.593e+05   1.64e+05      1.577      0.115      -6.3e+04  5.82e+05\n",
      "P110          -4.252e+05   1.88e+05     -2.266      0.024     -7.93e+05 -5.73e+04\n",
      "P111           7.186e+04   1.65e+05      0.435      0.663     -2.52e+05  3.95e+05\n",
      "P112           1.043e+05   1.79e+05      0.583      0.560     -2.46e+05  4.55e+05\n",
      "P113          -8.845e+05    2.3e+05     -3.851      0.000     -1.33e+06 -4.34e+05\n",
      "P114           6434.9061   2.75e+05      0.023      0.981     -5.32e+05  5.45e+05\n",
      "P115          -9.515e+05   2.27e+05     -4.188      0.000      -1.4e+06 -5.06e+05\n",
      "P116          -5.226e+04   3.16e+05     -0.165      0.869     -6.72e+05  5.68e+05\n",
      "P117          -1.516e+05   1.94e+05     -0.783      0.434     -5.31e+05  2.28e+05\n",
      "P118          -7.769e+04   2.27e+05     -0.343      0.732     -5.22e+05  3.67e+05\n",
      "P119          -8.348e+05   3.68e+05     -2.266      0.024     -1.56e+06 -1.13e+05\n",
      "P120          -2.349e+05   2.19e+05     -1.074      0.283     -6.64e+05  1.94e+05\n",
      "P121           3.577e+05   2.95e+05      1.213      0.225      -2.2e+05  9.36e+05\n",
      "P122           1.672e+05   2.55e+05      0.655      0.513     -3.34e+05  6.68e+05\n",
      "P123           5.785e+05   3.36e+05      1.724      0.085     -7.96e+04  1.24e+06\n",
      "P124           5.524e+05   2.43e+05      2.274      0.023      7.62e+04  1.03e+06\n",
      "P125           1.358e+06      4e+05      3.398      0.001      5.74e+05  2.14e+06\n",
      "P126          -3.033e+04   2.72e+05     -0.112      0.911     -5.64e+05  5.03e+05\n",
      "P127           1.207e+06   3.09e+05      3.906      0.000      6.01e+05  1.81e+06\n",
      "P128           5.634e+05   3.62e+05      1.558      0.119     -1.45e+05  1.27e+06\n",
      "P129           3.201e+05   2.58e+05      1.243      0.214     -1.85e+05  8.25e+05\n",
      "P130          -4.627e+05   3.45e+05     -1.342      0.180     -1.14e+06  2.13e+05\n",
      "P131           1.114e+06   2.82e+05      3.942      0.000       5.6e+05  1.67e+06\n",
      "P132          -2.829e+05   3.33e+05     -0.850      0.396     -9.36e+05   3.7e+05\n",
      "P133           5.068e+05   3.92e+05      1.291      0.197     -2.63e+05  1.28e+06\n",
      "P134          -6.699e+05   5.07e+05     -1.322      0.186     -1.66e+06  3.24e+05\n",
      "P135          -7.029e+05    4.4e+05     -1.599      0.110     -1.57e+06  1.59e+05\n",
      "P136           1.927e+05   4.47e+05      0.431      0.666     -6.83e+05  1.07e+06\n",
      "P137           1.012e+05   4.22e+05      0.240      0.810     -7.26e+05  9.28e+05\n",
      "P138          -2.728e+05   4.65e+05     -0.587      0.558     -1.18e+06  6.39e+05\n",
      "P139          -4.837e+05   3.98e+05     -1.216      0.224     -1.26e+06  2.96e+05\n",
      "P140          -1.408e+05   3.63e+05     -0.387      0.698     -8.53e+05  5.72e+05\n",
      "P141           1.214e+05   3.62e+05      0.335      0.737     -5.89e+05  8.31e+05\n",
      "P142           8.116e+05   4.44e+05      1.826      0.068     -5.98e+04  1.68e+06\n",
      "P143           1.592e+05   4.92e+05      0.324      0.746     -8.05e+05  1.12e+06\n",
      "P144          -7.229e+05    3.5e+05     -2.065      0.039     -1.41e+06 -3.64e+04\n",
      "P145          -5.186e+05   4.18e+05     -1.241      0.215     -1.34e+06  3.01e+05\n",
      "P146           2.778e+05   4.34e+05      0.641      0.522     -5.73e+05  1.13e+06\n",
      "P147           8.835e+05   4.35e+05      2.032      0.042      3.07e+04  1.74e+06\n",
      "P148          -8.458e+05   4.68e+05     -1.808      0.071     -1.76e+06  7.15e+04\n",
      "P149          -3.186e+05   3.77e+05     -0.845      0.398     -1.06e+06   4.2e+05\n",
      "P150           1.237e+05    3.5e+05      0.353      0.724     -5.63e+05   8.1e+05\n",
      "P151           2.617e+05   3.75e+05      0.697      0.486     -4.74e+05  9.97e+05\n",
      "P152           7.622e+05   4.47e+05      1.703      0.089     -1.15e+05  1.64e+06\n",
      "P153          -6.783e+05   5.86e+05     -1.158      0.247     -1.83e+06  4.71e+05\n",
      "P154          -7.336e+05   3.79e+05     -1.935      0.053     -1.48e+06  9741.120\n",
      "P155          -7.282e+05   3.75e+05     -1.942      0.052     -1.46e+06  7197.568\n",
      "P156          -7.237e+04   3.83e+05     -0.189      0.850     -8.23e+05  6.78e+05\n",
      "P157           2.081e+05   2.44e+05      0.851      0.395     -2.71e+05  6.87e+05\n",
      "P158          -7.983e+05   4.99e+05     -1.599      0.110     -1.78e+06  1.81e+05\n",
      "P159          -8.155e+05   2.98e+05     -2.741      0.006      -1.4e+06 -2.32e+05\n",
      "P160          -8.534e+04   2.54e+05     -0.336      0.737     -5.84e+05  4.13e+05\n",
      "P161           5.611e+05   3.97e+05      1.412      0.158     -2.18e+05  1.34e+06\n",
      "P162          -3.591e-08   3.38e-08     -1.063      0.288     -1.02e-07  3.03e-08\n",
      "==============================================================================\n",
      "Omnibus:                     2982.902   Durbin-Watson:                   2.270\n",
      "Prob(Omnibus):                  0.000   Jarque-Bera (JB):          3181571.601\n",
      "Skew:                           4.037   Prob(JB):                         0.00\n",
      "Kurtosis:                     165.261   Cond. No.                     1.09e+16\n",
      "==============================================================================\n",
      "\n",
      "Warnings:\n",
      "[1] Standard Errors assume that the covariance matrix of the errors is correctly specified.\n",
      "[2] The smallest eigenvalue is 7.04e-22. This might indicate that there are\n",
      "strong multicollinearity problems or that the design matrix is singular.\n"
     ]
    }
   ],
   "source": [
    "REmodel311=sm.OLS(REsample1.sale_price,sm.add_constant(REsample1[base_columns+list_311]),missing=\"drop\").fit()\n",
    "print REmodel311.summary()"
   ]
  },
  {
   "cell_type": "markdown",
   "metadata": {},
   "source": [
    "So in principle 311 can tell pretty much the same as the exact location can (not surprisingly though as the number of features is also close to the number of locations)\n",
    "\n",
    "#### R2 went over 50%. Should we consider this as success?"
   ]
  },
  {
   "cell_type": "code",
   "execution_count": 37,
   "metadata": {},
   "outputs": [],
   "source": [
    "#recall we have two more samples of houses\n",
    "REsample2=REsample2.merge(df311P,left_on='zip_code',right_index=True)\n",
    "REsample3=REsample3.merge(df311P,left_on='zip_code',right_index=True)"
   ]
  },
  {
   "cell_type": "code",
   "execution_count": 38,
   "metadata": {},
   "outputs": [
    {
     "name": "stdout",
     "output_type": "stream",
     "text": [
      "IS/OS R-squared:0.528/0.101\n"
     ]
    }
   ],
   "source": [
    "#compare R2 over the training sample and the test sample (REsample3)\n",
    "R_IS=REmodel311.rsquared\n",
    "Ypred3=REmodel311.predict(sm.add_constant(REsample3[base_columns+list_311]))\n",
    "R_OS=1-((np.asarray(Ypred3)-REsample3.sale_price)**2).sum()/((REsample3.sale_price-np.mean(REsample3.sale_price))**2).sum()\n",
    "print(\"IS/OS R-squared:%.3f/%.3f\"%(R_IS,R_OS))"
   ]
  },
  {
   "cell_type": "markdown",
   "metadata": {},
   "source": [
    "R2 over the third sample is much lower- the model is not generalizeable. Severe overfitting encountered"
   ]
  },
  {
   "cell_type": "markdown",
   "metadata": {},
   "source": [
    "Let's track how its happening while we keep adding variables"
   ]
  },
  {
   "cell_type": "code",
   "execution_count": 39,
   "metadata": {},
   "outputs": [
    {
     "data": {
      "image/png": "[encoded data removed]",
      "text/plain": [
       "<matplotlib.figure.Figure at 0x103c59bd0>"
      ]
     },
     "metadata": {},
     "output_type": "display_data"
    }
   ],
   "source": [
    "#In the sample test\n",
    "OLS_R_2_IS=[] # make a list to store our in the sample R_squared\n",
    "OLS_R_2_OS=[] #make a list to store our out the sample R_squared\n",
    "var_list=base_columns+list_311\n",
    "\n",
    "# A loop to run OLS while adding 311 regressors one by one\n",
    "nvariables=range(3,100)#len(var_list)+1)\n",
    "for j in nvariables: \n",
    "    model=sm.OLS(REsample1.sale_price,sm.add_constant(REsample1[var_list[:j]]),missing=\"drop\").fit()\n",
    "    OLS_R_2_IS.append(model.rsquared)\n",
    "    #Out of the sample test\n",
    "    Ypred2=model.predict(sm.add_constant(REsample2[var_list[:j]]))\n",
    "    R_OS=1-((np.asarray(Ypred2)-REsample2.sale_price)**2).sum()/((REsample2.sale_price-np.mean(REsample2.sale_price))**2).sum()\n",
    "    if R_OS<0: #cut negative values\n",
    "        R_OS=0\n",
    "    OLS_R_2_OS.append(R_OS)\n",
    "    \n",
    "#visualize \n",
    "plt.title('In sample/out of sample R-squared vs number of regressors')\n",
    "plt.plot(nvariables,OLS_R_2_IS,'r',label='IS_R_squared')\n",
    "plt.plot(nvariables,OLS_R_2_OS,'b',label='OS_R_squared')\n",
    "plt.legend(loc='upper left')\n",
    "plt.xlabel('Number of regressors')\n",
    "plt.ylabel('R-squared')\n",
    "plt.draw()"
   ]
  },
  {
   "cell_type": "markdown",
   "metadata": {},
   "source": [
    "## Regularization"
   ]
  },
  {
   "cell_type": "markdown",
   "metadata": {},
   "source": [
    "When fitting a linear regression with multiple features $x=(x^1,x^2,...,x^n)$ \n",
    "$$\n",
    "y\\sim w^T x\n",
    "$$\n",
    "the model might become complex and susceptible to overfitting. Complexity often comes with coefficients $w$ growing large in absolute values.\n",
    "\n",
    "One way to reduce complexity is to penalize regression for the magnitude of the coefficients $w=(w^1,w^2,...,w^n)$, which can be measured by\n",
    "$$\n",
    "||w||_1=\\sum\\limits_j |w^j|\n",
    "$$\n",
    "or by \n",
    "$$\n",
    "||w||_2^2=\\sum\\limits_j (w^j)^2\n",
    "$$\n",
    "So instead of simply minimizing \n",
    "$$\n",
    "RSS(w)=\\sum\\limits_j (y_j-w^T x_j)^2\n",
    "$$\n",
    "where $x_j, y_j$ are observations for regressors and output variable, we minimize\n",
    "$$\n",
    "RSS(w)+\\lambda ||w||_2^2=RSS(w)+\\lambda \\sum\\limits_j (w^j)^2\\to\\min\\hspace{10ex}(Ridge)\n",
    "$$\n",
    "or\n",
    "$$\n",
    "RSS(w)+\\lambda ||w||_1=RSS(w)+\\lambda \\sum\\limits_j \\left|w^j\\right|\\to\\min\\hspace{10ex}(Lasso)\n",
    "$$"
   ]
  },
  {
   "cell_type": "markdown",
   "metadata": {},
   "source": [
    "The first model is known as Ridge, the second - as Lasso (least absolute shrinkage and selection operator) regularized regression.\n",
    "\n",
    "Both Ridge and Lasso could be shown to be equivalent to a constrained minimization of $RSS$:\n",
    "\n",
    "$$\n",
    "RSS(w)\\to min, \\ ||w||_p\\leq \\alpha,\n",
    "$$\n",
    "\n",
    "with $p=1,2$ respectively, although analytic relation between constants $\\alpha$ and $\\lambda$ is somewhat nontrivial. In practice however the choice of $\\lambda$ or $\\alpha$ is usually empirical anyway, so both regularized or constrained forms of the optimization problem are equally applicable."
   ]
  },
  {
   "cell_type": "markdown",
   "metadata": {},
   "source": [
    "Optimization problems (Ridge) and (Lasso) tend to minimize $RSS$ at the same time penalizing the regression for having $||w||$ too large (regularization) which often leads to the model complexity through multiple regressors with large coefficients canceling effect of each other. So in a sense Lasso and Ridge are trying to avoid this situation, looking for relatively simple \"regular\" models with best possible fit. \n",
    "\n",
    "** NOTICE ** As the order of magnitude of $w^j$ is directly related to the scale of the regressors, it is practical to rescale them (e.g. by standardizing) to make sure the $w^j$ are comparable in scale. Otherwise penalization terms directly mixing components $w^j$ of different, sometimes incomparable, scale do not make too much sense.\n",
    "\n",
    "From Bayesian standpoint (for those familiar with Bayesian inference) Lasso and Ridge simply perform the regression with the prior belief that all the components of the $w$ are limited through the fixed variance of the priors. Such a belief affects the final outcome of the model making solutions with large $||w||$ to be particularly unlikely.\n",
    "\n",
    "This helps Ridge and Lasso to fight overfitting also dealing with multicollinearity of regressors to some extent, preventing from learning noise through particularly complex \"unnatural\" combinations of the regressors.\n",
    "\n",
    "Ridge regression admits solution in the closed form (consider partial derivatives of the objective function with respect to $w_j$):\n",
    "\n",
    "$$\n",
    "\\hat{w}=(X^T X+\\lambda I)^{-1}X^T Y, \\hspace{5ex}(Ridge\\ solution)\n",
    "$$\n",
    "\n",
    "where $I$ is the identity $n\\times n$ matrix, while $n$ being the number of regressors. The formulae (Ridge solution) shows that the Ridge regression can in theory deal with the case of multicollinearity, when the matrix $X^T X$ is singular and OLS estimate does not exist.\n",
    "\n",
    "Lasso does not admit solution in the closed form and requires numerical methods (like subgradient methods) to be fit. \n",
    "Lasso however has an advantage of being often able to completely eliminate impact of certain irrelevant regressors setting the corresponding slope coefficients to zero.  "
   ]
  },
  {
   "cell_type": "code",
   "execution_count": 40,
   "metadata": {},
   "outputs": [
    {
     "name": "stdout",
     "output_type": "stream",
     "text": [
      "The In-sample R-squared for Ridge is: 0.527387608464\n",
      "The Out-of-sample R-squared for Ridge: 0.147256947068\n"
     ]
    }
   ],
   "source": [
    "#apply Ridge with a default regulatization parameter\n",
    "Ridge=linear_model.Ridge(fit_intercept=True, alpha=1) #try Ridge with an arbitrary regularization parameter alpha=1\n",
    "\n",
    "Ridge.fit(REsample1[var_list],REsample1.sale_price)\n",
    "# In the sample:\n",
    "Ypred1=Ridge.predict(REsample1[var_list])\n",
    "R_IS=1-((np.asarray(Ypred1)-REsample1.sale_price)**2).sum()/((REsample1.sale_price-np.mean(REsample1.sale_price))**2).sum()\n",
    "print(\"The In-sample R-squared for Ridge is: {0}\".format(R_IS))\n",
    "\n",
    "Ridge_coef=Ridge.coef_\n",
    "\n",
    "#Out of sample (use REsample2 as a validation sample first as we'll be tuning alpha)\n",
    "YPred2=Ridge.predict(REsample2[var_list])\n",
    "R_OS=1-((np.asarray(YPred2)-REsample2.sale_price)**2).sum()/((REsample2.sale_price-np.mean(REsample2.sale_price))**2).sum()\n",
    "print(\"The Out-of-sample R-squared for Ridge: {0}\".format(R_OS))"
   ]
  },
  {
   "cell_type": "code",
   "execution_count": 41,
   "metadata": {},
   "outputs": [
    {
     "data": {
      "text/plain": [
       "array([  1.06709232e+02,   1.45196922e+01,   8.34696870e+02,\n",
       "         2.51390137e+05,   1.89205800e+05,   3.03358647e+05,\n",
       "        -2.28586367e+05,   5.50610039e+05,  -2.52722969e+05,\n",
       "        -3.64301149e+05,  -1.73890442e+05,   2.69166940e+05])"
      ]
     },
     "execution_count": 41,
     "metadata": {},
     "output_type": "execute_result"
    }
   ],
   "source": [
    "Ridge_coef[0:12]"
   ]
  },
  {
   "cell_type": "code",
   "execution_count": 42,
   "metadata": {},
   "outputs": [
    {
     "name": "stdout",
     "output_type": "stream",
     "text": [
      "The In-sample R-squared for Lasso is: 0.527387608464\n",
      "The Out-of-sample R-squared for Lasso: 0.12599431024\n"
     ]
    },
    {
     "name": "stderr",
     "output_type": "stream",
     "text": [
      "/Library/Frameworks/Python.framework/Versions/2.7/lib/python2.7/site-packages/sklearn/linear_model/coordinate_descent.py:479: ConvergenceWarning: Objective did not converge. You might want to increase the number of iterations. Fitting data with very small alpha may cause precision problems.\n",
      "  ConvergenceWarning)\n"
     ]
    }
   ],
   "source": [
    "#apply Lasso with a default regulatization parameter\n",
    "Lasso=linear_model.Lasso(fit_intercept=True, alpha=1) #try Lasso with an arbitrary regularization parameter alpha=1\n",
    "\n",
    "Lasso.fit(REsample1[var_list],REsample1.sale_price)\n",
    "# In the sample:\n",
    "YPred1=Lasso.predict(REsample1[var_list])\n",
    "R_IS=1-((np.asarray(Ypred1)-REsample1.sale_price)**2).sum()/((REsample1.sale_price-np.mean(REsample1.sale_price))**2).sum()\n",
    "print(\"The In-sample R-squared for Lasso is: {0}\".format(R_IS))\n",
    "\n",
    "Lasso_coef=Lasso.coef_\n",
    "\n",
    "#Out of sample (use REsample2 as a validation sample first as we'll be tuning alpha)\n",
    "YPred2=Lasso.predict(REsample2[var_list])\n",
    "R_OS=1-((np.asarray(YPred2)-REsample2.sale_price)**2).sum()/((REsample2.sale_price-np.mean(REsample2.sale_price))**2).sum()\n",
    "print(\"The Out-of-sample R-squared for Lasso: {0}\".format(R_OS))"
   ]
  },
  {
   "cell_type": "code",
   "execution_count": 43,
   "metadata": {},
   "outputs": [
    {
     "data": {
      "text/plain": [
       "array([  1.04347806e+02,   1.47639393e+01,   8.54261819e+02,\n",
       "         2.48073468e+05,   1.59884271e+05,   4.37079158e+05,\n",
       "        -1.47819651e+05,   2.61752538e+05,  -1.44143660e+05,\n",
       "        -4.13954134e+04,  -2.26714337e+05,   9.93441722e+04])"
      ]
     },
     "execution_count": 43,
     "metadata": {},
     "output_type": "execute_result"
    }
   ],
   "source": [
    "Lasso_coef[0:12]"
   ]
  },
  {
   "cell_type": "code",
   "execution_count": 44,
   "metadata": {
    "collapsed": true
   },
   "outputs": [],
   "source": [
    "#Find the Alpha and report best test performance for Ridge/Lasso.\n",
    "def Regularization_fit_alpha(model,X_train,y_train,X_valid,y_valid,alphas,Graph=False, logl=False):\n",
    "    #model = 1-Ridge, 2-Lasso\n",
    "    #lambdas: a list of lambda values to try\n",
    "    #p: ratio of the validation sample size / total training size\n",
    "    #Graph: plot the graph of R^2 values for different lambda\n",
    "\n",
    "    R_2_OS=[]\n",
    "    \n",
    "    if model==1:\n",
    "        RM = lambda a: linear_model.Ridge(fit_intercept=True, alpha=a)\n",
    "        model_label='Ridge'\n",
    "    else:\n",
    "        RM = lambda a: linear_model.Lasso(fit_intercept=True, alpha=a)\n",
    "        model_label='Lasso'\n",
    "    \n",
    "    best_R2 = -1\n",
    "    best_alpha = alphas[0]\n",
    "    \n",
    "    for i in alphas:\n",
    "        lm = RM(i)\n",
    "        lm.fit(X_train,y_train)  #fit the regularization model\n",
    "        y_predict=lm.predict(X_valid) #compute the prediction for the validation sample \n",
    "        err_OS=y_predict-y_valid\n",
    "        R_2_OS_=1-np.var(err_OS)/np.var(y_valid)\n",
    "        R_2_OS.append(R_2_OS_)\n",
    "        if R_2_OS_ > best_R2:\n",
    "            best_R2 = R_2_OS_\n",
    "            best_alpha = i\n",
    "    \n",
    "    if Graph==True:\n",
    "        plt.title('OS-R-squared for different Alpha')\n",
    "        if logl:\n",
    "            plt.xlabel('ln(Alpha)')\n",
    "            l=np.log(alphas)\n",
    "            bl=np.log(best_alpha)\n",
    "        else:\n",
    "            plt.xlabel('Alpha')\n",
    "            l=alphas\n",
    "            bl=best_alpha\n",
    "        plt.plot(l,R_2_OS,'b',label=model_label)\n",
    "        plt.legend(loc='upper left')\n",
    "        plt.ylabel('R-squared')\n",
    "        plt.axvline(bl,color='r',linestyle='--')\n",
    "\n",
    "        plt.show()\n",
    "    \n",
    "    return (best_alpha, best_R2)"
   ]
  },
  {
   "cell_type": "code",
   "execution_count": 45,
   "metadata": {
    "collapsed": true
   },
   "outputs": [],
   "source": [
    "var_list_=var_list[:100]"
   ]
  },
  {
   "cell_type": "code",
   "execution_count": 46,
   "metadata": {},
   "outputs": [
    {
     "data": {
      "image/png": "[encoded data removed]",
      "text/plain": [
       "<matplotlib.figure.Figure at 0x10af69990>"
      ]
     },
     "metadata": {},
     "output_type": "display_data"
    },
    {
     "name": "stdout",
     "output_type": "stream",
     "text": [
      "Optimal alpha for Ridge=936.45855262, R2=0.250543946352\n"
     ]
    }
   ],
   "source": [
    "alphas = np.exp(np.linspace(-10,10,20))\n",
    "alpha_r_optimal,best_R2=Regularization_fit_alpha(1,REsample1[var_list_],REsample1.sale_price,REsample2[var_list_],REsample2.sale_price,alphas,Graph=True,logl=True)\n",
    "print('Optimal alpha for Ridge={0}, R2={1}'.format(alpha_r_optimal,best_R2))"
   ]
  },
  {
   "cell_type": "code",
   "execution_count": 47,
   "metadata": {},
   "outputs": [
    {
     "data": {
      "image/png": "[encoded data removed]",
      "text/plain": [
       "<matplotlib.figure.Figure at 0x10bbbaf50>"
      ]
     },
     "metadata": {},
     "output_type": "display_data"
    },
    {
     "name": "stdout",
     "output_type": "stream",
     "text": [
      "Optimal alpha for Lasso=26171.1723789, R2=0.241539266265\n"
     ]
    }
   ],
   "source": [
    "alphas = np.exp(np.linspace(1,20,30))\n",
    "alpha_l_optimal,best_R2=Regularization_fit_alpha(2,REsample1[var_list_],REsample1.sale_price,REsample2[var_list_],REsample2.sale_price,alphas,Graph=True,logl=True)\n",
    "print('Optimal alpha for Lasso={0}, R2={1}'.format(alpha_l_optimal,best_R2))"
   ]
  },
  {
   "cell_type": "markdown",
   "metadata": {},
   "source": [
    "So while Lasso and Ridge can help reduce overfitting "
   ]
  },
  {
   "cell_type": "code",
   "execution_count": 48,
   "metadata": {},
   "outputs": [
    {
     "name": "stdout",
     "output_type": "stream",
     "text": [
      "The In-sample R-squared for Lasso is: 0.527387608464\n",
      "The Out-of-sample R-squared for Lasso: 0.241471202297\n"
     ]
    }
   ],
   "source": [
    "Lasso=linear_model.Lasso(fit_intercept=True, alpha=alpha_l_optimal) #try Lasso with an arbitrary regularization parameter alpha=1\n",
    "\n",
    "Lasso.fit(REsample1[var_list_],REsample1.sale_price)\n",
    "# In the sample:\n",
    "YPred1=Lasso.predict(REsample1[var_list_])\n",
    "R_IS=1-((np.asarray(Ypred1)-REsample1.sale_price)**2).sum()/((REsample1.sale_price-np.mean(REsample1.sale_price))**2).sum()\n",
    "print(\"The In-sample R-squared for Lasso is: {0}\".format(R_IS))\n",
    "\n",
    "Lasso_coef=Lasso.coef_\n",
    "\n",
    "#Out of sample (use REsample2 as a validation sample first as we'll be tuning alpha)\n",
    "YPred2=Lasso.predict(REsample2[var_list_])\n",
    "R_OS=1-((np.asarray(YPred2)-REsample2.sale_price)**2).sum()/((REsample2.sale_price-np.mean(REsample2.sale_price))**2).sum()\n",
    "print(\"The Out-of-sample R-squared for Lasso: {0}\".format(R_OS))"
   ]
  },
  {
   "cell_type": "code",
   "execution_count": 49,
   "metadata": {},
   "outputs": [
    {
     "data": {
      "text/plain": [
       "array([  2.18576138e+02,  -2.82035894e+00,  -6.31526615e+02,\n",
       "         2.25664204e+05,   1.65604867e+05,   0.00000000e+00,\n",
       "         0.00000000e+00,   7.90942479e+04,   0.00000000e+00,\n",
       "         0.00000000e+00,  -1.32716625e+05,   0.00000000e+00,\n",
       "        -0.00000000e+00,   3.56480988e+04,  -1.15019163e+05,\n",
       "         0.00000000e+00,   1.37486254e+04,   0.00000000e+00,\n",
       "         9.48724027e+03,  -2.44739647e+04,  -1.49614994e+04,\n",
       "         9.96686409e+04,  -0.00000000e+00,   1.79205848e+04,\n",
       "         3.10032389e+04,  -5.62803779e+03,  -0.00000000e+00,\n",
       "         0.00000000e+00,   0.00000000e+00,   0.00000000e+00,\n",
       "        -0.00000000e+00,   5.54630884e+04,  -3.44551401e+03,\n",
       "         3.95990810e+04,   0.00000000e+00,   5.64817845e+04,\n",
       "         0.00000000e+00,   0.00000000e+00,   0.00000000e+00,\n",
       "        -0.00000000e+00,  -0.00000000e+00,   0.00000000e+00,\n",
       "         0.00000000e+00,  -5.38635462e+04,  -0.00000000e+00,\n",
       "         4.54725677e+03,  -0.00000000e+00,   0.00000000e+00,\n",
       "         0.00000000e+00,  -0.00000000e+00,   5.09677311e+04,\n",
       "         0.00000000e+00,   0.00000000e+00,   4.26193467e+03,\n",
       "         2.24084085e+04,   1.01802309e+05,  -7.31028543e+02,\n",
       "         0.00000000e+00,  -0.00000000e+00,   0.00000000e+00,\n",
       "        -0.00000000e+00,  -0.00000000e+00,  -0.00000000e+00,\n",
       "         0.00000000e+00,   0.00000000e+00,   5.71621630e+04,\n",
       "         0.00000000e+00,   0.00000000e+00,  -0.00000000e+00,\n",
       "        -0.00000000e+00,   0.00000000e+00,  -0.00000000e+00,\n",
       "        -3.55464559e+04,  -0.00000000e+00,  -0.00000000e+00,\n",
       "        -0.00000000e+00,   0.00000000e+00,   0.00000000e+00,\n",
       "        -0.00000000e+00,  -0.00000000e+00,   0.00000000e+00,\n",
       "         0.00000000e+00,   0.00000000e+00,  -5.35224290e+04,\n",
       "        -0.00000000e+00,  -0.00000000e+00,   0.00000000e+00,\n",
       "        -0.00000000e+00,   1.28040004e+05,  -0.00000000e+00,\n",
       "         0.00000000e+00,   0.00000000e+00,  -0.00000000e+00,\n",
       "        -0.00000000e+00,   0.00000000e+00,  -0.00000000e+00,\n",
       "         0.00000000e+00,   0.00000000e+00,  -0.00000000e+00,\n",
       "         0.00000000e+00])"
      ]
     },
     "execution_count": 49,
     "metadata": {},
     "output_type": "execute_result"
    }
   ],
   "source": [
    "#look at the final coefficients Lasso provides: many features are completely elimitated. It effectively does feature selection\n",
    "Lasso_coef"
   ]
  },
  {
   "cell_type": "code",
   "execution_count": null,
   "metadata": {
    "collapsed": true
   },
   "outputs": [],
   "source": []
  }
 ],
 "metadata": {
  "anaconda-cloud": {},
  "kernelspec": {
   "display_name": "PUI2016_Python2",
   "language": "python",
   "name": "pui2016_python2"
  },
  "language_info": {
   "codemirror_mode": {
    "name": "ipython",
    "version": 2
   },
   "file_extension": ".py",
   "mimetype": "text/x-python",
   "name": "python",
   "nbconvert_exporter": "python",
   "pygments_lexer": "ipython2",
   "version": "2.7.12"
  }
 },
 "nbformat": 4,
 "nbformat_minor": 1
}
