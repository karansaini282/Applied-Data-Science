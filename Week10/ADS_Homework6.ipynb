{
 "cells": [
  {
   "cell_type": "code",
   "execution_count": 45,
   "metadata": {},
   "outputs": [],
   "source": [
    "import re\n",
    "import pandas as pd\n",
    "import geopandas as gpd\n",
    "import numpy as np\n",
    "import matplotlib.pyplot as plt\n",
    "from matplotlib.colors import ListedColormap\n",
    "from sklearn.linear_model import LogisticRegression\n",
    "from sklearn.svm import SVC\n",
    "from sklearn.model_selection import train_test_split\n",
    "from sklearn.metrics import confusion_matrix\n",
    "from sklearn.datasets import make_classification\n",
    "import shapely\n",
    "from fiona.crs import from_epsg"
   ]
  },
  {
   "cell_type": "markdown",
   "metadata": {},
   "source": [
    "### 1\n",
    "Which of the following (select all that apply) is true for the binary classification confusion matrix report:\n",
    "* a) it reports sizes of each cluster and number of the clusters;\n",
    "* b) it is a square matrix;\n",
    "* c) it is symmetrical;\n",
    "* d) it has dimensions $2\\times2$;\n",
    "* e) it has dimensions $3\\times3$;\n",
    "* f) it reports the quality of classification fit over the test set;\n",
    "* g) it reports the percentage of correctly classified datapoints over the test set;\n",
    "* h) it reports the percentage of incorrectly classified datapoints over the test set;"
   ]
  },
  {
   "cell_type": "markdown",
   "metadata": {},
   "source": [
    "Responses here\n",
    "<br>\n",
    "b,d"
   ]
  },
  {
   "cell_type": "markdown",
   "metadata": {},
   "source": [
    "### 2\n",
    "Given the following synthetic data and the plotting function provided for you, you are to implement two classification models: Logistic Regression and SVC.\n",
    "\n",
    "a. Partition the data into training and testing sets of equal size.\n",
    "\n",
    "b. Create a logistic regression model with C=10000 and fit the model with the training data\n",
    "\n",
    "c. Report the coefficients and intercept of the fitted model (consult the API documentation for these statistics)\n",
    "\n",
    "d. Use the plot_decision_regions function to plot the test data and the classifier\n",
    "\n",
    "e. Construct the confusion matrix such that you can report TP, FP, TN, and FN. Using those four values, report the accuracy, precision, and recall of your predictions from the logistic regression model\n",
    "\n",
    "f. Create a support vector classifier with C=10000 and a linear kernel. Fit the model with the training data.\n",
    "\n",
    "g. Use the plot_decision_regions function to plot the test data and the classifier\n",
    "\n",
    "h. Construct the confusion matrix such that you can report TP, FP, TN, and FN. Using those four values, report the accuracy, precision, and recall of your predictions from the support vector classifier"
   ]
  },
  {
   "cell_type": "code",
   "execution_count": 3,
   "metadata": {},
   "outputs": [],
   "source": [
    "X, y = make_classification(n_features=2, n_samples=1500, n_classes=2, class_sep=2, n_redundant=0, random_state=0)"
   ]
  },
  {
   "cell_type": "code",
   "execution_count": 4,
   "metadata": {},
   "outputs": [],
   "source": [
    "# Used for plotting decision regions\n",
    "def plot_decision_regions(X, y, classifier, test_idx=None, resolution=0.02):\n",
    "    # setup marker generator and color map\n",
    "    markers = ('s', 'x', 'o', '^', 'v')\n",
    "    colors = ('red', 'blue', 'lightgreen', 'gray', 'cyan')\n",
    "    cmap = ListedColormap(colors[:len(np.unique(y))])\n",
    "    \n",
    "    # plot the decision surface\n",
    "    x1_min, x1_max = X[:, 0].min() - 1, X[:, 0].max() + 1\n",
    "    x2_min, x2_max = X[:, 1].min() - 1, X[:, 1].max() + 1\n",
    "    xx1, xx2 = np.meshgrid(np.arange(x1_min, x1_max, resolution),\n",
    "                           np.arange(x2_min, x2_max, resolution))\n",
    "    Z = classifier.predict(np.array([xx1.ravel(), xx2.ravel()]).T)\n",
    "    Z = Z.reshape(xx1.shape)\n",
    "    plt.contourf(xx1, xx2, Z, alpha=0.3, cmap=cmap)\n",
    "    plt.xlim(xx1.min(), xx1.max())\n",
    "    plt.ylim(xx2.min(), xx2.max())\n",
    "    \n",
    "    for idx, cl in enumerate(np.unique(y)):\n",
    "        plt.scatter(x=X[y == cl, 0], y=X[y == cl, 1],\n",
    "                    alpha=0.8, c=colors[idx],\n",
    "                    marker=markers[idx], label=cl,\n",
    "                    edgecolor='black')\n",
    "    \n",
    "    # highlight test samples\n",
    "    if test_idx:\n",
    "        # plot all samples\n",
    "        X_test, y_test = X[test_idx, :], y[test_idx]\n",
    "        \n",
    "        plt.scatter(X_test[:, 0], X_test[:, 1],\n",
    "                    c='', edgecolor='black', alpha=1.0,\n",
    "                    linewidth=1, marker='o',\n",
    "                    s=100, label='Test Set')"
   ]
  },
  {
   "cell_type": "markdown",
   "metadata": {},
   "source": [
    "### (a) Split the data into training and testing"
   ]
  },
  {
   "cell_type": "code",
   "execution_count": 5,
   "metadata": {},
   "outputs": [],
   "source": [
    "# Write code here\n",
    "X_train, X_test, y_train, y_test = train_test_split(X, y, test_size=0.5, random_state=42)"
   ]
  },
  {
   "cell_type": "markdown",
   "metadata": {},
   "source": [
    "### (b) Create logistic regression model with C = 10000 to disable regularization and fit training data to it"
   ]
  },
  {
   "cell_type": "code",
   "execution_count": 7,
   "metadata": {},
   "outputs": [
    {
     "name": "stderr",
     "output_type": "stream",
     "text": [
      "/usr/local/Anaconda3-5.0.0-Linux-x86_64/envs/ADS/lib/python3.5/site-packages/sklearn/linear_model/logistic.py:432: FutureWarning: Default solver will be changed to 'lbfgs' in 0.22. Specify a solver to silence this warning.\n",
      "  FutureWarning)\n"
     ]
    },
    {
     "data": {
      "text/plain": [
       "LogisticRegression(C=10000, class_weight=None, dual=False, fit_intercept=True,\n",
       "          intercept_scaling=1, max_iter=100, multi_class='warn',\n",
       "          n_jobs=None, penalty='l2', random_state=None, solver='warn',\n",
       "          tol=0.0001, verbose=0, warm_start=False)"
      ]
     },
     "execution_count": 7,
     "metadata": {},
     "output_type": "execute_result"
    }
   ],
   "source": [
    "# Write code here\n",
    "lg = LogisticRegression(C=10000)\n",
    "lg.fit(X_train,y_train)"
   ]
  },
  {
   "cell_type": "markdown",
   "metadata": {},
   "source": [
    "### (c) Report coefficients and intercept from fitted model"
   ]
  },
  {
   "cell_type": "code",
   "execution_count": 8,
   "metadata": {},
   "outputs": [
    {
     "data": {
      "text/plain": [
       "array([[ 3.19650785, -0.12848232]])"
      ]
     },
     "execution_count": 8,
     "metadata": {},
     "output_type": "execute_result"
    }
   ],
   "source": [
    "# Write code here\n",
    "lg.coef_"
   ]
  },
  {
   "cell_type": "code",
   "execution_count": 9,
   "metadata": {},
   "outputs": [
    {
     "data": {
      "text/plain": [
       "array([-0.78535943])"
      ]
     },
     "execution_count": 9,
     "metadata": {},
     "output_type": "execute_result"
    }
   ],
   "source": [
    "lg.intercept_"
   ]
  },
  {
   "cell_type": "markdown",
   "metadata": {},
   "source": [
    "### (d) Use the function plot_decision_regions to plot the test data with the logistic regression classifier"
   ]
  },
  {
   "cell_type": "code",
   "execution_count": 10,
   "metadata": {},
   "outputs": [
    {
     "data": {
      "image/png": "[encoded data removed]",
      "text/plain": [
       "<matplotlib.figure.Figure at 0x7ff4dfef0978>"
      ]
     },
     "metadata": {
      "needs_background": "light"
     },
     "output_type": "display_data"
    }
   ],
   "source": [
    "# Write code here\n",
    "plot_decision_regions(X_test,y_test,lg)"
   ]
  },
  {
   "cell_type": "markdown",
   "metadata": {},
   "source": [
    "### (e) Construct the confusion matrix and report the model's accuracy, precision, and recall on the test data for the logistic regression classifier"
   ]
  },
  {
   "cell_type": "code",
   "execution_count": 11,
   "metadata": {},
   "outputs": [
    {
     "name": "stdout",
     "output_type": "stream",
     "text": [
      "Confusion Matrix:\n",
      "                  Predicted Negative  Predicted Positive\n",
      "Actual Negative                 365                   5\n",
      "Actual Positive                   3                 377\n"
     ]
    }
   ],
   "source": [
    "# Write code here\n",
    "def print_confusion_matrix(predictions, labels):\n",
    "    # Function for printing Confusion matrix, based on labels and predictions\n",
    "    ls = list(confusion_matrix(predictions, labels)) ## returns tn, fp, fn, tp\n",
    "    ls = pd.DataFrame(ls, columns = ['Predicted Negative', 'Predicted Positive'], index=['Actual Negative', 'Actual Positive'])\n",
    "    print (\"Confusion Matrix:\\n\", ls)\n",
    "\n",
    "print_confusion_matrix(lg.predict(X_test),y_test)"
   ]
  },
  {
   "cell_type": "code",
   "execution_count": 17,
   "metadata": {},
   "outputs": [
    {
     "name": "stdout",
     "output_type": "stream",
     "text": [
      "Precision = 99.21%\n",
      "Accuracy = 98.93%\n",
      "Recall = 98.69%\n"
     ]
    }
   ],
   "source": [
    "labelPred = lg.predict(X_test)\n",
    "labelActual = y_test\n",
    "TP = sum((labelPred==1)&(labelActual==1))\n",
    "FP = sum((labelPred==1)&(labelActual==0))\n",
    "FN = sum((labelPred==0)&(labelActual==1))\n",
    "TN = sum((labelPred==0)&(labelActual==0))\n",
    "\n",
    "#compute precision, accuracy and recall\n",
    "Acc = 100.0 * (TP+TN)/(TP+TN+FP+FN)\n",
    "Rec = 100.0 * TP/(TP+FN)\n",
    "Prec= 100.0 * TP/(TP+FP)\n",
    "print('Precision = %.2f%%\\nAccuracy = %.2f%%\\nRecall = %.2f%%'%(Prec,Acc,Rec))"
   ]
  },
  {
   "cell_type": "markdown",
   "metadata": {},
   "source": [
    "### (f) Create a support vector classifier with C = 10000 and kernel = linear and train it on the training data"
   ]
  },
  {
   "cell_type": "code",
   "execution_count": 13,
   "metadata": {},
   "outputs": [
    {
     "data": {
      "text/plain": [
       "SVC(C=10000, cache_size=200, class_weight=None, coef0=0.0,\n",
       "  decision_function_shape='ovr', degree=3, gamma='auto_deprecated',\n",
       "  kernel='linear', max_iter=-1, probability=False, random_state=None,\n",
       "  shrinking=True, tol=0.001, verbose=False)"
      ]
     },
     "execution_count": 13,
     "metadata": {},
     "output_type": "execute_result"
    }
   ],
   "source": [
    "# Write code here\n",
    "svc = SVC(C=10000,kernel=\"linear\")\n",
    "svc.fit(X_train,y_train)"
   ]
  },
  {
   "cell_type": "markdown",
   "metadata": {},
   "source": [
    "### (g) Use the function plot_decision_regions to plot the test data with the support vector classifier"
   ]
  },
  {
   "cell_type": "code",
   "execution_count": 14,
   "metadata": {},
   "outputs": [
    {
     "data": {
      "image/png": "[encoded data removed]",
      "text/plain": [
       "<matplotlib.figure.Figure at 0x7ff4df94e6d8>"
      ]
     },
     "metadata": {
      "needs_background": "light"
     },
     "output_type": "display_data"
    }
   ],
   "source": [
    "# Write code here\n",
    "plot_decision_regions(X_test,y_test, svc)"
   ]
  },
  {
   "cell_type": "markdown",
   "metadata": {},
   "source": [
    "### (h) Construct the confusion matrix and report the model's accuracy, precision, and recall on the test data for the support vector classifier"
   ]
  },
  {
   "cell_type": "code",
   "execution_count": 15,
   "metadata": {},
   "outputs": [
    {
     "name": "stdout",
     "output_type": "stream",
     "text": [
      "Confusion Matrix:\n",
      "                  Predicted Negative  Predicted Positive\n",
      "Actual Negative                 363                   4\n",
      "Actual Positive                   5                 378\n"
     ]
    }
   ],
   "source": [
    "# Write code here\n",
    "print_confusion_matrix(svc.predict(X_test),y_test)"
   ]
  },
  {
   "cell_type": "code",
   "execution_count": 16,
   "metadata": {},
   "outputs": [
    {
     "name": "stdout",
     "output_type": "stream",
     "text": [
      "Precision = 98.69%\n",
      "Accuracy = 98.80%\n",
      "Recall = 98.95%\n"
     ]
    }
   ],
   "source": [
    "labelPred = svc.predict(X_test)\n",
    "labelActual = y_test\n",
    "TP = sum((labelPred==1)&(labelActual==1))\n",
    "FP = sum((labelPred==1)&(labelActual==0))\n",
    "FN = sum((labelPred==0)&(labelActual==1))\n",
    "TN = sum((labelPred==0)&(labelActual==0))\n",
    "\n",
    "#compute precision, accuracy and recall\n",
    "Acc = 100.0 * (TP+TN)/(TP+TN+FP+FN)\n",
    "Rec = 100.0 * TP/(TP+FN)\n",
    "Prec= 100.0 * TP/(TP+FP)\n",
    "print('Precision = %.2f%%\\nAccuracy = %.2f%%\\nRecall = %.2f%%'%(Prec,Acc,Rec))"
   ]
  },
  {
   "cell_type": "markdown",
   "metadata": {},
   "source": [
    "## 3\n",
    "\n",
    "Given the countries dataset, we're going to engage in a rather interesting classification exercise. What we will try to do is classify whether a certain region is in Asia. Therefore, our target value will be the region masked as a binary integer: 0 or 1. \n",
    "\n",
    "1 will denote that the region is in Asia. 0 will denote otherwise.\n",
    "\n",
    "You are tasked with preprocessing the data such that it's in a consumable format for the machine learning algorithm. You will then implement these models and do analysis on them.. Then you are to plot the data on the world map similar to previous assignments to show how accurate your classification model is."
   ]
  },
  {
   "cell_type": "code",
   "execution_count": 20,
   "metadata": {},
   "outputs": [],
   "source": [
    "countries = pd.read_csv('countries.csv')\n",
    "countries['COUNTRY'] = countries['COUNTRY'].str.strip()\n",
    "countries = countries.dropna()\n",
    "\n",
    "world = gpd.read_file('World_Countries.shp')"
   ]
  },
  {
   "cell_type": "code",
   "execution_count": 23,
   "metadata": {},
   "outputs": [
    {
     "data": {
      "text/html": [
       "<div>\n",
       "<style scoped>\n",
       "    .dataframe tbody tr th:only-of-type {\n",
       "        vertical-align: middle;\n",
       "    }\n",
       "\n",
       "    .dataframe tbody tr th {\n",
       "        vertical-align: top;\n",
       "    }\n",
       "\n",
       "    .dataframe thead th {\n",
       "        text-align: right;\n",
       "    }\n",
       "</style>\n",
       "<table border=\"1\" class=\"dataframe\">\n",
       "  <thead>\n",
       "    <tr style=\"text-align: right;\">\n",
       "      <th></th>\n",
       "      <th>COUNTRY</th>\n",
       "      <th>Region</th>\n",
       "      <th>Population</th>\n",
       "      <th>Area_sqmi</th>\n",
       "      <th>Pop_Density</th>\n",
       "      <th>Coastline_area_ratio</th>\n",
       "      <th>Net_migration</th>\n",
       "      <th>InfantMortality_per1000</th>\n",
       "      <th>GDP_percapita</th>\n",
       "      <th>Literacy_percent</th>\n",
       "      <th>Phones_per_1000</th>\n",
       "      <th>Arable</th>\n",
       "      <th>Crops</th>\n",
       "      <th>Other</th>\n",
       "      <th>Climate</th>\n",
       "      <th>Birthrate</th>\n",
       "      <th>Deathrate</th>\n",
       "      <th>Agriculture</th>\n",
       "      <th>Industry</th>\n",
       "      <th>Service</th>\n",
       "    </tr>\n",
       "  </thead>\n",
       "  <tbody>\n",
       "    <tr>\n",
       "      <th>0</th>\n",
       "      <td>Afghanistan</td>\n",
       "      <td>ASIA (EX. NEAR EAST)</td>\n",
       "      <td>31056997</td>\n",
       "      <td>647500</td>\n",
       "      <td>48.0</td>\n",
       "      <td>0.00</td>\n",
       "      <td>23.06</td>\n",
       "      <td>163.07</td>\n",
       "      <td>700.0</td>\n",
       "      <td>36.0</td>\n",
       "      <td>3.2</td>\n",
       "      <td>12.13</td>\n",
       "      <td>0.22</td>\n",
       "      <td>87.65</td>\n",
       "      <td>1.0</td>\n",
       "      <td>46.60</td>\n",
       "      <td>20.34</td>\n",
       "      <td>0.380</td>\n",
       "      <td>0.240</td>\n",
       "      <td>0.380</td>\n",
       "    </tr>\n",
       "    <tr>\n",
       "      <th>1</th>\n",
       "      <td>Albania</td>\n",
       "      <td>EASTERN EUROPE</td>\n",
       "      <td>3581655</td>\n",
       "      <td>28748</td>\n",
       "      <td>124.6</td>\n",
       "      <td>1.26</td>\n",
       "      <td>-4.93</td>\n",
       "      <td>21.52</td>\n",
       "      <td>4500.0</td>\n",
       "      <td>86.5</td>\n",
       "      <td>71.2</td>\n",
       "      <td>21.09</td>\n",
       "      <td>4.42</td>\n",
       "      <td>74.49</td>\n",
       "      <td>3.0</td>\n",
       "      <td>15.11</td>\n",
       "      <td>5.22</td>\n",
       "      <td>0.232</td>\n",
       "      <td>0.188</td>\n",
       "      <td>0.579</td>\n",
       "    </tr>\n",
       "    <tr>\n",
       "      <th>2</th>\n",
       "      <td>Algeria</td>\n",
       "      <td>NORTHERN AFRICA</td>\n",
       "      <td>32930091</td>\n",
       "      <td>2381740</td>\n",
       "      <td>13.8</td>\n",
       "      <td>0.04</td>\n",
       "      <td>-0.39</td>\n",
       "      <td>31.00</td>\n",
       "      <td>6000.0</td>\n",
       "      <td>70.0</td>\n",
       "      <td>78.1</td>\n",
       "      <td>3.22</td>\n",
       "      <td>0.25</td>\n",
       "      <td>96.53</td>\n",
       "      <td>1.0</td>\n",
       "      <td>17.14</td>\n",
       "      <td>4.61</td>\n",
       "      <td>0.101</td>\n",
       "      <td>0.600</td>\n",
       "      <td>0.298</td>\n",
       "    </tr>\n",
       "    <tr>\n",
       "      <th>6</th>\n",
       "      <td>Anguilla</td>\n",
       "      <td>LATIN AMER. &amp; CARIB</td>\n",
       "      <td>13477</td>\n",
       "      <td>102</td>\n",
       "      <td>132.1</td>\n",
       "      <td>59.80</td>\n",
       "      <td>10.76</td>\n",
       "      <td>21.03</td>\n",
       "      <td>8600.0</td>\n",
       "      <td>95.0</td>\n",
       "      <td>460.0</td>\n",
       "      <td>0.00</td>\n",
       "      <td>0.00</td>\n",
       "      <td>100.00</td>\n",
       "      <td>2.0</td>\n",
       "      <td>14.17</td>\n",
       "      <td>5.34</td>\n",
       "      <td>0.040</td>\n",
       "      <td>0.180</td>\n",
       "      <td>0.780</td>\n",
       "    </tr>\n",
       "    <tr>\n",
       "      <th>7</th>\n",
       "      <td>Antigua &amp; Barbuda</td>\n",
       "      <td>LATIN AMER. &amp; CARIB</td>\n",
       "      <td>69108</td>\n",
       "      <td>443</td>\n",
       "      <td>156.0</td>\n",
       "      <td>34.54</td>\n",
       "      <td>-6.15</td>\n",
       "      <td>19.46</td>\n",
       "      <td>11000.0</td>\n",
       "      <td>89.0</td>\n",
       "      <td>549.9</td>\n",
       "      <td>18.18</td>\n",
       "      <td>4.55</td>\n",
       "      <td>77.27</td>\n",
       "      <td>2.0</td>\n",
       "      <td>16.93</td>\n",
       "      <td>5.37</td>\n",
       "      <td>0.038</td>\n",
       "      <td>0.220</td>\n",
       "      <td>0.743</td>\n",
       "    </tr>\n",
       "  </tbody>\n",
       "</table>\n",
       "</div>"
      ],
      "text/plain": [
       "             COUNTRY                               Region  Population  \\\n",
       "0        Afghanistan        ASIA (EX. NEAR EAST)             31056997   \n",
       "1            Albania  EASTERN EUROPE                          3581655   \n",
       "2            Algeria  NORTHERN AFRICA                        32930091   \n",
       "6           Anguilla              LATIN AMER. & CARIB           13477   \n",
       "7  Antigua & Barbuda              LATIN AMER. & CARIB           69108   \n",
       "\n",
       "   Area_sqmi  Pop_Density  Coastline_area_ratio  Net_migration  \\\n",
       "0     647500         48.0                  0.00          23.06   \n",
       "1      28748        124.6                  1.26          -4.93   \n",
       "2    2381740         13.8                  0.04          -0.39   \n",
       "6        102        132.1                 59.80          10.76   \n",
       "7        443        156.0                 34.54          -6.15   \n",
       "\n",
       "   InfantMortality_per1000  GDP_percapita  Literacy_percent  Phones_per_1000  \\\n",
       "0                   163.07          700.0              36.0              3.2   \n",
       "1                    21.52         4500.0              86.5             71.2   \n",
       "2                    31.00         6000.0              70.0             78.1   \n",
       "6                    21.03         8600.0              95.0            460.0   \n",
       "7                    19.46        11000.0              89.0            549.9   \n",
       "\n",
       "   Arable  Crops   Other  Climate  Birthrate  Deathrate  Agriculture  \\\n",
       "0   12.13   0.22   87.65      1.0      46.60      20.34        0.380   \n",
       "1   21.09   4.42   74.49      3.0      15.11       5.22        0.232   \n",
       "2    3.22   0.25   96.53      1.0      17.14       4.61        0.101   \n",
       "6    0.00   0.00  100.00      2.0      14.17       5.34        0.040   \n",
       "7   18.18   4.55   77.27      2.0      16.93       5.37        0.038   \n",
       "\n",
       "   Industry  Service  \n",
       "0     0.240    0.380  \n",
       "1     0.188    0.579  \n",
       "2     0.600    0.298  \n",
       "6     0.180    0.780  \n",
       "7     0.220    0.743  "
      ]
     },
     "execution_count": 23,
     "metadata": {},
     "output_type": "execute_result"
    }
   ],
   "source": [
    "countries.head()"
   ]
  },
  {
   "cell_type": "markdown",
   "metadata": {},
   "source": [
    "### (a) Create a function region_to_binary which transforms the Region column to a binary value based on whether the region is in Asia or not."
   ]
  },
  {
   "cell_type": "code",
   "execution_count": 31,
   "metadata": {},
   "outputs": [
    {
     "data": {
      "text/html": [
       "<div>\n",
       "<style scoped>\n",
       "    .dataframe tbody tr th:only-of-type {\n",
       "        vertical-align: middle;\n",
       "    }\n",
       "\n",
       "    .dataframe tbody tr th {\n",
       "        vertical-align: top;\n",
       "    }\n",
       "\n",
       "    .dataframe thead th {\n",
       "        text-align: right;\n",
       "    }\n",
       "</style>\n",
       "<table border=\"1\" class=\"dataframe\">\n",
       "  <thead>\n",
       "    <tr style=\"text-align: right;\">\n",
       "      <th></th>\n",
       "      <th>Region</th>\n",
       "      <th>Population</th>\n",
       "      <th>Area_sqmi</th>\n",
       "      <th>Pop_Density</th>\n",
       "      <th>Coastline_area_ratio</th>\n",
       "      <th>Net_migration</th>\n",
       "      <th>InfantMortality_per1000</th>\n",
       "      <th>GDP_percapita</th>\n",
       "      <th>Literacy_percent</th>\n",
       "      <th>Phones_per_1000</th>\n",
       "      <th>Arable</th>\n",
       "      <th>Crops</th>\n",
       "      <th>Other</th>\n",
       "      <th>Climate</th>\n",
       "      <th>Birthrate</th>\n",
       "      <th>Deathrate</th>\n",
       "      <th>Agriculture</th>\n",
       "      <th>Industry</th>\n",
       "      <th>Service</th>\n",
       "    </tr>\n",
       "  </thead>\n",
       "  <tbody>\n",
       "    <tr>\n",
       "      <th>0</th>\n",
       "      <td>1</td>\n",
       "      <td>31056997</td>\n",
       "      <td>647500</td>\n",
       "      <td>48.0</td>\n",
       "      <td>0.00</td>\n",
       "      <td>23.06</td>\n",
       "      <td>163.07</td>\n",
       "      <td>700.0</td>\n",
       "      <td>36.0</td>\n",
       "      <td>3.2</td>\n",
       "      <td>12.13</td>\n",
       "      <td>0.22</td>\n",
       "      <td>87.65</td>\n",
       "      <td>1.0</td>\n",
       "      <td>46.60</td>\n",
       "      <td>20.34</td>\n",
       "      <td>0.380</td>\n",
       "      <td>0.240</td>\n",
       "      <td>0.380</td>\n",
       "    </tr>\n",
       "    <tr>\n",
       "      <th>1</th>\n",
       "      <td>0</td>\n",
       "      <td>3581655</td>\n",
       "      <td>28748</td>\n",
       "      <td>124.6</td>\n",
       "      <td>1.26</td>\n",
       "      <td>-4.93</td>\n",
       "      <td>21.52</td>\n",
       "      <td>4500.0</td>\n",
       "      <td>86.5</td>\n",
       "      <td>71.2</td>\n",
       "      <td>21.09</td>\n",
       "      <td>4.42</td>\n",
       "      <td>74.49</td>\n",
       "      <td>3.0</td>\n",
       "      <td>15.11</td>\n",
       "      <td>5.22</td>\n",
       "      <td>0.232</td>\n",
       "      <td>0.188</td>\n",
       "      <td>0.579</td>\n",
       "    </tr>\n",
       "    <tr>\n",
       "      <th>2</th>\n",
       "      <td>0</td>\n",
       "      <td>32930091</td>\n",
       "      <td>2381740</td>\n",
       "      <td>13.8</td>\n",
       "      <td>0.04</td>\n",
       "      <td>-0.39</td>\n",
       "      <td>31.00</td>\n",
       "      <td>6000.0</td>\n",
       "      <td>70.0</td>\n",
       "      <td>78.1</td>\n",
       "      <td>3.22</td>\n",
       "      <td>0.25</td>\n",
       "      <td>96.53</td>\n",
       "      <td>1.0</td>\n",
       "      <td>17.14</td>\n",
       "      <td>4.61</td>\n",
       "      <td>0.101</td>\n",
       "      <td>0.600</td>\n",
       "      <td>0.298</td>\n",
       "    </tr>\n",
       "    <tr>\n",
       "      <th>6</th>\n",
       "      <td>0</td>\n",
       "      <td>13477</td>\n",
       "      <td>102</td>\n",
       "      <td>132.1</td>\n",
       "      <td>59.80</td>\n",
       "      <td>10.76</td>\n",
       "      <td>21.03</td>\n",
       "      <td>8600.0</td>\n",
       "      <td>95.0</td>\n",
       "      <td>460.0</td>\n",
       "      <td>0.00</td>\n",
       "      <td>0.00</td>\n",
       "      <td>100.00</td>\n",
       "      <td>2.0</td>\n",
       "      <td>14.17</td>\n",
       "      <td>5.34</td>\n",
       "      <td>0.040</td>\n",
       "      <td>0.180</td>\n",
       "      <td>0.780</td>\n",
       "    </tr>\n",
       "    <tr>\n",
       "      <th>7</th>\n",
       "      <td>0</td>\n",
       "      <td>69108</td>\n",
       "      <td>443</td>\n",
       "      <td>156.0</td>\n",
       "      <td>34.54</td>\n",
       "      <td>-6.15</td>\n",
       "      <td>19.46</td>\n",
       "      <td>11000.0</td>\n",
       "      <td>89.0</td>\n",
       "      <td>549.9</td>\n",
       "      <td>18.18</td>\n",
       "      <td>4.55</td>\n",
       "      <td>77.27</td>\n",
       "      <td>2.0</td>\n",
       "      <td>16.93</td>\n",
       "      <td>5.37</td>\n",
       "      <td>0.038</td>\n",
       "      <td>0.220</td>\n",
       "      <td>0.743</td>\n",
       "    </tr>\n",
       "  </tbody>\n",
       "</table>\n",
       "</div>"
      ],
      "text/plain": [
       "   Region  Population  Area_sqmi  Pop_Density  Coastline_area_ratio  \\\n",
       "0       1    31056997     647500         48.0                  0.00   \n",
       "1       0     3581655      28748        124.6                  1.26   \n",
       "2       0    32930091    2381740         13.8                  0.04   \n",
       "6       0       13477        102        132.1                 59.80   \n",
       "7       0       69108        443        156.0                 34.54   \n",
       "\n",
       "   Net_migration  InfantMortality_per1000  GDP_percapita  Literacy_percent  \\\n",
       "0          23.06                   163.07          700.0              36.0   \n",
       "1          -4.93                    21.52         4500.0              86.5   \n",
       "2          -0.39                    31.00         6000.0              70.0   \n",
       "6          10.76                    21.03         8600.0              95.0   \n",
       "7          -6.15                    19.46        11000.0              89.0   \n",
       "\n",
       "   Phones_per_1000  Arable  Crops   Other  Climate  Birthrate  Deathrate  \\\n",
       "0              3.2   12.13   0.22   87.65      1.0      46.60      20.34   \n",
       "1             71.2   21.09   4.42   74.49      3.0      15.11       5.22   \n",
       "2             78.1    3.22   0.25   96.53      1.0      17.14       4.61   \n",
       "6            460.0    0.00   0.00  100.00      2.0      14.17       5.34   \n",
       "7            549.9   18.18   4.55   77.27      2.0      16.93       5.37   \n",
       "\n",
       "   Agriculture  Industry  Service  \n",
       "0        0.380     0.240    0.380  \n",
       "1        0.232     0.188    0.579  \n",
       "2        0.101     0.600    0.298  \n",
       "6        0.040     0.180    0.780  \n",
       "7        0.038     0.220    0.743  "
      ]
     },
     "execution_count": 31,
     "metadata": {},
     "output_type": "execute_result"
    }
   ],
   "source": [
    "def region_to_binary(row):\n",
    "    # implement this function\n",
    "    if(len(re.findall(r\"ASIA\",row[\"Region\"]))):\n",
    "        row[\"Region\"] = 1\n",
    "    else:\n",
    "        row[\"Region\"] = 0\n",
    "    return row\n",
    "\n",
    "binary_countries = countries.apply(region_to_binary, axis=1)\n",
    "binary_countries.drop(columns=['COUNTRY'], axis=1, inplace=True)\n",
    "binary_countries.dropna(inplace=True)\n",
    "binary_countries.head()"
   ]
  },
  {
   "cell_type": "markdown",
   "metadata": {},
   "source": [
    "### (b) Split features into feature and target. In this case, target is the Region column. Afterwards, split the data into training and test set (let test_size=0.2)."
   ]
  },
  {
   "cell_type": "code",
   "execution_count": 34,
   "metadata": {},
   "outputs": [],
   "source": [
    "# write code here\n",
    "X_train, X_test, y_train, y_test = train_test_split(binary_countries.iloc[:,1:], binary_countries.iloc[:,0] , test_size=0.2, random_state=42)"
   ]
  },
  {
   "cell_type": "markdown",
   "metadata": {},
   "source": [
    "### (c) Implement a logistic regression model and train it on the training data"
   ]
  },
  {
   "cell_type": "code",
   "execution_count": 38,
   "metadata": {},
   "outputs": [
    {
     "name": "stderr",
     "output_type": "stream",
     "text": [
      "/usr/local/Anaconda3-5.0.0-Linux-x86_64/envs/ADS/lib/python3.5/site-packages/sklearn/linear_model/logistic.py:432: FutureWarning: Default solver will be changed to 'lbfgs' in 0.22. Specify a solver to silence this warning.\n",
      "  FutureWarning)\n"
     ]
    },
    {
     "data": {
      "text/plain": [
       "LogisticRegression(C=1.0, class_weight=None, dual=False, fit_intercept=True,\n",
       "          intercept_scaling=1, max_iter=100, multi_class='warn',\n",
       "          n_jobs=None, penalty='l2', random_state=None, solver='warn',\n",
       "          tol=0.0001, verbose=0, warm_start=False)"
      ]
     },
     "execution_count": 38,
     "metadata": {},
     "output_type": "execute_result"
    }
   ],
   "source": [
    "# write code here\n",
    "lg = LogisticRegression()\n",
    "lg.fit(X_train,y_train)"
   ]
  },
  {
   "cell_type": "markdown",
   "metadata": {},
   "source": [
    "### (d) Construct the confusion matrix and report the logistic regression model's accuracy, precision, and recall on the test data "
   ]
  },
  {
   "cell_type": "code",
   "execution_count": 39,
   "metadata": {},
   "outputs": [
    {
     "name": "stdout",
     "output_type": "stream",
     "text": [
      "Confusion Matrix:\n",
      "                  Predicted Negative  Predicted Positive\n",
      "Actual Negative                  31                   2\n",
      "Actual Positive                   1                   2\n"
     ]
    }
   ],
   "source": [
    "# write code here\n",
    "print_confusion_matrix(lg.predict(X_test),y_test)"
   ]
  },
  {
   "cell_type": "code",
   "execution_count": 40,
   "metadata": {},
   "outputs": [
    {
     "name": "stdout",
     "output_type": "stream",
     "text": [
      "Precision = 66.67%\n",
      "Accuracy = 91.67%\n",
      "Recall = 50.00%\n"
     ]
    }
   ],
   "source": [
    "labelPred = lg.predict(X_test)\n",
    "labelActual = y_test\n",
    "TP = sum((labelPred==1)&(labelActual==1))\n",
    "FP = sum((labelPred==1)&(labelActual==0))\n",
    "FN = sum((labelPred==0)&(labelActual==1))\n",
    "TN = sum((labelPred==0)&(labelActual==0))\n",
    "\n",
    "#compute precision, accuracy and recall\n",
    "Acc = 100.0 * (TP+TN)/(TP+TN+FP+FN)\n",
    "Rec = 100.0 * TP/(TP+FN)\n",
    "Prec= 100.0 * TP/(TP+FP)\n",
    "print('Precision = %.2f%%\\nAccuracy = %.2f%%\\nRecall = %.2f%%'%(Prec,Acc,Rec))"
   ]
  },
  {
   "cell_type": "markdown",
   "metadata": {},
   "source": [
    "### (e) Plot the predictions from the logistic regression model on the world map to show how accurate you were in predicting the correct regions."
   ]
  },
  {
   "cell_type": "code",
   "execution_count": null,
   "metadata": {},
   "outputs": [],
   "source": [
    "# write code here\n",
    "countries['y_pred'] = lg.predict(binary_countries.iloc[:,1:])\n",
    "countries = countries.merge(world,on=\"COUNTRY\",how=\"left\")\n",
    "countries.dropna(inplace=True)\n",
    "countries = gpd.GeoDataFrame(countries)\n",
    "countries.crs = from_epsg(4326)"
   ]
  },
  {
   "cell_type": "code",
   "execution_count": 49,
   "metadata": {},
   "outputs": [
    {
     "data": {
      "text/plain": [
       "<matplotlib.axes._subplots.AxesSubplot at 0x7ff4dfedb978>"
      ]
     },
     "execution_count": 49,
     "metadata": {},
     "output_type": "execute_result"
    },
    {
     "data": {
      "image/png": "[encoded data removed]",
      "text/plain": [
       "<matplotlib.figure.Figure at 0x7ff4cd7a7c88>"
      ]
     },
     "metadata": {
      "needs_background": "light"
     },
     "output_type": "display_data"
    }
   ],
   "source": [
    "f,ax = plt.subplots(figsize=(10,5))\n",
    "countries.plot(column=\"y_pred\",ax=ax)"
   ]
  },
  {
   "cell_type": "markdown",
   "metadata": {},
   "source": [
    "### (f) Implement a support vector classifier and train it on the training data"
   ]
  },
  {
   "cell_type": "code",
   "execution_count": 53,
   "metadata": {},
   "outputs": [
    {
     "name": "stderr",
     "output_type": "stream",
     "text": [
      "/usr/local/Anaconda3-5.0.0-Linux-x86_64/envs/ADS/lib/python3.5/site-packages/sklearn/svm/base.py:196: FutureWarning: The default value of gamma will change from 'auto' to 'scale' in version 0.22 to account better for unscaled features. Set gamma explicitly to 'auto' or 'scale' to avoid this warning.\n",
      "  \"avoid this warning.\", FutureWarning)\n"
     ]
    },
    {
     "data": {
      "text/plain": [
       "SVC(C=1.0, cache_size=200, class_weight=None, coef0=0.0,\n",
       "  decision_function_shape='ovr', degree=3, gamma='auto_deprecated',\n",
       "  kernel='rbf', max_iter=-1, probability=False, random_state=None,\n",
       "  shrinking=True, tol=0.001, verbose=False)"
      ]
     },
     "execution_count": 53,
     "metadata": {},
     "output_type": "execute_result"
    }
   ],
   "source": [
    "# write code here\n",
    "X_train, X_test, y_train, y_test = train_test_split(binary_countries.iloc[:,1:], binary_countries.iloc[:,0] , test_size=0.2, random_state=0)\n",
    "svc = SVC()\n",
    "svc.fit(X_train,y_train)"
   ]
  },
  {
   "cell_type": "markdown",
   "metadata": {},
   "source": [
    "### (g) Construct the confusion matrix and report the SVC's accuracy, precision, and recall on the test data"
   ]
  },
  {
   "cell_type": "code",
   "execution_count": 54,
   "metadata": {},
   "outputs": [
    {
     "name": "stdout",
     "output_type": "stream",
     "text": [
      "Confusion Matrix:\n",
      "                  Predicted Negative  Predicted Positive\n",
      "Actual Negative                  32                   4\n",
      "Actual Positive                   0                   0\n"
     ]
    }
   ],
   "source": [
    "# write code here\n",
    "print_confusion_matrix(svc.predict(X_test),y_test)"
   ]
  },
  {
   "cell_type": "code",
   "execution_count": 57,
   "metadata": {},
   "outputs": [
    {
     "name": "stdout",
     "output_type": "stream",
     "text": [
      "Precision = NA\n",
      "Accuracy = 88.89%\n",
      "Recall = 0.00%\n"
     ]
    }
   ],
   "source": [
    "labelPred = svc.predict(X_test)\n",
    "labelActual = y_test\n",
    "TP = sum((labelPred==1)&(labelActual==1))\n",
    "FP = sum((labelPred==1)&(labelActual==0))\n",
    "FN = sum((labelPred==0)&(labelActual==1))\n",
    "TN = sum((labelPred==0)&(labelActual==0))\n",
    "\n",
    "#compute precision, accuracy and recall\n",
    "Acc = 100.0 * (TP+TN)/(TP+TN+FP+FN)\n",
    "Rec = 100.0 * TP/(TP+FN)\n",
    "#Prec= 100.0 * TP/(TP+FP)\n",
    "print('Precision = NA\\nAccuracy = %.2f%%\\nRecall = %.2f%%'%(Acc,Rec))"
   ]
  },
  {
   "cell_type": "markdown",
   "metadata": {},
   "source": [
    "### (h) Plot the predictions from the support vector classifier on the world map to show how accurate you were in predicting the correct regions."
   ]
  },
  {
   "cell_type": "code",
   "execution_count": 58,
   "metadata": {},
   "outputs": [],
   "source": [
    "# write code here\n",
    "countries = pd.read_csv('countries.csv')\n",
    "countries['COUNTRY'] = countries['COUNTRY'].str.strip()\n",
    "countries = countries.dropna()\n",
    "\n",
    "countries['y_pred'] = svc.predict(binary_countries.iloc[:,1:])\n",
    "countries = countries.merge(world,on=\"COUNTRY\",how=\"left\")\n",
    "countries.dropna(inplace=True)\n",
    "countries = gpd.GeoDataFrame(countries)\n",
    "countries.crs = from_epsg(4326)"
   ]
  },
  {
   "cell_type": "code",
   "execution_count": 59,
   "metadata": {},
   "outputs": [
    {
     "data": {
      "text/plain": [
       "<matplotlib.axes._subplots.AxesSubplot at 0x7ff4cef846d8>"
      ]
     },
     "execution_count": 59,
     "metadata": {},
     "output_type": "execute_result"
    },
    {
     "data": {
      "image/png": "[encoded data removed]",
      "text/plain": [
       "<matplotlib.figure.Figure at 0x7ff4cef5a6d8>"
      ]
     },
     "metadata": {
      "needs_background": "light"
     },
     "output_type": "display_data"
    }
   ],
   "source": [
    "f,ax = plt.subplots(figsize=(10,5))\n",
    "countries.plot(column=\"y_pred\",ax=ax)"
   ]
  },
  {
   "cell_type": "code",
   "execution_count": null,
   "metadata": {},
   "outputs": [],
   "source": []
  }
 ],
 "metadata": {
  "kernelspec": {
   "display_name": "ADS",
   "language": "python",
   "name": "ads"
  },
  "language_info": {
   "codemirror_mode": {
    "name": "ipython",
    "version": 3
   },
   "file_extension": ".py",
   "mimetype": "text/x-python",
   "name": "python",
   "nbconvert_exporter": "python",
   "pygments_lexer": "ipython3",
   "version": "3.5.0"
  }
 },
 "nbformat": 4,
 "nbformat_minor": 2
}
