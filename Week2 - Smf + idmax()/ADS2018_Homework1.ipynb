{
 "cells": [
  {
   "cell_type": "code",
   "execution_count": 1,
   "metadata": {},
   "outputs": [],
   "source": [
    "import pandas as pd\n",
    "import numpy as np\n",
    "import statsmodels.formula.api as smf\n",
    "import matplotlib.pylab as plt\n",
    "import math\n",
    "\n",
    "pd.options.mode.chained_assignment = None\n",
    "%matplotlib inline"
   ]
  },
  {
   "cell_type": "markdown",
   "metadata": {},
   "source": [
    "## Real estate prices in NYC"
   ]
  },
  {
   "cell_type": "markdown",
   "metadata": {},
   "source": [
    "All real estate sales accross NYC could be found on\n",
    "\n",
    "https://www1.nyc.gov/site/finance/taxes/property-rolling-sales-data.page\n",
    "\n",
    "Consider data for Staten Island and ask a question: \n",
    "### **which characteristic of the house would be the best predictor for its price?**"
   ]
  },
  {
   "cell_type": "code",
   "execution_count": 2,
   "metadata": {},
   "outputs": [],
   "source": [
    "REStaten=pd.read_csv('data/rollingsales_statenisland.csv')"
   ]
  },
  {
   "cell_type": "code",
   "execution_count": 3,
   "metadata": {},
   "outputs": [
    {
     "data": {
      "text/html": [
       "<div>\n",
       "<table border=\"1\" class=\"dataframe\">\n",
       "  <thead>\n",
       "    <tr style=\"text-align: right;\">\n",
       "      <th></th>\n",
       "      <th>BOROUGH</th>\n",
       "      <th>NEIGHBORHOOD</th>\n",
       "      <th>BUILDING_CLASS_CATEGORY</th>\n",
       "      <th>TAX_CLASS_AT_PRESENT</th>\n",
       "      <th>BLOCK</th>\n",
       "      <th>LOT</th>\n",
       "      <th>EASE-MENT</th>\n",
       "      <th>BUILDING_CLASS_AT_PRESENT</th>\n",
       "      <th>ADDRESS</th>\n",
       "      <th>APARTMENT_NUMBER</th>\n",
       "      <th>...</th>\n",
       "      <th>RESIDENTIAL_UNITS</th>\n",
       "      <th>COMMERCIAL_UNITS</th>\n",
       "      <th>TOTAL_UNITS</th>\n",
       "      <th>LAND_SQUARE_FEET</th>\n",
       "      <th>GROSS_SQUARE_FEET</th>\n",
       "      <th>YEAR_BUILT</th>\n",
       "      <th>TAX_CLASS_AT_TIME_OF_SALE</th>\n",
       "      <th>BUILDING_CLASS_AT_TIME_OF_SALE</th>\n",
       "      <th>SALE_PRICE</th>\n",
       "      <th>SALE_DATE</th>\n",
       "    </tr>\n",
       "  </thead>\n",
       "  <tbody>\n",
       "    <tr>\n",
       "      <th>0</th>\n",
       "      <td>5</td>\n",
       "      <td>ANNADALE</td>\n",
       "      <td>01 ONE FAMILY DWELLINGS</td>\n",
       "      <td>1</td>\n",
       "      <td>5391</td>\n",
       "      <td>65</td>\n",
       "      <td></td>\n",
       "      <td>A3</td>\n",
       "      <td>22 BLUE HERON DRIVE</td>\n",
       "      <td></td>\n",
       "      <td>...</td>\n",
       "      <td>1</td>\n",
       "      <td>0</td>\n",
       "      <td>1</td>\n",
       "      <td>8000</td>\n",
       "      <td>3000</td>\n",
       "      <td>1987</td>\n",
       "      <td>1</td>\n",
       "      <td>A3</td>\n",
       "      <td>1185000</td>\n",
       "      <td>3/19/18</td>\n",
       "    </tr>\n",
       "    <tr>\n",
       "      <th>1</th>\n",
       "      <td>5</td>\n",
       "      <td>ANNADALE</td>\n",
       "      <td>01 ONE FAMILY DWELLINGS</td>\n",
       "      <td>1</td>\n",
       "      <td>5395</td>\n",
       "      <td>19</td>\n",
       "      <td></td>\n",
       "      <td>A1</td>\n",
       "      <td>4 EDWIN STREET</td>\n",
       "      <td></td>\n",
       "      <td>...</td>\n",
       "      <td>1</td>\n",
       "      <td>0</td>\n",
       "      <td>1</td>\n",
       "      <td>7258</td>\n",
       "      <td>2230</td>\n",
       "      <td>1980</td>\n",
       "      <td>1</td>\n",
       "      <td>A1</td>\n",
       "      <td>866000</td>\n",
       "      <td>8/3/17</td>\n",
       "    </tr>\n",
       "    <tr>\n",
       "      <th>2</th>\n",
       "      <td>5</td>\n",
       "      <td>ANNADALE</td>\n",
       "      <td>01 ONE FAMILY DWELLINGS</td>\n",
       "      <td>1</td>\n",
       "      <td>5406</td>\n",
       "      <td>26</td>\n",
       "      <td></td>\n",
       "      <td>A2</td>\n",
       "      <td>87 ELMBANK STREET</td>\n",
       "      <td></td>\n",
       "      <td>...</td>\n",
       "      <td>1</td>\n",
       "      <td>0</td>\n",
       "      <td>1</td>\n",
       "      <td>5000</td>\n",
       "      <td>912</td>\n",
       "      <td>1950</td>\n",
       "      <td>1</td>\n",
       "      <td>A2</td>\n",
       "      <td>530000</td>\n",
       "      <td>4/27/18</td>\n",
       "    </tr>\n",
       "    <tr>\n",
       "      <th>3</th>\n",
       "      <td>5</td>\n",
       "      <td>ANNADALE</td>\n",
       "      <td>01 ONE FAMILY DWELLINGS</td>\n",
       "      <td>1</td>\n",
       "      <td>5407</td>\n",
       "      <td>10</td>\n",
       "      <td></td>\n",
       "      <td>A2</td>\n",
       "      <td>112 ELMBANK STREET</td>\n",
       "      <td></td>\n",
       "      <td>...</td>\n",
       "      <td>1</td>\n",
       "      <td>0</td>\n",
       "      <td>1</td>\n",
       "      <td>6242</td>\n",
       "      <td>1768</td>\n",
       "      <td>1975</td>\n",
       "      <td>1</td>\n",
       "      <td>A2</td>\n",
       "      <td>735000</td>\n",
       "      <td>11/7/17</td>\n",
       "    </tr>\n",
       "    <tr>\n",
       "      <th>4</th>\n",
       "      <td>5</td>\n",
       "      <td>ANNADALE</td>\n",
       "      <td>01 ONE FAMILY DWELLINGS</td>\n",
       "      <td>1</td>\n",
       "      <td>6205</td>\n",
       "      <td>15</td>\n",
       "      <td></td>\n",
       "      <td>A5</td>\n",
       "      <td>95 EAGAN AVENUE</td>\n",
       "      <td></td>\n",
       "      <td>...</td>\n",
       "      <td>1</td>\n",
       "      <td>0</td>\n",
       "      <td>1</td>\n",
       "      <td>1546</td>\n",
       "      <td>1579</td>\n",
       "      <td>1986</td>\n",
       "      <td>1</td>\n",
       "      <td>A5</td>\n",
       "      <td>475000</td>\n",
       "      <td>9/7/17</td>\n",
       "    </tr>\n",
       "  </tbody>\n",
       "</table>\n",
       "<p>5 rows × 21 columns</p>\n",
       "</div>"
      ],
      "text/plain": [
       "   BOROUGH NEIGHBORHOOD                      BUILDING_CLASS_CATEGORY  \\\n",
       "0        5     ANNADALE  01 ONE FAMILY DWELLINGS                       \n",
       "1        5     ANNADALE  01 ONE FAMILY DWELLINGS                       \n",
       "2        5     ANNADALE  01 ONE FAMILY DWELLINGS                       \n",
       "3        5     ANNADALE  01 ONE FAMILY DWELLINGS                       \n",
       "4        5     ANNADALE  01 ONE FAMILY DWELLINGS                       \n",
       "\n",
       "  TAX_CLASS_AT_PRESENT  BLOCK  LOT EASE-MENT BUILDING_CLASS_AT_PRESENT  \\\n",
       "0                    1   5391   65                                  A3   \n",
       "1                    1   5395   19                                  A1   \n",
       "2                    1   5406   26                                  A2   \n",
       "3                    1   5407   10                                  A2   \n",
       "4                    1   6205   15                                  A5   \n",
       "\n",
       "                 ADDRESS APARTMENT_NUMBER    ...      RESIDENTIAL_UNITS  \\\n",
       "0   22 BLUE HERON DRIVE                      ...                      1   \n",
       "1        4 EDWIN STREET                      ...                      1   \n",
       "2     87 ELMBANK STREET                      ...                      1   \n",
       "3    112 ELMBANK STREET                      ...                      1   \n",
       "4       95 EAGAN AVENUE                      ...                      1   \n",
       "\n",
       "   COMMERCIAL_UNITS  TOTAL_UNITS  LAND_SQUARE_FEET  GROSS_SQUARE_FEET  \\\n",
       "0                 0            1              8000               3000   \n",
       "1                 0            1              7258               2230   \n",
       "2                 0            1              5000                912   \n",
       "3                 0            1              6242               1768   \n",
       "4                 0            1              1546               1579   \n",
       "\n",
       "   YEAR_BUILT  TAX_CLASS_AT_TIME_OF_SALE  BUILDING_CLASS_AT_TIME_OF_SALE  \\\n",
       "0        1987                          1                             A3    \n",
       "1        1980                          1                             A1    \n",
       "2        1950                          1                             A2    \n",
       "3        1975                          1                             A2    \n",
       "4        1986                          1                             A5    \n",
       "\n",
       "  SALE_PRICE  SALE_DATE  \n",
       "0    1185000    3/19/18  \n",
       "1     866000     8/3/17  \n",
       "2     530000    4/27/18  \n",
       "3     735000    11/7/17  \n",
       "4     475000     9/7/17  \n",
       "\n",
       "[5 rows x 21 columns]"
      ]
     },
     "execution_count": 3,
     "metadata": {},
     "output_type": "execute_result"
    }
   ],
   "source": [
    "REStaten.head()"
   ]
  },
  {
   "cell_type": "code",
   "execution_count": 4,
   "metadata": {},
   "outputs": [
    {
     "data": {
      "text/plain": [
       "Index([u'BOROUGH', u'NEIGHBORHOOD', u'BUILDING_CLASS_CATEGORY',\n",
       "       u'TAX_CLASS_AT_PRESENT', u'BLOCK', u'LOT', u'EASE-MENT',\n",
       "       u'BUILDING_CLASS_AT_PRESENT', u'ADDRESS', u'APARTMENT_NUMBER',\n",
       "       u'ZIP_CODE', u'RESIDENTIAL_UNITS', u'COMMERCIAL_UNITS', u'TOTAL_UNITS',\n",
       "       u'LAND_SQUARE_FEET', u'GROSS_SQUARE_FEET', u'YEAR_BUILT',\n",
       "       u'TAX_CLASS_AT_TIME_OF_SALE', u'BUILDING_CLASS_AT_TIME_OF_SALE',\n",
       "       u'SALE_PRICE', u'SALE_DATE'],\n",
       "      dtype='object')"
      ]
     },
     "execution_count": 4,
     "metadata": {},
     "output_type": "execute_result"
    }
   ],
   "source": [
    "REStaten.columns"
   ]
  },
  {
   "cell_type": "code",
   "execution_count": 5,
   "metadata": {},
   "outputs": [
    {
     "data": {
      "text/html": [
       "<div>\n",
       "<table border=\"1\" class=\"dataframe\">\n",
       "  <thead>\n",
       "    <tr style=\"text-align: right;\">\n",
       "      <th></th>\n",
       "      <th>BOROUGH</th>\n",
       "      <th>BLOCK</th>\n",
       "      <th>LOT</th>\n",
       "      <th>ZIP_CODE</th>\n",
       "      <th>RESIDENTIAL_UNITS</th>\n",
       "      <th>COMMERCIAL_UNITS</th>\n",
       "      <th>TOTAL_UNITS</th>\n",
       "      <th>LAND_SQUARE_FEET</th>\n",
       "      <th>GROSS_SQUARE_FEET</th>\n",
       "      <th>YEAR_BUILT</th>\n",
       "      <th>TAX_CLASS_AT_TIME_OF_SALE</th>\n",
       "      <th>SALE_PRICE</th>\n",
       "    </tr>\n",
       "  </thead>\n",
       "  <tbody>\n",
       "    <tr>\n",
       "      <th>count</th>\n",
       "      <td>8706.0</td>\n",
       "      <td>8706.000000</td>\n",
       "      <td>8706.000000</td>\n",
       "      <td>8706.000000</td>\n",
       "      <td>8706.000000</td>\n",
       "      <td>8706.000000</td>\n",
       "      <td>8706.000000</td>\n",
       "      <td>8.706000e+03</td>\n",
       "      <td>8706.000000</td>\n",
       "      <td>8706.000000</td>\n",
       "      <td>8706.000000</td>\n",
       "      <td>8.706000e+03</td>\n",
       "    </tr>\n",
       "    <tr>\n",
       "      <th>mean</th>\n",
       "      <td>5.0</td>\n",
       "      <td>3319.292212</td>\n",
       "      <td>208.871468</td>\n",
       "      <td>10132.832989</td>\n",
       "      <td>1.257179</td>\n",
       "      <td>0.062486</td>\n",
       "      <td>1.324144</td>\n",
       "      <td>5.016016e+03</td>\n",
       "      <td>1689.650930</td>\n",
       "      <td>1884.641282</td>\n",
       "      <td>1.171721</td>\n",
       "      <td>3.918813e+05</td>\n",
       "    </tr>\n",
       "    <tr>\n",
       "      <th>std</th>\n",
       "      <td>0.0</td>\n",
       "      <td>2344.202564</td>\n",
       "      <td>453.187678</td>\n",
       "      <td>1332.608872</td>\n",
       "      <td>1.579128</td>\n",
       "      <td>0.722336</td>\n",
       "      <td>1.718008</td>\n",
       "      <td>3.779630e+04</td>\n",
       "      <td>5804.911675</td>\n",
       "      <td>400.438263</td>\n",
       "      <td>0.601193</td>\n",
       "      <td>8.260853e+05</td>\n",
       "    </tr>\n",
       "    <tr>\n",
       "      <th>min</th>\n",
       "      <td>5.0</td>\n",
       "      <td>1.000000</td>\n",
       "      <td>1.000000</td>\n",
       "      <td>0.000000</td>\n",
       "      <td>0.000000</td>\n",
       "      <td>0.000000</td>\n",
       "      <td>0.000000</td>\n",
       "      <td>0.000000e+00</td>\n",
       "      <td>0.000000</td>\n",
       "      <td>0.000000</td>\n",
       "      <td>1.000000</td>\n",
       "      <td>0.000000e+00</td>\n",
       "    </tr>\n",
       "    <tr>\n",
       "      <th>25%</th>\n",
       "      <td>5.0</td>\n",
       "      <td>1116.000000</td>\n",
       "      <td>25.000000</td>\n",
       "      <td>10305.000000</td>\n",
       "      <td>1.000000</td>\n",
       "      <td>0.000000</td>\n",
       "      <td>1.000000</td>\n",
       "      <td>2.000000e+03</td>\n",
       "      <td>960.000000</td>\n",
       "      <td>1944.000000</td>\n",
       "      <td>1.000000</td>\n",
       "      <td>0.000000e+00</td>\n",
       "    </tr>\n",
       "    <tr>\n",
       "      <th>50%</th>\n",
       "      <td>5.0</td>\n",
       "      <td>3121.000000</td>\n",
       "      <td>56.000000</td>\n",
       "      <td>10308.000000</td>\n",
       "      <td>1.000000</td>\n",
       "      <td>0.000000</td>\n",
       "      <td>1.000000</td>\n",
       "      <td>3.125000e+03</td>\n",
       "      <td>1400.000000</td>\n",
       "      <td>1975.000000</td>\n",
       "      <td>1.000000</td>\n",
       "      <td>3.858250e+05</td>\n",
       "    </tr>\n",
       "    <tr>\n",
       "      <th>75%</th>\n",
       "      <td>5.0</td>\n",
       "      <td>5432.000000</td>\n",
       "      <td>135.000000</td>\n",
       "      <td>10312.000000</td>\n",
       "      <td>2.000000</td>\n",
       "      <td>0.000000</td>\n",
       "      <td>2.000000</td>\n",
       "      <td>4.520000e+03</td>\n",
       "      <td>1974.000000</td>\n",
       "      <td>1990.000000</td>\n",
       "      <td>1.000000</td>\n",
       "      <td>5.800000e+05</td>\n",
       "    </tr>\n",
       "    <tr>\n",
       "      <th>max</th>\n",
       "      <td>5.0</td>\n",
       "      <td>8050.000000</td>\n",
       "      <td>5359.000000</td>\n",
       "      <td>10314.000000</td>\n",
       "      <td>84.000000</td>\n",
       "      <td>43.000000</td>\n",
       "      <td>84.000000</td>\n",
       "      <td>3.014056e+06</td>\n",
       "      <td>349503.000000</td>\n",
       "      <td>2018.000000</td>\n",
       "      <td>4.000000</td>\n",
       "      <td>4.725000e+07</td>\n",
       "    </tr>\n",
       "  </tbody>\n",
       "</table>\n",
       "</div>"
      ],
      "text/plain": [
       "       BOROUGH        BLOCK          LOT      ZIP_CODE  RESIDENTIAL_UNITS  \\\n",
       "count   8706.0  8706.000000  8706.000000   8706.000000        8706.000000   \n",
       "mean       5.0  3319.292212   208.871468  10132.832989           1.257179   \n",
       "std        0.0  2344.202564   453.187678   1332.608872           1.579128   \n",
       "min        5.0     1.000000     1.000000      0.000000           0.000000   \n",
       "25%        5.0  1116.000000    25.000000  10305.000000           1.000000   \n",
       "50%        5.0  3121.000000    56.000000  10308.000000           1.000000   \n",
       "75%        5.0  5432.000000   135.000000  10312.000000           2.000000   \n",
       "max        5.0  8050.000000  5359.000000  10314.000000          84.000000   \n",
       "\n",
       "       COMMERCIAL_UNITS  TOTAL_UNITS  LAND_SQUARE_FEET  GROSS_SQUARE_FEET  \\\n",
       "count       8706.000000  8706.000000      8.706000e+03        8706.000000   \n",
       "mean           0.062486     1.324144      5.016016e+03        1689.650930   \n",
       "std            0.722336     1.718008      3.779630e+04        5804.911675   \n",
       "min            0.000000     0.000000      0.000000e+00           0.000000   \n",
       "25%            0.000000     1.000000      2.000000e+03         960.000000   \n",
       "50%            0.000000     1.000000      3.125000e+03        1400.000000   \n",
       "75%            0.000000     2.000000      4.520000e+03        1974.000000   \n",
       "max           43.000000    84.000000      3.014056e+06      349503.000000   \n",
       "\n",
       "        YEAR_BUILT  TAX_CLASS_AT_TIME_OF_SALE    SALE_PRICE  \n",
       "count  8706.000000                8706.000000  8.706000e+03  \n",
       "mean   1884.641282                   1.171721  3.918813e+05  \n",
       "std     400.438263                   0.601193  8.260853e+05  \n",
       "min       0.000000                   1.000000  0.000000e+00  \n",
       "25%    1944.000000                   1.000000  0.000000e+00  \n",
       "50%    1975.000000                   1.000000  3.858250e+05  \n",
       "75%    1990.000000                   1.000000  5.800000e+05  \n",
       "max    2018.000000                   4.000000  4.725000e+07  "
      ]
     },
     "execution_count": 5,
     "metadata": {},
     "output_type": "execute_result"
    }
   ],
   "source": [
    "REStaten.describe()"
   ]
  },
  {
   "cell_type": "code",
   "execution_count": 6,
   "metadata": {},
   "outputs": [
    {
     "data": {
      "text/plain": [
       "0    True\n",
       "1    True\n",
       "2    True\n",
       "3    True\n",
       "4    True\n",
       "dtype: bool"
      ]
     },
     "execution_count": 6,
     "metadata": {},
     "output_type": "execute_result"
    }
   ],
   "source": [
    "#as we see sale price and house size could be as low as zero. Exclude missing/unrealistic values by defining a reliable data index\n",
    "#also take only houses with residential units\n",
    "ind=(REStaten.SALE_PRICE>50000)&(REStaten.GROSS_SQUARE_FEET>300)&(REStaten.LAND_SQUARE_FEET>300)&(REStaten.RESIDENTIAL_UNITS>0)\n",
    "ind.head() #this is how ind would look like - a boolean series"
   ]
  },
  {
   "cell_type": "code",
   "execution_count": 7,
   "metadata": {},
   "outputs": [
    {
     "data": {
      "text/plain": [
       "4866"
      ]
     },
     "execution_count": 7,
     "metadata": {},
     "output_type": "execute_result"
    }
   ],
   "source": [
    "#this is how many records we have left\n",
    "sum(ind)"
   ]
  },
  {
   "cell_type": "code",
   "execution_count": 8,
   "metadata": {},
   "outputs": [],
   "source": [
    "#filter the data; loc accesses rows by boolean index (as opposed to integer positions done with iloc)\n",
    "REStaten_=REStaten.loc[ind]"
   ]
  },
  {
   "cell_type": "code",
   "execution_count": 9,
   "metadata": {},
   "outputs": [],
   "source": [
    "#now find the most expensive house"
   ]
  },
  {
   "cell_type": "code",
   "execution_count": 10,
   "metadata": {},
   "outputs": [
    {
     "data": {
      "text/html": [
       "<div>\n",
       "<table border=\"1\" class=\"dataframe\">\n",
       "  <thead>\n",
       "    <tr style=\"text-align: right;\">\n",
       "      <th></th>\n",
       "      <th>BOROUGH</th>\n",
       "      <th>BLOCK</th>\n",
       "      <th>LOT</th>\n",
       "      <th>ZIP_CODE</th>\n",
       "      <th>RESIDENTIAL_UNITS</th>\n",
       "      <th>COMMERCIAL_UNITS</th>\n",
       "      <th>TOTAL_UNITS</th>\n",
       "      <th>LAND_SQUARE_FEET</th>\n",
       "      <th>GROSS_SQUARE_FEET</th>\n",
       "      <th>YEAR_BUILT</th>\n",
       "      <th>TAX_CLASS_AT_TIME_OF_SALE</th>\n",
       "      <th>SALE_PRICE</th>\n",
       "    </tr>\n",
       "  </thead>\n",
       "  <tbody>\n",
       "    <tr>\n",
       "      <th>count</th>\n",
       "      <td>4866.0</td>\n",
       "      <td>4866.000000</td>\n",
       "      <td>4866.000000</td>\n",
       "      <td>4866.000000</td>\n",
       "      <td>4866.000000</td>\n",
       "      <td>4866.000000</td>\n",
       "      <td>4866.000000</td>\n",
       "      <td>4866.000000</td>\n",
       "      <td>4866.000000</td>\n",
       "      <td>4866.000000</td>\n",
       "      <td>4866.000000</td>\n",
       "      <td>4.866000e+03</td>\n",
       "    </tr>\n",
       "    <tr>\n",
       "      <th>mean</th>\n",
       "      <td>5.0</td>\n",
       "      <td>3462.579326</td>\n",
       "      <td>79.148993</td>\n",
       "      <td>10307.940608</td>\n",
       "      <td>1.342376</td>\n",
       "      <td>0.018085</td>\n",
       "      <td>1.360460</td>\n",
       "      <td>3906.581176</td>\n",
       "      <td>1740.041102</td>\n",
       "      <td>1967.412043</td>\n",
       "      <td>1.020345</td>\n",
       "      <td>5.631876e+05</td>\n",
       "    </tr>\n",
       "    <tr>\n",
       "      <th>std</th>\n",
       "      <td>0.0</td>\n",
       "      <td>2390.676182</td>\n",
       "      <td>92.461180</td>\n",
       "      <td>4.088231</td>\n",
       "      <td>1.128679</td>\n",
       "      <td>0.200927</td>\n",
       "      <td>1.175613</td>\n",
       "      <td>3230.453434</td>\n",
       "      <td>1318.247231</td>\n",
       "      <td>31.816460</td>\n",
       "      <td>0.208250</td>\n",
       "      <td>3.802599e+05</td>\n",
       "    </tr>\n",
       "    <tr>\n",
       "      <th>min</th>\n",
       "      <td>5.0</td>\n",
       "      <td>13.000000</td>\n",
       "      <td>1.000000</td>\n",
       "      <td>10301.000000</td>\n",
       "      <td>1.000000</td>\n",
       "      <td>0.000000</td>\n",
       "      <td>1.000000</td>\n",
       "      <td>315.000000</td>\n",
       "      <td>330.000000</td>\n",
       "      <td>1859.000000</td>\n",
       "      <td>1.000000</td>\n",
       "      <td>5.070000e+04</td>\n",
       "    </tr>\n",
       "    <tr>\n",
       "      <th>25%</th>\n",
       "      <td>5.0</td>\n",
       "      <td>1093.250000</td>\n",
       "      <td>23.000000</td>\n",
       "      <td>10305.000000</td>\n",
       "      <td>1.000000</td>\n",
       "      <td>0.000000</td>\n",
       "      <td>1.000000</td>\n",
       "      <td>2300.000000</td>\n",
       "      <td>1216.000000</td>\n",
       "      <td>1945.000000</td>\n",
       "      <td>1.000000</td>\n",
       "      <td>4.050000e+05</td>\n",
       "    </tr>\n",
       "    <tr>\n",
       "      <th>50%</th>\n",
       "      <td>5.0</td>\n",
       "      <td>3373.500000</td>\n",
       "      <td>49.000000</td>\n",
       "      <td>10308.000000</td>\n",
       "      <td>1.000000</td>\n",
       "      <td>0.000000</td>\n",
       "      <td>1.000000</td>\n",
       "      <td>3325.000000</td>\n",
       "      <td>1512.000000</td>\n",
       "      <td>1975.000000</td>\n",
       "      <td>1.000000</td>\n",
       "      <td>5.335000e+05</td>\n",
       "    </tr>\n",
       "    <tr>\n",
       "      <th>75%</th>\n",
       "      <td>5.0</td>\n",
       "      <td>5523.000000</td>\n",
       "      <td>97.000000</td>\n",
       "      <td>10312.000000</td>\n",
       "      <td>2.000000</td>\n",
       "      <td>0.000000</td>\n",
       "      <td>2.000000</td>\n",
       "      <td>4536.000000</td>\n",
       "      <td>2050.000000</td>\n",
       "      <td>1993.000000</td>\n",
       "      <td>1.000000</td>\n",
       "      <td>6.557782e+05</td>\n",
       "    </tr>\n",
       "    <tr>\n",
       "      <th>max</th>\n",
       "      <td>5.0</td>\n",
       "      <td>8050.000000</td>\n",
       "      <td>926.000000</td>\n",
       "      <td>10314.000000</td>\n",
       "      <td>42.000000</td>\n",
       "      <td>7.000000</td>\n",
       "      <td>43.000000</td>\n",
       "      <td>63624.000000</td>\n",
       "      <td>58792.000000</td>\n",
       "      <td>2017.000000</td>\n",
       "      <td>4.000000</td>\n",
       "      <td>2.000000e+07</td>\n",
       "    </tr>\n",
       "  </tbody>\n",
       "</table>\n",
       "</div>"
      ],
      "text/plain": [
       "       BOROUGH        BLOCK          LOT      ZIP_CODE  RESIDENTIAL_UNITS  \\\n",
       "count   4866.0  4866.000000  4866.000000   4866.000000        4866.000000   \n",
       "mean       5.0  3462.579326    79.148993  10307.940608           1.342376   \n",
       "std        0.0  2390.676182    92.461180      4.088231           1.128679   \n",
       "min        5.0    13.000000     1.000000  10301.000000           1.000000   \n",
       "25%        5.0  1093.250000    23.000000  10305.000000           1.000000   \n",
       "50%        5.0  3373.500000    49.000000  10308.000000           1.000000   \n",
       "75%        5.0  5523.000000    97.000000  10312.000000           2.000000   \n",
       "max        5.0  8050.000000   926.000000  10314.000000          42.000000   \n",
       "\n",
       "       COMMERCIAL_UNITS  TOTAL_UNITS  LAND_SQUARE_FEET  GROSS_SQUARE_FEET  \\\n",
       "count       4866.000000  4866.000000       4866.000000        4866.000000   \n",
       "mean           0.018085     1.360460       3906.581176        1740.041102   \n",
       "std            0.200927     1.175613       3230.453434        1318.247231   \n",
       "min            0.000000     1.000000        315.000000         330.000000   \n",
       "25%            0.000000     1.000000       2300.000000        1216.000000   \n",
       "50%            0.000000     1.000000       3325.000000        1512.000000   \n",
       "75%            0.000000     2.000000       4536.000000        2050.000000   \n",
       "max            7.000000    43.000000      63624.000000       58792.000000   \n",
       "\n",
       "        YEAR_BUILT  TAX_CLASS_AT_TIME_OF_SALE    SALE_PRICE  \n",
       "count  4866.000000                4866.000000  4.866000e+03  \n",
       "mean   1967.412043                   1.020345  5.631876e+05  \n",
       "std      31.816460                   0.208250  3.802599e+05  \n",
       "min    1859.000000                   1.000000  5.070000e+04  \n",
       "25%    1945.000000                   1.000000  4.050000e+05  \n",
       "50%    1975.000000                   1.000000  5.335000e+05  \n",
       "75%    1993.000000                   1.000000  6.557782e+05  \n",
       "max    2017.000000                   4.000000  2.000000e+07  "
      ]
     },
     "execution_count": 10,
     "metadata": {},
     "output_type": "execute_result"
    }
   ],
   "source": [
    "REStaten_.describe()"
   ]
  },
  {
   "cell_type": "markdown",
   "metadata": {},
   "source": [
    "# Excercise 1. Repeat the in-class analysis for duplexes\n",
    "Q1. Create the dataframe, containing only the duplexes (houses with two residential units)"
   ]
  },
  {
   "cell_type": "code",
   "execution_count": 11,
   "metadata": {},
   "outputs": [],
   "source": [
    "sfind2=REStaten_.RESIDENTIAL_UNITS==2\n",
    "REStaten_sf2=REStaten_.loc[sfind2]"
   ]
  },
  {
   "cell_type": "markdown",
   "metadata": {},
   "source": [
    "Q2. What is the most expensive house among duplexes (two residential units)?"
   ]
  },
  {
   "cell_type": "code",
   "execution_count": 12,
   "metadata": {},
   "outputs": [
    {
     "data": {
      "text/plain": [
       "BOROUGH                                                                     5\n",
       "NEIGHBORHOOD                                                      ELTINGVILLE\n",
       "BUILDING_CLASS_CATEGORY           02 TWO FAMILY DWELLINGS                    \n",
       "TAX_CLASS_AT_PRESENT                                                        1\n",
       "BLOCK                                                                    5621\n",
       "LOT                                                                        32\n",
       "EASE-MENT                                                                    \n",
       "BUILDING_CLASS_AT_PRESENT                                                  B9\n",
       "ADDRESS                                                    671 ANNADALE ROAD \n",
       "APARTMENT_NUMBER                                                             \n",
       "ZIP_CODE                                                                10312\n",
       "RESIDENTIAL_UNITS                                                           2\n",
       "COMMERCIAL_UNITS                                                            0\n",
       "TOTAL_UNITS                                                                 2\n",
       "LAND_SQUARE_FEET                                                         5376\n",
       "GROSS_SQUARE_FEET                                                        2050\n",
       "YEAR_BUILT                                                               1955\n",
       "TAX_CLASS_AT_TIME_OF_SALE                                                   1\n",
       "BUILDING_CLASS_AT_TIME_OF_SALE                                            B9 \n",
       "SALE_PRICE                                                            3250000\n",
       "SALE_DATE                                                             6/25/18\n",
       "Name: 1814, dtype: object"
      ]
     },
     "execution_count": 12,
     "metadata": {},
     "output_type": "execute_result"
    }
   ],
   "source": [
    "REStaten_sf2.loc[REStaten_sf2['SALE_PRICE'].idxmax()]"
   ]
  },
  {
   "cell_type": "markdown",
   "metadata": {},
   "source": [
    "Q3. Build correlation matrix for YEAR_BUILT,GROSS_SQUARE_FEET, LAND_SQUARE_FEET, SALE_PRICE for duplexes houses."
   ]
  },
  {
   "cell_type": "code",
   "execution_count": 13,
   "metadata": {},
   "outputs": [
    {
     "data": {
      "text/html": [
       "<div>\n",
       "<table border=\"1\" class=\"dataframe\">\n",
       "  <thead>\n",
       "    <tr style=\"text-align: right;\">\n",
       "      <th></th>\n",
       "      <th>YEAR_BUILT</th>\n",
       "      <th>GROSS_SQUARE_FEET</th>\n",
       "      <th>LAND_SQUARE_FEET</th>\n",
       "      <th>SALE_PRICE</th>\n",
       "    </tr>\n",
       "  </thead>\n",
       "  <tbody>\n",
       "    <tr>\n",
       "      <th>YEAR_BUILT</th>\n",
       "      <td>1.000000</td>\n",
       "      <td>0.101403</td>\n",
       "      <td>-0.109146</td>\n",
       "      <td>0.318634</td>\n",
       "    </tr>\n",
       "    <tr>\n",
       "      <th>GROSS_SQUARE_FEET</th>\n",
       "      <td>0.101403</td>\n",
       "      <td>1.000000</td>\n",
       "      <td>0.411876</td>\n",
       "      <td>0.409971</td>\n",
       "    </tr>\n",
       "    <tr>\n",
       "      <th>LAND_SQUARE_FEET</th>\n",
       "      <td>-0.109146</td>\n",
       "      <td>0.411876</td>\n",
       "      <td>1.000000</td>\n",
       "      <td>0.358305</td>\n",
       "    </tr>\n",
       "    <tr>\n",
       "      <th>SALE_PRICE</th>\n",
       "      <td>0.318634</td>\n",
       "      <td>0.409971</td>\n",
       "      <td>0.358305</td>\n",
       "      <td>1.000000</td>\n",
       "    </tr>\n",
       "  </tbody>\n",
       "</table>\n",
       "</div>"
      ],
      "text/plain": [
       "                   YEAR_BUILT  GROSS_SQUARE_FEET  LAND_SQUARE_FEET  SALE_PRICE\n",
       "YEAR_BUILT           1.000000           0.101403         -0.109146    0.318634\n",
       "GROSS_SQUARE_FEET    0.101403           1.000000          0.411876    0.409971\n",
       "LAND_SQUARE_FEET    -0.109146           0.411876          1.000000    0.358305\n",
       "SALE_PRICE           0.318634           0.409971          0.358305    1.000000"
      ]
     },
     "execution_count": 13,
     "metadata": {},
     "output_type": "execute_result"
    }
   ],
   "source": [
    "REStaten_sf2[['YEAR_BUILT','GROSS_SQUARE_FEET','LAND_SQUARE_FEET','SALE_PRICE']].corr()"
   ]
  },
  {
   "cell_type": "markdown",
   "metadata": {},
   "source": [
    "Q4. Visualize sale_price against gross_square_feet as a scatter plot on regular scale, excluding the outliers (units above 10.000 sqft)"
   ]
  },
  {
   "cell_type": "code",
   "execution_count": 14,
   "metadata": {},
   "outputs": [
    {
     "data": {
      "text/plain": [
       "<matplotlib.axes._subplots.AxesSubplot at 0x7f5d24c89d50>"
      ]
     },
     "execution_count": 14,
     "metadata": {},
     "output_type": "execute_result"
    },
    {
     "data": {
      "image/png": "[encoded data removed]",
      "text/plain": [
       "<matplotlib.figure.Figure at 0x7f5d24c89190>"
      ]
     },
     "metadata": {},
     "output_type": "display_data"
    }
   ],
   "source": [
    "REStaten_sf2[REStaten_sf2['GROSS_SQUARE_FEET']<=10000].plot(kind='scatter',x='GROSS_SQUARE_FEET',y='SALE_PRICE')"
   ]
  },
  {
   "cell_type": "markdown",
   "metadata": {},
   "source": [
    "Q5. Run a regression of duplex price against land area, no intercept"
   ]
  },
  {
   "cell_type": "code",
   "execution_count": 15,
   "metadata": {},
   "outputs": [
    {
     "name": "stdout",
     "output_type": "stream",
     "text": [
      "                            OLS Regression Results                            \n",
      "==============================================================================\n",
      "Dep. Variable:             SALE_PRICE   R-squared:                       0.779\n",
      "Model:                            OLS   Adj. R-squared:                  0.778\n",
      "Method:                 Least Squares   F-statistic:                     4653.\n",
      "Date:                Thu, 20 Sep 2018   Prob (F-statistic):               0.00\n",
      "Time:                        18:09:05   Log-Likelihood:                -18666.\n",
      "No. Observations:                1324   AIC:                         3.733e+04\n",
      "Df Residuals:                    1323   BIC:                         3.734e+04\n",
      "Df Model:                           1                                         \n",
      "Covariance Type:            nonrobust                                         \n",
      "====================================================================================\n",
      "                       coef    std err          t      P>|t|      [95.0% Conf. Int.]\n",
      "------------------------------------------------------------------------------------\n",
      "LAND_SQUARE_FEET   122.6652      1.798     68.210      0.000       119.137   126.193\n",
      "==============================================================================\n",
      "Omnibus:                      452.952   Durbin-Watson:                   1.427\n",
      "Prob(Omnibus):                  0.000   Jarque-Bera (JB):            12099.185\n",
      "Skew:                          -0.992   Prob(JB):                         0.00\n",
      "Kurtosis:                      17.676   Cond. No.                         1.00\n",
      "==============================================================================\n",
      "\n",
      "Warnings:\n",
      "[1] Standard Errors assume that the covariance matrix of the errors is correctly specified.\n"
     ]
    }
   ],
   "source": [
    "lm = smf.ols(formula='SALE_PRICE~LAND_SQUARE_FEET-1', data = REStaten_sf2).fit()\n",
    "print(lm.summary())"
   ]
  },
  {
   "cell_type": "markdown",
   "metadata": {},
   "source": [
    "Q6. Now standardize the sale_price and gross_square_feet by subtracting averages and dividing by standard deviation for both:\n",
    "$$\n",
    "X^*:=(X-E[X])/\\sigma(X)\n",
    "$$\n",
    "Repeat the regression for the standardized sale_price_stand vs gross_square_feet_stand. Compare the regression coefficient against the correlation between sale_price and gross_square_feet. Do you find smth interesting here?"
   ]
  },
  {
   "cell_type": "code",
   "execution_count": 16,
   "metadata": {},
   "outputs": [],
   "source": [
    "sp_mean = REStaten_sf2['SALE_PRICE'].mean()\n",
    "sp_sd = REStaten_sf2['SALE_PRICE'].std()\n",
    "REStaten_sf2['SALE_PRICE_new'] = REStaten_sf2['SALE_PRICE'].map(lambda x:(x-sp_mean)/sp_sd)"
   ]
  },
  {
   "cell_type": "code",
   "execution_count": 17,
   "metadata": {},
   "outputs": [],
   "source": [
    "gsf_mean = REStaten_sf2['GROSS_SQUARE_FEET'].mean()\n",
    "gsf_sd = REStaten_sf2['GROSS_SQUARE_FEET'].std()\n",
    "REStaten_sf2['GROSS_SQUARE_FEET_new'] = REStaten_sf2['GROSS_SQUARE_FEET'].map(lambda x:(x-gsf_mean)/gsf_sd)"
   ]
  },
  {
   "cell_type": "code",
   "execution_count": 18,
   "metadata": {},
   "outputs": [
    {
     "name": "stdout",
     "output_type": "stream",
     "text": [
      "                            OLS Regression Results                            \n",
      "==============================================================================\n",
      "Dep. Variable:         SALE_PRICE_new   R-squared:                       0.168\n",
      "Model:                            OLS   Adj. R-squared:                  0.167\n",
      "Method:                 Least Squares   F-statistic:                     267.3\n",
      "Date:                Thu, 20 Sep 2018   Prob (F-statistic):           7.28e-55\n",
      "Time:                        18:09:23   Log-Likelihood:                -1756.4\n",
      "No. Observations:                1324   AIC:                             3515.\n",
      "Df Residuals:                    1323   BIC:                             3520.\n",
      "Df Model:                           1                                         \n",
      "Covariance Type:            nonrobust                                         \n",
      "=========================================================================================\n",
      "                            coef    std err          t      P>|t|      [95.0% Conf. Int.]\n",
      "-----------------------------------------------------------------------------------------\n",
      "GROSS_SQUARE_FEET_new     0.4100      0.025     16.349      0.000         0.361     0.459\n",
      "==============================================================================\n",
      "Omnibus:                      863.655   Durbin-Watson:                   1.278\n",
      "Prob(Omnibus):                  0.000   Jarque-Bera (JB):            43444.008\n",
      "Skew:                           2.372   Prob(JB):                         0.00\n",
      "Kurtosis:                      30.659   Cond. No.                         1.00\n",
      "==============================================================================\n",
      "\n",
      "Warnings:\n",
      "[1] Standard Errors assume that the covariance matrix of the errors is correctly specified.\n"
     ]
    }
   ],
   "source": [
    "lm = smf.ols(formula='SALE_PRICE_new~GROSS_SQUARE_FEET_new-1', data = REStaten_sf2).fit()\n",
    "print(lm.summary())"
   ]
  },
  {
   "cell_type": "markdown",
   "metadata": {},
   "source": [
    "## Exercise 2. Countries of the world: population density"
   ]
  },
  {
   "cell_type": "markdown",
   "metadata": {},
   "source": [
    "Run a uni-variate linear regression\n",
    "$$\n",
    "Population=w\\cdot Area\n",
    "$$\n",
    "to find the coefficient $w$ representing average population density. "
   ]
  },
  {
   "cell_type": "code",
   "execution_count": 19,
   "metadata": {},
   "outputs": [],
   "source": [
    "#read the data\n",
    "data1=pd.read_csv(\"data/countries.csv\",index_col=0)"
   ]
  },
  {
   "cell_type": "code",
   "execution_count": 20,
   "metadata": {},
   "outputs": [
    {
     "data": {
      "text/html": [
       "<div>\n",
       "<table border=\"1\" class=\"dataframe\">\n",
       "  <thead>\n",
       "    <tr style=\"text-align: right;\">\n",
       "      <th></th>\n",
       "      <th>Region</th>\n",
       "      <th>Population</th>\n",
       "      <th>Area_sqmi</th>\n",
       "      <th>Pop_Density</th>\n",
       "      <th>Coastline_area_ratio</th>\n",
       "      <th>Net_migration</th>\n",
       "      <th>InfantMortality_per1000</th>\n",
       "      <th>GDP_percapita</th>\n",
       "      <th>Literacy_percent</th>\n",
       "      <th>Phones_per_1000</th>\n",
       "      <th>Arable</th>\n",
       "      <th>Crops</th>\n",
       "      <th>Other</th>\n",
       "      <th>Climate</th>\n",
       "      <th>Birthrate</th>\n",
       "      <th>Deathrate</th>\n",
       "      <th>Agriculture</th>\n",
       "      <th>Industry</th>\n",
       "      <th>Service</th>\n",
       "    </tr>\n",
       "    <tr>\n",
       "      <th>Country</th>\n",
       "      <th></th>\n",
       "      <th></th>\n",
       "      <th></th>\n",
       "      <th></th>\n",
       "      <th></th>\n",
       "      <th></th>\n",
       "      <th></th>\n",
       "      <th></th>\n",
       "      <th></th>\n",
       "      <th></th>\n",
       "      <th></th>\n",
       "      <th></th>\n",
       "      <th></th>\n",
       "      <th></th>\n",
       "      <th></th>\n",
       "      <th></th>\n",
       "      <th></th>\n",
       "      <th></th>\n",
       "      <th></th>\n",
       "    </tr>\n",
       "  </thead>\n",
       "  <tbody>\n",
       "    <tr>\n",
       "      <th>Afghanistan</th>\n",
       "      <td>ASIA (EX. NEAR EAST)</td>\n",
       "      <td>31056997</td>\n",
       "      <td>647500</td>\n",
       "      <td>48.0</td>\n",
       "      <td>0.00</td>\n",
       "      <td>23.06</td>\n",
       "      <td>163.07</td>\n",
       "      <td>700.0</td>\n",
       "      <td>36.0</td>\n",
       "      <td>3.2</td>\n",
       "      <td>12.13</td>\n",
       "      <td>0.22</td>\n",
       "      <td>87.65</td>\n",
       "      <td>1.0</td>\n",
       "      <td>46.60</td>\n",
       "      <td>20.34</td>\n",
       "      <td>0.380</td>\n",
       "      <td>0.240</td>\n",
       "      <td>0.380</td>\n",
       "    </tr>\n",
       "    <tr>\n",
       "      <th>Albania</th>\n",
       "      <td>EASTERN EUROPE</td>\n",
       "      <td>3581655</td>\n",
       "      <td>28748</td>\n",
       "      <td>124.6</td>\n",
       "      <td>1.26</td>\n",
       "      <td>-4.93</td>\n",
       "      <td>21.52</td>\n",
       "      <td>4500.0</td>\n",
       "      <td>86.5</td>\n",
       "      <td>71.2</td>\n",
       "      <td>21.09</td>\n",
       "      <td>4.42</td>\n",
       "      <td>74.49</td>\n",
       "      <td>3.0</td>\n",
       "      <td>15.11</td>\n",
       "      <td>5.22</td>\n",
       "      <td>0.232</td>\n",
       "      <td>0.188</td>\n",
       "      <td>0.579</td>\n",
       "    </tr>\n",
       "    <tr>\n",
       "      <th>Algeria</th>\n",
       "      <td>NORTHERN AFRICA</td>\n",
       "      <td>32930091</td>\n",
       "      <td>2381740</td>\n",
       "      <td>13.8</td>\n",
       "      <td>0.04</td>\n",
       "      <td>-0.39</td>\n",
       "      <td>31.00</td>\n",
       "      <td>6000.0</td>\n",
       "      <td>70.0</td>\n",
       "      <td>78.1</td>\n",
       "      <td>3.22</td>\n",
       "      <td>0.25</td>\n",
       "      <td>96.53</td>\n",
       "      <td>1.0</td>\n",
       "      <td>17.14</td>\n",
       "      <td>4.61</td>\n",
       "      <td>0.101</td>\n",
       "      <td>0.600</td>\n",
       "      <td>0.298</td>\n",
       "    </tr>\n",
       "    <tr>\n",
       "      <th>American Samoa</th>\n",
       "      <td>OCEANIA</td>\n",
       "      <td>57794</td>\n",
       "      <td>199</td>\n",
       "      <td>290.4</td>\n",
       "      <td>58.29</td>\n",
       "      <td>-20.71</td>\n",
       "      <td>9.27</td>\n",
       "      <td>8000.0</td>\n",
       "      <td>97.0</td>\n",
       "      <td>259.5</td>\n",
       "      <td>10.00</td>\n",
       "      <td>15.00</td>\n",
       "      <td>75.00</td>\n",
       "      <td>2.0</td>\n",
       "      <td>22.46</td>\n",
       "      <td>3.27</td>\n",
       "      <td>NaN</td>\n",
       "      <td>NaN</td>\n",
       "      <td>NaN</td>\n",
       "    </tr>\n",
       "    <tr>\n",
       "      <th>Andorra</th>\n",
       "      <td>WESTERN EUROPE</td>\n",
       "      <td>71201</td>\n",
       "      <td>468</td>\n",
       "      <td>152.1</td>\n",
       "      <td>0.00</td>\n",
       "      <td>6.60</td>\n",
       "      <td>4.05</td>\n",
       "      <td>19000.0</td>\n",
       "      <td>100.0</td>\n",
       "      <td>497.2</td>\n",
       "      <td>2.22</td>\n",
       "      <td>0.00</td>\n",
       "      <td>97.78</td>\n",
       "      <td>3.0</td>\n",
       "      <td>8.71</td>\n",
       "      <td>6.25</td>\n",
       "      <td>NaN</td>\n",
       "      <td>NaN</td>\n",
       "      <td>NaN</td>\n",
       "    </tr>\n",
       "  </tbody>\n",
       "</table>\n",
       "</div>"
      ],
      "text/plain": [
       "                                              Region  Population  Area_sqmi  \\\n",
       "Country                                                                       \n",
       "Afghanistan            ASIA (EX. NEAR EAST)             31056997     647500   \n",
       "Albania          EASTERN EUROPE                          3581655      28748   \n",
       "Algeria          NORTHERN AFRICA                        32930091    2381740   \n",
       "American Samoa   OCEANIA                                   57794        199   \n",
       "Andorra          WESTERN EUROPE                            71201        468   \n",
       "\n",
       "                 Pop_Density  Coastline_area_ratio  Net_migration  \\\n",
       "Country                                                             \n",
       "Afghanistan             48.0                  0.00          23.06   \n",
       "Albania                124.6                  1.26          -4.93   \n",
       "Algeria                 13.8                  0.04          -0.39   \n",
       "American Samoa         290.4                 58.29         -20.71   \n",
       "Andorra                152.1                  0.00           6.60   \n",
       "\n",
       "                 InfantMortality_per1000  GDP_percapita  Literacy_percent  \\\n",
       "Country                                                                     \n",
       "Afghanistan                       163.07          700.0              36.0   \n",
       "Albania                            21.52         4500.0              86.5   \n",
       "Algeria                            31.00         6000.0              70.0   \n",
       "American Samoa                      9.27         8000.0              97.0   \n",
       "Andorra                             4.05        19000.0             100.0   \n",
       "\n",
       "                 Phones_per_1000  Arable  Crops  Other  Climate  Birthrate  \\\n",
       "Country                                                                      \n",
       "Afghanistan                  3.2   12.13   0.22  87.65      1.0      46.60   \n",
       "Albania                     71.2   21.09   4.42  74.49      3.0      15.11   \n",
       "Algeria                     78.1    3.22   0.25  96.53      1.0      17.14   \n",
       "American Samoa             259.5   10.00  15.00  75.00      2.0      22.46   \n",
       "Andorra                    497.2    2.22   0.00  97.78      3.0       8.71   \n",
       "\n",
       "                 Deathrate  Agriculture  Industry  Service  \n",
       "Country                                                     \n",
       "Afghanistan          20.34        0.380     0.240    0.380  \n",
       "Albania               5.22        0.232     0.188    0.579  \n",
       "Algeria               4.61        0.101     0.600    0.298  \n",
       "American Samoa        3.27          NaN       NaN      NaN  \n",
       "Andorra               6.25          NaN       NaN      NaN  "
      ]
     },
     "execution_count": 20,
     "metadata": {},
     "output_type": "execute_result"
    }
   ],
   "source": [
    "data1.head()"
   ]
  },
  {
   "cell_type": "markdown",
   "metadata": {},
   "source": [
    "Some exploratory analysis"
   ]
  },
  {
   "cell_type": "code",
   "execution_count": 21,
   "metadata": {},
   "outputs": [
    {
     "name": "stderr",
     "output_type": "stream",
     "text": [
      "/usr/local/Anaconda3-5.0.0-Linux-x86_64/envs/PUI2016_Python2/lib/python2.7/site-packages/numpy/lib/function_base.py:3834: RuntimeWarning: Invalid value encountered in percentile\n",
      "  RuntimeWarning)\n"
     ]
    },
    {
     "data": {
      "text/html": [
       "<div>\n",
       "<table border=\"1\" class=\"dataframe\">\n",
       "  <thead>\n",
       "    <tr style=\"text-align: right;\">\n",
       "      <th></th>\n",
       "      <th>Population</th>\n",
       "      <th>Area_sqmi</th>\n",
       "      <th>Pop_Density</th>\n",
       "      <th>Coastline_area_ratio</th>\n",
       "      <th>Net_migration</th>\n",
       "      <th>InfantMortality_per1000</th>\n",
       "      <th>GDP_percapita</th>\n",
       "      <th>Literacy_percent</th>\n",
       "      <th>Phones_per_1000</th>\n",
       "      <th>Arable</th>\n",
       "      <th>Crops</th>\n",
       "      <th>Other</th>\n",
       "      <th>Climate</th>\n",
       "      <th>Birthrate</th>\n",
       "      <th>Deathrate</th>\n",
       "      <th>Agriculture</th>\n",
       "      <th>Industry</th>\n",
       "      <th>Service</th>\n",
       "    </tr>\n",
       "  </thead>\n",
       "  <tbody>\n",
       "    <tr>\n",
       "      <th>count</th>\n",
       "      <td>2.270000e+02</td>\n",
       "      <td>2.270000e+02</td>\n",
       "      <td>227.000000</td>\n",
       "      <td>227.000000</td>\n",
       "      <td>224.000000</td>\n",
       "      <td>224.000000</td>\n",
       "      <td>226.000000</td>\n",
       "      <td>209.000000</td>\n",
       "      <td>223.000000</td>\n",
       "      <td>225.000000</td>\n",
       "      <td>225.000000</td>\n",
       "      <td>225.000000</td>\n",
       "      <td>205.000000</td>\n",
       "      <td>224.000000</td>\n",
       "      <td>223.000000</td>\n",
       "      <td>212.000000</td>\n",
       "      <td>211.000000</td>\n",
       "      <td>212.000000</td>\n",
       "    </tr>\n",
       "    <tr>\n",
       "      <th>mean</th>\n",
       "      <td>2.874028e+07</td>\n",
       "      <td>5.982270e+05</td>\n",
       "      <td>379.047137</td>\n",
       "      <td>21.165330</td>\n",
       "      <td>0.038125</td>\n",
       "      <td>35.506964</td>\n",
       "      <td>9689.823009</td>\n",
       "      <td>82.838278</td>\n",
       "      <td>236.061435</td>\n",
       "      <td>13.797111</td>\n",
       "      <td>4.564222</td>\n",
       "      <td>81.638311</td>\n",
       "      <td>2.139024</td>\n",
       "      <td>22.114732</td>\n",
       "      <td>9.241345</td>\n",
       "      <td>0.150844</td>\n",
       "      <td>0.282711</td>\n",
       "      <td>0.565283</td>\n",
       "    </tr>\n",
       "    <tr>\n",
       "      <th>std</th>\n",
       "      <td>1.178913e+08</td>\n",
       "      <td>1.790282e+06</td>\n",
       "      <td>1660.185825</td>\n",
       "      <td>72.286863</td>\n",
       "      <td>4.889269</td>\n",
       "      <td>35.389899</td>\n",
       "      <td>10049.138513</td>\n",
       "      <td>19.722173</td>\n",
       "      <td>227.991829</td>\n",
       "      <td>13.040402</td>\n",
       "      <td>8.361470</td>\n",
       "      <td>16.140835</td>\n",
       "      <td>0.699397</td>\n",
       "      <td>11.176716</td>\n",
       "      <td>4.990026</td>\n",
       "      <td>0.146798</td>\n",
       "      <td>0.138272</td>\n",
       "      <td>0.165841</td>\n",
       "    </tr>\n",
       "    <tr>\n",
       "      <th>min</th>\n",
       "      <td>7.026000e+03</td>\n",
       "      <td>2.000000e+00</td>\n",
       "      <td>0.000000</td>\n",
       "      <td>0.000000</td>\n",
       "      <td>-20.990000</td>\n",
       "      <td>2.290000</td>\n",
       "      <td>500.000000</td>\n",
       "      <td>17.600000</td>\n",
       "      <td>0.200000</td>\n",
       "      <td>0.000000</td>\n",
       "      <td>0.000000</td>\n",
       "      <td>33.330000</td>\n",
       "      <td>1.000000</td>\n",
       "      <td>7.290000</td>\n",
       "      <td>2.290000</td>\n",
       "      <td>0.000000</td>\n",
       "      <td>0.020000</td>\n",
       "      <td>0.062000</td>\n",
       "    </tr>\n",
       "    <tr>\n",
       "      <th>25%</th>\n",
       "      <td>4.376240e+05</td>\n",
       "      <td>4.647500e+03</td>\n",
       "      <td>29.150000</td>\n",
       "      <td>0.100000</td>\n",
       "      <td>NaN</td>\n",
       "      <td>NaN</td>\n",
       "      <td>NaN</td>\n",
       "      <td>NaN</td>\n",
       "      <td>NaN</td>\n",
       "      <td>NaN</td>\n",
       "      <td>NaN</td>\n",
       "      <td>NaN</td>\n",
       "      <td>NaN</td>\n",
       "      <td>NaN</td>\n",
       "      <td>NaN</td>\n",
       "      <td>NaN</td>\n",
       "      <td>NaN</td>\n",
       "      <td>NaN</td>\n",
       "    </tr>\n",
       "    <tr>\n",
       "      <th>50%</th>\n",
       "      <td>4.786994e+06</td>\n",
       "      <td>8.660000e+04</td>\n",
       "      <td>78.800000</td>\n",
       "      <td>0.730000</td>\n",
       "      <td>NaN</td>\n",
       "      <td>NaN</td>\n",
       "      <td>NaN</td>\n",
       "      <td>NaN</td>\n",
       "      <td>NaN</td>\n",
       "      <td>NaN</td>\n",
       "      <td>NaN</td>\n",
       "      <td>NaN</td>\n",
       "      <td>NaN</td>\n",
       "      <td>NaN</td>\n",
       "      <td>NaN</td>\n",
       "      <td>NaN</td>\n",
       "      <td>NaN</td>\n",
       "      <td>NaN</td>\n",
       "    </tr>\n",
       "    <tr>\n",
       "      <th>75%</th>\n",
       "      <td>1.749777e+07</td>\n",
       "      <td>4.418110e+05</td>\n",
       "      <td>190.150000</td>\n",
       "      <td>10.345000</td>\n",
       "      <td>NaN</td>\n",
       "      <td>NaN</td>\n",
       "      <td>NaN</td>\n",
       "      <td>NaN</td>\n",
       "      <td>NaN</td>\n",
       "      <td>NaN</td>\n",
       "      <td>NaN</td>\n",
       "      <td>NaN</td>\n",
       "      <td>NaN</td>\n",
       "      <td>NaN</td>\n",
       "      <td>NaN</td>\n",
       "      <td>NaN</td>\n",
       "      <td>NaN</td>\n",
       "      <td>NaN</td>\n",
       "    </tr>\n",
       "    <tr>\n",
       "      <th>max</th>\n",
       "      <td>1.313974e+09</td>\n",
       "      <td>1.707520e+07</td>\n",
       "      <td>16271.500000</td>\n",
       "      <td>870.660000</td>\n",
       "      <td>23.060000</td>\n",
       "      <td>191.190000</td>\n",
       "      <td>55100.000000</td>\n",
       "      <td>100.000000</td>\n",
       "      <td>1035.600000</td>\n",
       "      <td>62.110000</td>\n",
       "      <td>50.680000</td>\n",
       "      <td>100.000000</td>\n",
       "      <td>4.000000</td>\n",
       "      <td>50.730000</td>\n",
       "      <td>29.740000</td>\n",
       "      <td>0.769000</td>\n",
       "      <td>0.906000</td>\n",
       "      <td>0.954000</td>\n",
       "    </tr>\n",
       "  </tbody>\n",
       "</table>\n",
       "</div>"
      ],
      "text/plain": [
       "         Population     Area_sqmi   Pop_Density  Coastline_area_ratio  \\\n",
       "count  2.270000e+02  2.270000e+02    227.000000            227.000000   \n",
       "mean   2.874028e+07  5.982270e+05    379.047137             21.165330   \n",
       "std    1.178913e+08  1.790282e+06   1660.185825             72.286863   \n",
       "min    7.026000e+03  2.000000e+00      0.000000              0.000000   \n",
       "25%    4.376240e+05  4.647500e+03     29.150000              0.100000   \n",
       "50%    4.786994e+06  8.660000e+04     78.800000              0.730000   \n",
       "75%    1.749777e+07  4.418110e+05    190.150000             10.345000   \n",
       "max    1.313974e+09  1.707520e+07  16271.500000            870.660000   \n",
       "\n",
       "       Net_migration  InfantMortality_per1000  GDP_percapita  \\\n",
       "count     224.000000               224.000000     226.000000   \n",
       "mean        0.038125                35.506964    9689.823009   \n",
       "std         4.889269                35.389899   10049.138513   \n",
       "min       -20.990000                 2.290000     500.000000   \n",
       "25%              NaN                      NaN            NaN   \n",
       "50%              NaN                      NaN            NaN   \n",
       "75%              NaN                      NaN            NaN   \n",
       "max        23.060000               191.190000   55100.000000   \n",
       "\n",
       "       Literacy_percent  Phones_per_1000      Arable       Crops       Other  \\\n",
       "count        209.000000       223.000000  225.000000  225.000000  225.000000   \n",
       "mean          82.838278       236.061435   13.797111    4.564222   81.638311   \n",
       "std           19.722173       227.991829   13.040402    8.361470   16.140835   \n",
       "min           17.600000         0.200000    0.000000    0.000000   33.330000   \n",
       "25%                 NaN              NaN         NaN         NaN         NaN   \n",
       "50%                 NaN              NaN         NaN         NaN         NaN   \n",
       "75%                 NaN              NaN         NaN         NaN         NaN   \n",
       "max          100.000000      1035.600000   62.110000   50.680000  100.000000   \n",
       "\n",
       "          Climate   Birthrate   Deathrate  Agriculture    Industry     Service  \n",
       "count  205.000000  224.000000  223.000000   212.000000  211.000000  212.000000  \n",
       "mean     2.139024   22.114732    9.241345     0.150844    0.282711    0.565283  \n",
       "std      0.699397   11.176716    4.990026     0.146798    0.138272    0.165841  \n",
       "min      1.000000    7.290000    2.290000     0.000000    0.020000    0.062000  \n",
       "25%           NaN         NaN         NaN          NaN         NaN         NaN  \n",
       "50%           NaN         NaN         NaN          NaN         NaN         NaN  \n",
       "75%           NaN         NaN         NaN          NaN         NaN         NaN  \n",
       "max      4.000000   50.730000   29.740000     0.769000    0.906000    0.954000  "
      ]
     },
     "execution_count": 21,
     "metadata": {},
     "output_type": "execute_result"
    }
   ],
   "source": [
    "data1.describe()"
   ]
  },
  {
   "cell_type": "code",
   "execution_count": 22,
   "metadata": {},
   "outputs": [
    {
     "name": "stdout",
     "output_type": "stream",
     "text": [
      "6524044551\n"
     ]
    }
   ],
   "source": [
    "#Total population of all 227 countries:\n",
    "print data1.Population.sum()"
   ]
  },
  {
   "cell_type": "code",
   "execution_count": 23,
   "metadata": {},
   "outputs": [
    {
     "name": "stdout",
     "output_type": "stream",
     "text": [
      "135797519\n"
     ]
    }
   ],
   "source": [
    "#Total area of all 227 countries:\n",
    "print data1.Area_sqmi.sum()"
   ]
  },
  {
   "cell_type": "code",
   "execution_count": 24,
   "metadata": {},
   "outputs": [
    {
     "name": "stdout",
     "output_type": "stream",
     "text": [
      "9689.82300885\n"
     ]
    }
   ],
   "source": [
    "#Avg gdp percapita 227 countries:\n",
    "print data1.GDP_percapita.mean()"
   ]
  },
  {
   "cell_type": "markdown",
   "metadata": {},
   "source": [
    "Q1. Find top countries by area, density and GDP"
   ]
  },
  {
   "cell_type": "markdown",
   "metadata": {},
   "source": [
    "Find the top county by population, area, density, GDP per capita"
   ]
  },
  {
   "cell_type": "code",
   "execution_count": 26,
   "metadata": {},
   "outputs": [
    {
     "data": {
      "text/plain": [
       "Region                     ASIA (EX. NEAR EAST)         \n",
       "Population                                    1313973713\n",
       "Area_sqmi                                        9596960\n",
       "Pop_Density                                        136.9\n",
       "Coastline_area_ratio                                0.15\n",
       "Net_migration                                       -0.4\n",
       "InfantMortality_per1000                            24.18\n",
       "GDP_percapita                                       5000\n",
       "Literacy_percent                                    90.9\n",
       "Phones_per_1000                                    266.7\n",
       "Arable                                              15.4\n",
       "Crops                                               1.25\n",
       "Other                                              83.35\n",
       "Climate                                              1.5\n",
       "Birthrate                                          13.25\n",
       "Deathrate                                           6.97\n",
       "Agriculture                                        0.125\n",
       "Industry                                           0.473\n",
       "Service                                            0.403\n",
       "Name: China , dtype: object"
      ]
     },
     "execution_count": 26,
     "metadata": {},
     "output_type": "execute_result"
    }
   ],
   "source": [
    "data1.loc[data1.Population.idxmax()]"
   ]
  },
  {
   "cell_type": "code",
   "execution_count": 27,
   "metadata": {},
   "outputs": [
    {
     "data": {
      "text/plain": [
       "Region                     C.W. OF IND. STATES \n",
       "Population                            142893540\n",
       "Area_sqmi                              17075200\n",
       "Pop_Density                                 8.4\n",
       "Coastline_area_ratio                       0.22\n",
       "Net_migration                              1.02\n",
       "InfantMortality_per1000                   15.39\n",
       "GDP_percapita                              8900\n",
       "Literacy_percent                           99.6\n",
       "Phones_per_1000                           280.6\n",
       "Arable                                     7.33\n",
       "Crops                                      0.11\n",
       "Other                                     92.56\n",
       "Climate                                     NaN\n",
       "Birthrate                                  9.95\n",
       "Deathrate                                 14.65\n",
       "Agriculture                               0.054\n",
       "Industry                                  0.371\n",
       "Service                                   0.575\n",
       "Name: Russia , dtype: object"
      ]
     },
     "execution_count": 27,
     "metadata": {},
     "output_type": "execute_result"
    }
   ],
   "source": [
    "data1.loc[data1.Area_sqmi.idxmax()]"
   ]
  },
  {
   "cell_type": "code",
   "execution_count": 28,
   "metadata": {},
   "outputs": [
    {
     "data": {
      "text/plain": [
       "Region                     WESTERN EUROPE                     \n",
       "Population                                               32543\n",
       "Area_sqmi                                                    2\n",
       "Pop_Density                                            16271.5\n",
       "Coastline_area_ratio                                       205\n",
       "Net_migration                                             7.75\n",
       "InfantMortality_per1000                                   5.43\n",
       "GDP_percapita                                            27000\n",
       "Literacy_percent                                            99\n",
       "Phones_per_1000                                         1035.6\n",
       "Arable                                                       0\n",
       "Crops                                                        0\n",
       "Other                                                      100\n",
       "Climate                                                    NaN\n",
       "Birthrate                                                 9.19\n",
       "Deathrate                                                12.91\n",
       "Agriculture                                               0.17\n",
       "Industry                                                   NaN\n",
       "Service                                                    NaN\n",
       "Name: Monaco , dtype: object"
      ]
     },
     "execution_count": 28,
     "metadata": {},
     "output_type": "execute_result"
    }
   ],
   "source": [
    "data1.loc[data1.Pop_Density.idxmax()]"
   ]
  },
  {
   "cell_type": "code",
   "execution_count": 29,
   "metadata": {},
   "outputs": [
    {
     "data": {
      "text/plain": [
       "Region                     WESTERN EUROPE                     \n",
       "Population                                              474413\n",
       "Area_sqmi                                                 2586\n",
       "Pop_Density                                              183.5\n",
       "Coastline_area_ratio                                         0\n",
       "Net_migration                                             8.97\n",
       "InfantMortality_per1000                                   4.81\n",
       "GDP_percapita                                            55100\n",
       "Literacy_percent                                           100\n",
       "Phones_per_1000                                          515.4\n",
       "Arable                                                   23.28\n",
       "Crops                                                      0.4\n",
       "Other                                                    76.32\n",
       "Climate                                                    NaN\n",
       "Birthrate                                                11.94\n",
       "Deathrate                                                 8.41\n",
       "Agriculture                                               0.01\n",
       "Industry                                                  0.13\n",
       "Service                                                   0.86\n",
       "Name: Luxembourg , dtype: object"
      ]
     },
     "execution_count": 29,
     "metadata": {},
     "output_type": "execute_result"
    }
   ],
   "source": [
    "data1.loc[data1.GDP_percapita.idxmax()]"
   ]
  },
  {
   "cell_type": "markdown",
   "metadata": {},
   "source": [
    "Q2. Plot population vs area, log-scale"
   ]
  },
  {
   "cell_type": "code",
   "execution_count": 30,
   "metadata": {},
   "outputs": [
    {
     "data": {
      "text/plain": [
       "<matplotlib.axes._subplots.AxesSubplot at 0x7f5d5ae7a9d0>"
      ]
     },
     "execution_count": 30,
     "metadata": {},
     "output_type": "execute_result"
    },
    {
     "data": {
      "image/png": "[encoded data removed]",
      "text/plain": [
       "<matplotlib.figure.Figure at 0x7f5d5ae6ec50>"
      ]
     },
     "metadata": {},
     "output_type": "display_data"
    }
   ],
   "source": [
    "data1.plot(y='Population',x='Area_sqmi',kind='scatter',logx=True,logy=True)"
   ]
  },
  {
   "cell_type": "markdown",
   "metadata": {
    "collapsed": true
   },
   "source": [
    "Q3. Find the average density by performing a regression of population vs area without an intercept"
   ]
  },
  {
   "cell_type": "code",
   "execution_count": 31,
   "metadata": {},
   "outputs": [
    {
     "name": "stdout",
     "output_type": "stream",
     "text": [
      "                            OLS Regression Results                            \n",
      "==============================================================================\n",
      "Dep. Variable:             Population   R-squared:                       0.258\n",
      "Model:                            OLS   Adj. R-squared:                  0.255\n",
      "Method:                 Least Squares   F-statistic:                     78.73\n",
      "Date:                Thu, 20 Sep 2018   Prob (F-statistic):           2.21e-16\n",
      "Time:                        18:11:12   Log-Likelihood:                -4513.1\n",
      "No. Observations:                 227   AIC:                             9028.\n",
      "Df Residuals:                     226   BIC:                             9032.\n",
      "Df Model:                           1                                         \n",
      "Covariance Type:            nonrobust                                         \n",
      "==============================================================================\n",
      "                 coef    std err          t      P>|t|      [95.0% Conf. Int.]\n",
      "------------------------------------------------------------------------------\n",
      "Area_sqmi     32.6726      3.682      8.873      0.000        25.417    39.928\n",
      "==============================================================================\n",
      "Omnibus:                      342.310   Durbin-Watson:                   1.863\n",
      "Prob(Omnibus):                  0.000   Jarque-Bera (JB):            48233.858\n",
      "Skew:                           7.087   Prob(JB):                         0.00\n",
      "Kurtosis:                      72.991   Cond. No.                         1.00\n",
      "==============================================================================\n",
      "\n",
      "Warnings:\n",
      "[1] Standard Errors assume that the covariance matrix of the errors is correctly specified.\n"
     ]
    }
   ],
   "source": [
    "lm = smf.ols(formula='Population~Area_sqmi-1', data = data1).fit()\n",
    "print(lm.summary())"
   ]
  },
  {
   "cell_type": "markdown",
   "metadata": {},
   "source": [
    "Q4. Plot the fitted regression line on original data points"
   ]
  },
  {
   "cell_type": "code",
   "execution_count": 32,
   "metadata": {},
   "outputs": [
    {
     "data": {
      "text/plain": [
       "[<matplotlib.lines.Line2D at 0x7f5d5ab0b310>]"
      ]
     },
     "execution_count": 32,
     "metadata": {},
     "output_type": "execute_result"
    },
    {
     "data": {
      "image/png": "[encoded data removed]",
      "text/plain": [
       "<matplotlib.figure.Figure at 0x7f5d5ab56190>"
      ]
     },
     "metadata": {},
     "output_type": "display_data"
    }
   ],
   "source": [
    "data1['Density'] = lm.predict()\n",
    "data1.plot(y='Population',x='Area_sqmi',kind='scatter',logx=True,logy=True)\n",
    "plt.plot(data1.Area_sqmi,data1.Density,'r-')"
   ]
  },
  {
   "cell_type": "code",
   "execution_count": null,
   "metadata": {},
   "outputs": [],
   "source": []
  }
 ],
 "metadata": {
  "anaconda-cloud": {},
  "kernelspec": {
   "display_name": "PUI2016_Python2",
   "language": "python",
   "name": "pui2016_python2"
  },
  "language_info": {
   "codemirror_mode": {
    "name": "ipython",
    "version": 2
   },
   "file_extension": ".py",
   "mimetype": "text/x-python",
   "name": "python",
   "nbconvert_exporter": "python",
   "pygments_lexer": "ipython2",
   "version": "2.7.12"
  }
 },
 "nbformat": 4,
 "nbformat_minor": 1
}
